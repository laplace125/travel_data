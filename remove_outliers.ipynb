{
 "cells": [
  {
   "cell_type": "code",
   "execution_count": 1,
   "id": "21b7ef21",
   "metadata": {},
   "outputs": [],
   "source": [
    "import pandas as pd\n",
    "import numpy as np\n",
    "import matplotlib.pyplot as plt"
   ]
  },
  {
   "cell_type": "code",
   "execution_count": 2,
   "id": "35507642",
   "metadata": {},
   "outputs": [],
   "source": [
    "data = pd.read_excel('Travelpac_Clean_data.xlsx', 'Sheet1')"
   ]
  },
  {
   "cell_type": "code",
   "execution_count": 3,
   "id": "e6bab292",
   "metadata": {},
   "outputs": [
    {
     "data": {
      "text/html": [
       "<div>\n",
       "<style scoped>\n",
       "    .dataframe tbody tr th:only-of-type {\n",
       "        vertical-align: middle;\n",
       "    }\n",
       "\n",
       "    .dataframe tbody tr th {\n",
       "        vertical-align: top;\n",
       "    }\n",
       "\n",
       "    .dataframe thead th {\n",
       "        text-align: right;\n",
       "    }\n",
       "</style>\n",
       "<table border=\"1\" class=\"dataframe\">\n",
       "  <thead>\n",
       "    <tr style=\"text-align: right;\">\n",
       "      <th></th>\n",
       "      <th>Year</th>\n",
       "      <th>visits</th>\n",
       "      <th>nights</th>\n",
       "      <th>Amount_Spent</th>\n",
       "    </tr>\n",
       "  </thead>\n",
       "  <tbody>\n",
       "    <tr>\n",
       "      <th>count</th>\n",
       "      <td>404775.000000</td>\n",
       "      <td>404775.000000</td>\n",
       "      <td>4.047750e+05</td>\n",
       "      <td>4.047750e+05</td>\n",
       "    </tr>\n",
       "    <tr>\n",
       "      <th>mean</th>\n",
       "      <td>2014.175643</td>\n",
       "      <td>3073.866575</td>\n",
       "      <td>2.965127e+04</td>\n",
       "      <td>1.904861e+06</td>\n",
       "    </tr>\n",
       "    <tr>\n",
       "      <th>std</th>\n",
       "      <td>3.470207</td>\n",
       "      <td>6867.372082</td>\n",
       "      <td>6.978938e+04</td>\n",
       "      <td>4.974569e+06</td>\n",
       "    </tr>\n",
       "    <tr>\n",
       "      <th>min</th>\n",
       "      <td>2009.000000</td>\n",
       "      <td>0.087506</td>\n",
       "      <td>0.000000e+00</td>\n",
       "      <td>0.000000e+00</td>\n",
       "    </tr>\n",
       "    <tr>\n",
       "      <th>25%</th>\n",
       "      <td>2011.000000</td>\n",
       "      <td>746.828598</td>\n",
       "      <td>3.513249e+03</td>\n",
       "      <td>2.157256e+05</td>\n",
       "    </tr>\n",
       "    <tr>\n",
       "      <th>50%</th>\n",
       "      <td>2014.000000</td>\n",
       "      <td>1399.628708</td>\n",
       "      <td>1.018403e+04</td>\n",
       "      <td>6.410333e+05</td>\n",
       "    </tr>\n",
       "    <tr>\n",
       "      <th>75%</th>\n",
       "      <td>2017.000000</td>\n",
       "      <td>2992.012832</td>\n",
       "      <td>2.781308e+04</td>\n",
       "      <td>1.754846e+06</td>\n",
       "    </tr>\n",
       "    <tr>\n",
       "      <th>max</th>\n",
       "      <td>2021.000000</td>\n",
       "      <td>256190.202957</td>\n",
       "      <td>2.788350e+06</td>\n",
       "      <td>3.660149e+08</td>\n",
       "    </tr>\n",
       "  </tbody>\n",
       "</table>\n",
       "</div>"
      ],
      "text/plain": [
       "                Year         visits        nights  Amount_Spent\n",
       "count  404775.000000  404775.000000  4.047750e+05  4.047750e+05\n",
       "mean     2014.175643    3073.866575  2.965127e+04  1.904861e+06\n",
       "std         3.470207    6867.372082  6.978938e+04  4.974569e+06\n",
       "min      2009.000000       0.087506  0.000000e+00  0.000000e+00\n",
       "25%      2011.000000     746.828598  3.513249e+03  2.157256e+05\n",
       "50%      2014.000000    1399.628708  1.018403e+04  6.410333e+05\n",
       "75%      2017.000000    2992.012832  2.781308e+04  1.754846e+06\n",
       "max      2021.000000  256190.202957  2.788350e+06  3.660149e+08"
      ]
     },
     "execution_count": 3,
     "metadata": {},
     "output_type": "execute_result"
    }
   ],
   "source": [
    "#See stats about the continuous variables\n",
    "data.describe()"
   ]
  },
  {
   "cell_type": "code",
   "execution_count": 4,
   "id": "0a6a7ddd",
   "metadata": {},
   "outputs": [
    {
     "data": {
      "text/html": [
       "<div>\n",
       "<style scoped>\n",
       "    .dataframe tbody tr th:only-of-type {\n",
       "        vertical-align: middle;\n",
       "    }\n",
       "\n",
       "    .dataframe tbody tr th {\n",
       "        vertical-align: top;\n",
       "    }\n",
       "\n",
       "    .dataframe thead th {\n",
       "        text-align: right;\n",
       "    }\n",
       "</style>\n",
       "<table border=\"1\" class=\"dataframe\">\n",
       "  <thead>\n",
       "    <tr style=\"text-align: right;\">\n",
       "      <th></th>\n",
       "      <th>Year</th>\n",
       "      <th>quarter</th>\n",
       "      <th>where_contact_lives</th>\n",
       "      <th>mode</th>\n",
       "      <th>country</th>\n",
       "      <th>purpose</th>\n",
       "      <th>Holiday_Package</th>\n",
       "      <th>Age</th>\n",
       "      <th>Sex</th>\n",
       "      <th>Duration_of_Visit</th>\n",
       "      <th>visits</th>\n",
       "      <th>nights</th>\n",
       "      <th>Amount_Spent</th>\n",
       "    </tr>\n",
       "  </thead>\n",
       "  <tbody>\n",
       "    <tr>\n",
       "      <th>0</th>\n",
       "      <td>2009</td>\n",
       "      <td>Jan-Mar</td>\n",
       "      <td>UK residents</td>\n",
       "      <td>Air</td>\n",
       "      <td>Austria</td>\n",
       "      <td>Holiday</td>\n",
       "      <td>Independent</td>\n",
       "      <td>0-15</td>\n",
       "      <td>Male</td>\n",
       "      <td>4-13 nights</td>\n",
       "      <td>1600.680374</td>\n",
       "      <td>11204.762616</td>\n",
       "      <td>1.103402e+06</td>\n",
       "    </tr>\n",
       "    <tr>\n",
       "      <th>1</th>\n",
       "      <td>2009</td>\n",
       "      <td>Jan-Mar</td>\n",
       "      <td>UK residents</td>\n",
       "      <td>Air</td>\n",
       "      <td>Austria</td>\n",
       "      <td>Holiday</td>\n",
       "      <td>Independent</td>\n",
       "      <td>0-15</td>\n",
       "      <td>Female</td>\n",
       "      <td>4-13 nights</td>\n",
       "      <td>1600.680374</td>\n",
       "      <td>11204.762616</td>\n",
       "      <td>1.125278e+06</td>\n",
       "    </tr>\n",
       "    <tr>\n",
       "      <th>2</th>\n",
       "      <td>2009</td>\n",
       "      <td>Jan-Mar</td>\n",
       "      <td>UK residents</td>\n",
       "      <td>Air</td>\n",
       "      <td>Austria</td>\n",
       "      <td>Holiday</td>\n",
       "      <td>Independent</td>\n",
       "      <td>16-24</td>\n",
       "      <td>Male</td>\n",
       "      <td>4-13 nights</td>\n",
       "      <td>3064.743058</td>\n",
       "      <td>20873.377956</td>\n",
       "      <td>1.622982e+06</td>\n",
       "    </tr>\n",
       "    <tr>\n",
       "      <th>3</th>\n",
       "      <td>2009</td>\n",
       "      <td>Jan-Mar</td>\n",
       "      <td>UK residents</td>\n",
       "      <td>Air</td>\n",
       "      <td>Austria</td>\n",
       "      <td>Holiday</td>\n",
       "      <td>Independent</td>\n",
       "      <td>16-24</td>\n",
       "      <td>Female</td>\n",
       "      <td>4-13 nights</td>\n",
       "      <td>2702.755561</td>\n",
       "      <td>12411.702616</td>\n",
       "      <td>1.164191e+06</td>\n",
       "    </tr>\n",
       "    <tr>\n",
       "      <th>4</th>\n",
       "      <td>2009</td>\n",
       "      <td>Jan-Mar</td>\n",
       "      <td>UK residents</td>\n",
       "      <td>Air</td>\n",
       "      <td>Austria</td>\n",
       "      <td>Holiday</td>\n",
       "      <td>Independent</td>\n",
       "      <td>16-24</td>\n",
       "      <td>Female</td>\n",
       "      <td>14-27 nights</td>\n",
       "      <td>525.351507</td>\n",
       "      <td>7354.921102</td>\n",
       "      <td>7.633357e+05</td>\n",
       "    </tr>\n",
       "  </tbody>\n",
       "</table>\n",
       "</div>"
      ],
      "text/plain": [
       "   Year  quarter where_contact_lives mode  country  purpose Holiday_Package  \\\n",
       "0  2009  Jan-Mar        UK residents  Air  Austria  Holiday     Independent   \n",
       "1  2009  Jan-Mar        UK residents  Air  Austria  Holiday     Independent   \n",
       "2  2009  Jan-Mar        UK residents  Air  Austria  Holiday     Independent   \n",
       "3  2009  Jan-Mar        UK residents  Air  Austria  Holiday     Independent   \n",
       "4  2009  Jan-Mar        UK residents  Air  Austria  Holiday     Independent   \n",
       "\n",
       "     Age     Sex Duration_of_Visit       visits        nights  Amount_Spent  \n",
       "0   0-15    Male       4-13 nights  1600.680374  11204.762616  1.103402e+06  \n",
       "1   0-15  Female       4-13 nights  1600.680374  11204.762616  1.125278e+06  \n",
       "2  16-24    Male       4-13 nights  3064.743058  20873.377956  1.622982e+06  \n",
       "3  16-24  Female       4-13 nights  2702.755561  12411.702616  1.164191e+06  \n",
       "4  16-24  Female      14-27 nights   525.351507   7354.921102  7.633357e+05  "
      ]
     },
     "execution_count": 4,
     "metadata": {},
     "output_type": "execute_result"
    }
   ],
   "source": [
    "data.head()"
   ]
  },
  {
   "cell_type": "code",
   "execution_count": 5,
   "id": "f0331a9b",
   "metadata": {},
   "outputs": [
    {
     "data": {
      "text/plain": [
       "(404775, 13)"
      ]
     },
     "execution_count": 5,
     "metadata": {},
     "output_type": "execute_result"
    }
   ],
   "source": [
    "data.shape"
   ]
  },
  {
   "cell_type": "code",
   "execution_count": 6,
   "id": "84a5a32c",
   "metadata": {},
   "outputs": [
    {
     "data": {
      "image/png": "[encoded data removed]",
      "text/plain": [
       "<Figure size 432x288 with 1 Axes>"
      ]
     },
     "metadata": {
      "needs_background": "light"
     },
     "output_type": "display_data"
    },
    {
     "data": {
      "image/png": "[encoded data removed]",
      "text/plain": [
       "<Figure size 432x288 with 1 Axes>"
      ]
     },
     "metadata": {
      "needs_background": "light"
     },
     "output_type": "display_data"
    },
    {
     "data": {
      "image/png": "[encoded data removed]",
      "text/plain": [
       "<Figure size 432x288 with 1 Axes>"
      ]
     },
     "metadata": {
      "needs_background": "light"
     },
     "output_type": "display_data"
    }
   ],
   "source": [
    "#Separate the continuous variables\n",
    "visits_data = data['visits']\n",
    "nights_data = data['nights']\n",
    "amount_data = data['Amount_Spent']\n",
    "\n",
    "#Plot histograms\n",
    "plt.hist(visits_data,bins=50)\n",
    "plt.title(\"Distribution of number of visits\")\n",
    "plt.xlabel(\"No. of visits\")\n",
    "plt.ylabel(\"Frequency\")\n",
    "plt.show()\n",
    "\n",
    "plt.hist(nights_data,bins=50)\n",
    "plt.title(\"Distribution of nights of stay\")\n",
    "plt.xlabel(\"Nights of stay\")\n",
    "plt.xticks(rotation='vertical')\n",
    "plt.ylabel(\"Frequency\")\n",
    "plt.show()\n",
    "\n",
    "plt.hist(amount_data,bins=100)\n",
    "plt.title(\"Distribution of total spend\")\n",
    "plt.xlabel(\"Total Spend\")\n",
    "plt.ylabel(\"Frequency\")\n",
    "plt.show()"
   ]
  },
  {
   "cell_type": "code",
   "execution_count": 7,
   "id": "0c05ae60",
   "metadata": {},
   "outputs": [
    {
     "data": {
      "image/png": "[encoded data removed]",
      "text/plain": [
       "<Figure size 432x288 with 1 Axes>"
      ]
     },
     "metadata": {
      "needs_background": "light"
     },
     "output_type": "display_data"
    },
    {
     "data": {
      "image/png": "[encoded data removed]",
      "text/plain": [
       "<Figure size 432x288 with 1 Axes>"
      ]
     },
     "metadata": {
      "needs_background": "light"
     },
     "output_type": "display_data"
    },
    {
     "data": {
      "image/png": "[encoded data removed]",
      "text/plain": [
       "<Figure size 432x288 with 1 Axes>"
      ]
     },
     "metadata": {
      "needs_background": "light"
     },
     "output_type": "display_data"
    }
   ],
   "source": [
    "data.boxplot(column=['visits'], return_type='axes')\n",
    "plt.title('Boxplot for Visits Variable')\n",
    "plt.show()\n",
    "\n",
    "data.boxplot(column=['nights'], return_type='axes')\n",
    "plt.title('Boxplot for Nights Variable')\n",
    "plt.show()\n",
    "\n",
    "data.boxplot(column=['Amount_Spent'], return_type='axes')\n",
    "plt.title('Boxplot for Spend Variable')\n",
    "plt.show()"
   ]
  },
  {
   "cell_type": "code",
   "execution_count": 8,
   "id": "39f26df0",
   "metadata": {},
   "outputs": [
    {
     "name": "stdout",
     "output_type": "stream",
     "text": [
      "            visits         nights  Amount_Spent\n",
      "0.05    298.025801     365.397141  2.094406e+04\n",
      "0.95  10439.222771  116582.790814  7.232096e+06\n"
     ]
    }
   ],
   "source": [
    "filter_outliers = data[['visits', 'nights', 'Amount_Spent']]\n",
    "\n",
    "low = .05\n",
    "high = .95\n",
    "quant_outlier = filter_outliers.quantile([low, high])\n",
    "\n",
    "print(quant_outlier)"
   ]
  },
  {
   "cell_type": "code",
   "execution_count": 9,
   "id": "fe451a1b",
   "metadata": {},
   "outputs": [],
   "source": [
    "#remove all rows that are considered outlier (underneath 5th and 95th percentile) from all columns\n",
    "filtered_outlier = filter_outliers.apply(lambda x: x[(x>quant_outlier.loc[low,x.name]) & \n",
    "                                    (x < quant_outlier.loc[high,x.name])], axis=0)"
   ]
  },
  {
   "cell_type": "code",
   "execution_count": 10,
   "id": "9d612513",
   "metadata": {},
   "outputs": [
    {
     "data": {
      "text/html": [
       "<div>\n",
       "<style scoped>\n",
       "    .dataframe tbody tr th:only-of-type {\n",
       "        vertical-align: middle;\n",
       "    }\n",
       "\n",
       "    .dataframe tbody tr th {\n",
       "        vertical-align: top;\n",
       "    }\n",
       "\n",
       "    .dataframe thead th {\n",
       "        text-align: right;\n",
       "    }\n",
       "</style>\n",
       "<table border=\"1\" class=\"dataframe\">\n",
       "  <thead>\n",
       "    <tr style=\"text-align: right;\">\n",
       "      <th></th>\n",
       "      <th>visits</th>\n",
       "      <th>nights</th>\n",
       "      <th>Amount_Spent</th>\n",
       "    </tr>\n",
       "  </thead>\n",
       "  <tbody>\n",
       "    <tr>\n",
       "      <th>count</th>\n",
       "      <td>364297.000000</td>\n",
       "      <td>364297.000000</td>\n",
       "      <td>3.642970e+05</td>\n",
       "    </tr>\n",
       "    <tr>\n",
       "      <th>mean</th>\n",
       "      <td>2147.651845</td>\n",
       "      <td>19060.455453</td>\n",
       "      <td>1.195707e+06</td>\n",
       "    </tr>\n",
       "    <tr>\n",
       "      <th>std</th>\n",
       "      <td>1997.390946</td>\n",
       "      <td>22553.416426</td>\n",
       "      <td>1.412964e+06</td>\n",
       "    </tr>\n",
       "    <tr>\n",
       "      <th>min</th>\n",
       "      <td>298.030430</td>\n",
       "      <td>365.419436</td>\n",
       "      <td>2.094444e+04</td>\n",
       "    </tr>\n",
       "    <tr>\n",
       "      <th>25%</th>\n",
       "      <td>797.185146</td>\n",
       "      <td>3981.155598</td>\n",
       "      <td>2.455535e+05</td>\n",
       "    </tr>\n",
       "    <tr>\n",
       "      <th>50%</th>\n",
       "      <td>1399.628708</td>\n",
       "      <td>10184.030619</td>\n",
       "      <td>6.410333e+05</td>\n",
       "    </tr>\n",
       "    <tr>\n",
       "      <th>75%</th>\n",
       "      <td>2726.492982</td>\n",
       "      <td>24829.716238</td>\n",
       "      <td>1.568400e+06</td>\n",
       "    </tr>\n",
       "    <tr>\n",
       "      <th>max</th>\n",
       "      <td>10439.190722</td>\n",
       "      <td>116582.785351</td>\n",
       "      <td>7.232046e+06</td>\n",
       "    </tr>\n",
       "  </tbody>\n",
       "</table>\n",
       "</div>"
      ],
      "text/plain": [
       "              visits         nights  Amount_Spent\n",
       "count  364297.000000  364297.000000  3.642970e+05\n",
       "mean     2147.651845   19060.455453  1.195707e+06\n",
       "std      1997.390946   22553.416426  1.412964e+06\n",
       "min       298.030430     365.419436  2.094444e+04\n",
       "25%       797.185146    3981.155598  2.455535e+05\n",
       "50%      1399.628708   10184.030619  6.410333e+05\n",
       "75%      2726.492982   24829.716238  1.568400e+06\n",
       "max     10439.190722  116582.785351  7.232046e+06"
      ]
     },
     "execution_count": 10,
     "metadata": {},
     "output_type": "execute_result"
    }
   ],
   "source": [
    "#Now we have removed all rows underneath the 5th and the 95th percentile\n",
    "filtered_outlier.describe()"
   ]
  },
  {
   "cell_type": "code",
   "execution_count": 11,
   "id": "3236c082",
   "metadata": {},
   "outputs": [],
   "source": [
    "#Select the columns to join\n",
    "cols_to_use = data.columns.difference(filtered_outlier.columns)\n",
    "#Join the continuous variables with rest of data\n",
    "filt_outliers = pd.concat([data[cols_to_use], filtered_outlier], axis=1, join='outer') "
   ]
  },
  {
   "cell_type": "code",
   "execution_count": 12,
   "id": "b26ba0e1",
   "metadata": {},
   "outputs": [],
   "source": [
    "#drop any rows with removed outliers\n",
    "filt_outliers = filt_outliers.dropna(axis=0, how='any')"
   ]
  },
  {
   "cell_type": "code",
   "execution_count": 13,
   "id": "bc37677b",
   "metadata": {},
   "outputs": [
    {
     "data": {
      "text/html": [
       "<div>\n",
       "<style scoped>\n",
       "    .dataframe tbody tr th:only-of-type {\n",
       "        vertical-align: middle;\n",
       "    }\n",
       "\n",
       "    .dataframe tbody tr th {\n",
       "        vertical-align: top;\n",
       "    }\n",
       "\n",
       "    .dataframe thead th {\n",
       "        text-align: right;\n",
       "    }\n",
       "</style>\n",
       "<table border=\"1\" class=\"dataframe\">\n",
       "  <thead>\n",
       "    <tr style=\"text-align: right;\">\n",
       "      <th></th>\n",
       "      <th>Age</th>\n",
       "      <th>Duration_of_Visit</th>\n",
       "      <th>Holiday_Package</th>\n",
       "      <th>Sex</th>\n",
       "      <th>Year</th>\n",
       "      <th>country</th>\n",
       "      <th>mode</th>\n",
       "      <th>purpose</th>\n",
       "      <th>quarter</th>\n",
       "      <th>where_contact_lives</th>\n",
       "      <th>visits</th>\n",
       "      <th>nights</th>\n",
       "      <th>Amount_Spent</th>\n",
       "    </tr>\n",
       "  </thead>\n",
       "  <tbody>\n",
       "    <tr>\n",
       "      <th>0</th>\n",
       "      <td>0-15</td>\n",
       "      <td>4-13 nights</td>\n",
       "      <td>Independent</td>\n",
       "      <td>Male</td>\n",
       "      <td>2009</td>\n",
       "      <td>Austria</td>\n",
       "      <td>Air</td>\n",
       "      <td>Holiday</td>\n",
       "      <td>Jan-Mar</td>\n",
       "      <td>UK residents</td>\n",
       "      <td>1600.680374</td>\n",
       "      <td>11204.762616</td>\n",
       "      <td>1.103402e+06</td>\n",
       "    </tr>\n",
       "    <tr>\n",
       "      <th>1</th>\n",
       "      <td>0-15</td>\n",
       "      <td>4-13 nights</td>\n",
       "      <td>Independent</td>\n",
       "      <td>Female</td>\n",
       "      <td>2009</td>\n",
       "      <td>Austria</td>\n",
       "      <td>Air</td>\n",
       "      <td>Holiday</td>\n",
       "      <td>Jan-Mar</td>\n",
       "      <td>UK residents</td>\n",
       "      <td>1600.680374</td>\n",
       "      <td>11204.762616</td>\n",
       "      <td>1.125278e+06</td>\n",
       "    </tr>\n",
       "    <tr>\n",
       "      <th>2</th>\n",
       "      <td>16-24</td>\n",
       "      <td>4-13 nights</td>\n",
       "      <td>Independent</td>\n",
       "      <td>Male</td>\n",
       "      <td>2009</td>\n",
       "      <td>Austria</td>\n",
       "      <td>Air</td>\n",
       "      <td>Holiday</td>\n",
       "      <td>Jan-Mar</td>\n",
       "      <td>UK residents</td>\n",
       "      <td>3064.743058</td>\n",
       "      <td>20873.377956</td>\n",
       "      <td>1.622982e+06</td>\n",
       "    </tr>\n",
       "    <tr>\n",
       "      <th>3</th>\n",
       "      <td>16-24</td>\n",
       "      <td>4-13 nights</td>\n",
       "      <td>Independent</td>\n",
       "      <td>Female</td>\n",
       "      <td>2009</td>\n",
       "      <td>Austria</td>\n",
       "      <td>Air</td>\n",
       "      <td>Holiday</td>\n",
       "      <td>Jan-Mar</td>\n",
       "      <td>UK residents</td>\n",
       "      <td>2702.755561</td>\n",
       "      <td>12411.702616</td>\n",
       "      <td>1.164191e+06</td>\n",
       "    </tr>\n",
       "    <tr>\n",
       "      <th>4</th>\n",
       "      <td>16-24</td>\n",
       "      <td>14-27 nights</td>\n",
       "      <td>Independent</td>\n",
       "      <td>Female</td>\n",
       "      <td>2009</td>\n",
       "      <td>Austria</td>\n",
       "      <td>Air</td>\n",
       "      <td>Holiday</td>\n",
       "      <td>Jan-Mar</td>\n",
       "      <td>UK residents</td>\n",
       "      <td>525.351507</td>\n",
       "      <td>7354.921102</td>\n",
       "      <td>7.633357e+05</td>\n",
       "    </tr>\n",
       "  </tbody>\n",
       "</table>\n",
       "</div>"
      ],
      "text/plain": [
       "     Age Duration_of_Visit Holiday_Package     Sex  Year  country mode  \\\n",
       "0   0-15       4-13 nights     Independent    Male  2009  Austria  Air   \n",
       "1   0-15       4-13 nights     Independent  Female  2009  Austria  Air   \n",
       "2  16-24       4-13 nights     Independent    Male  2009  Austria  Air   \n",
       "3  16-24       4-13 nights     Independent  Female  2009  Austria  Air   \n",
       "4  16-24      14-27 nights     Independent  Female  2009  Austria  Air   \n",
       "\n",
       "   purpose  quarter where_contact_lives       visits        nights  \\\n",
       "0  Holiday  Jan-Mar        UK residents  1600.680374  11204.762616   \n",
       "1  Holiday  Jan-Mar        UK residents  1600.680374  11204.762616   \n",
       "2  Holiday  Jan-Mar        UK residents  3064.743058  20873.377956   \n",
       "3  Holiday  Jan-Mar        UK residents  2702.755561  12411.702616   \n",
       "4  Holiday  Jan-Mar        UK residents   525.351507   7354.921102   \n",
       "\n",
       "   Amount_Spent  \n",
       "0  1.103402e+06  \n",
       "1  1.125278e+06  \n",
       "2  1.622982e+06  \n",
       "3  1.164191e+06  \n",
       "4  7.633357e+05  "
      ]
     },
     "execution_count": 13,
     "metadata": {},
     "output_type": "execute_result"
    }
   ],
   "source": [
    "filt_outliers.head()"
   ]
  },
  {
   "cell_type": "code",
   "execution_count": 14,
   "id": "e75159b2",
   "metadata": {},
   "outputs": [
    {
     "data": {
      "text/plain": [
       "(316678, 13)"
      ]
     },
     "execution_count": 14,
     "metadata": {},
     "output_type": "execute_result"
    }
   ],
   "source": [
    "filt_outliers.shape"
   ]
  },
  {
   "cell_type": "code",
   "execution_count": 15,
   "id": "65cecb8a",
   "metadata": {},
   "outputs": [],
   "source": [
    "#write data to file\n",
    "filt_outliers.reset_index(drop=True, inplace = True)\n",
    "\n",
    "#WRITE TO FILE\n",
    "filt_outliers.to_excel(r'cleaned_Travelpac_removed_outliers.xlsx', index=False)"
   ]
  },
  {
   "cell_type": "code",
   "execution_count": null,
   "id": "a8cb1695",
   "metadata": {},
   "outputs": [],
   "source": []
  }
 ],
 "metadata": {
  "kernelspec": {
   "display_name": "Python 3 (ipykernel)",
   "language": "python",
   "name": "python3"
  },
  "language_info": {
   "codemirror_mode": {
    "name": "ipython",
    "version": 3
   },
   "file_extension": ".py",
   "mimetype": "text/x-python",
   "name": "python",
   "nbconvert_exporter": "python",
   "pygments_lexer": "ipython3",
   "version": "3.9.7"
  }
 },
 "nbformat": 4,
 "nbformat_minor": 5
}
