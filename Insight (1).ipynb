{
 "cells": [
  {
   "cell_type": "markdown",
   "metadata": {},
   "source": [
    "## Importing the libraries"
   ]
  },
  {
   "cell_type": "code",
   "execution_count": 103,
   "metadata": {},
   "outputs": [],
   "source": [
    "#importing all the libraries needed\n",
    "\n",
    "import pandas as pd\n",
    "import numpy as np\n",
    "import seaborn as sns\n",
    "import matplotlib.pyplot as plt"
   ]
  },
  {
   "cell_type": "markdown",
   "metadata": {},
   "source": [
    "## Cleaning the Dataset"
   ]
  },
  {
   "cell_type": "code",
   "execution_count": 104,
   "metadata": {},
   "outputs": [],
   "source": [
    "#creating a custom null values to clean the dataset\n",
    "\n",
    "missing_values = [\"NaN\",\" \",\"#NULL!\"]\n",
    "df = pd.read_csv(\"Dataset2009-2021.csv\", na_values = missing_values)"
   ]
  },
  {
   "cell_type": "code",
   "execution_count": 105,
   "metadata": {},
   "outputs": [
    {
     "data": {
      "text/html": [
       "<div>\n",
       "<style scoped>\n",
       "    .dataframe tbody tr th:only-of-type {\n",
       "        vertical-align: middle;\n",
       "    }\n",
       "\n",
       "    .dataframe tbody tr th {\n",
       "        vertical-align: top;\n",
       "    }\n",
       "\n",
       "    .dataframe thead th {\n",
       "        text-align: right;\n",
       "    }\n",
       "</style>\n",
       "<table border=\"1\" class=\"dataframe\">\n",
       "  <thead>\n",
       "    <tr style=\"text-align: right;\">\n",
       "      <th></th>\n",
       "      <th>Year</th>\n",
       "      <th>quarter</th>\n",
       "      <th>ukos</th>\n",
       "      <th>mode</th>\n",
       "      <th>country</th>\n",
       "      <th>purpose</th>\n",
       "      <th>package</th>\n",
       "      <th>Age</th>\n",
       "      <th>Sex</th>\n",
       "      <th>duration</th>\n",
       "      <th>visits</th>\n",
       "      <th>nights</th>\n",
       "      <th>expend</th>\n",
       "      <th>sample</th>\n",
       "    </tr>\n",
       "  </thead>\n",
       "  <tbody>\n",
       "    <tr>\n",
       "      <th>0</th>\n",
       "      <td>2009</td>\n",
       "      <td>Jan-Mar</td>\n",
       "      <td>UK residents</td>\n",
       "      <td>Air</td>\n",
       "      <td>Austria</td>\n",
       "      <td>Holiday</td>\n",
       "      <td>Independent</td>\n",
       "      <td>0-15</td>\n",
       "      <td>Male</td>\n",
       "      <td>4-13 nights</td>\n",
       "      <td>1601.0</td>\n",
       "      <td>11205.0</td>\n",
       "      <td>1103402</td>\n",
       "      <td>3</td>\n",
       "    </tr>\n",
       "    <tr>\n",
       "      <th>1</th>\n",
       "      <td>2009</td>\n",
       "      <td>Jan-Mar</td>\n",
       "      <td>UK residents</td>\n",
       "      <td>Air</td>\n",
       "      <td>Austria</td>\n",
       "      <td>Holiday</td>\n",
       "      <td>Independent</td>\n",
       "      <td>0-15</td>\n",
       "      <td>Female</td>\n",
       "      <td>4-13 nights</td>\n",
       "      <td>1601.0</td>\n",
       "      <td>11205.0</td>\n",
       "      <td>1125278</td>\n",
       "      <td>3</td>\n",
       "    </tr>\n",
       "    <tr>\n",
       "      <th>2</th>\n",
       "      <td>2009</td>\n",
       "      <td>Jan-Mar</td>\n",
       "      <td>UK residents</td>\n",
       "      <td>Air</td>\n",
       "      <td>Austria</td>\n",
       "      <td>Holiday</td>\n",
       "      <td>Independent</td>\n",
       "      <td>16-24</td>\n",
       "      <td>Male</td>\n",
       "      <td>4-13 nights</td>\n",
       "      <td>3065.0</td>\n",
       "      <td>20873.0</td>\n",
       "      <td>1622982</td>\n",
       "      <td>3</td>\n",
       "    </tr>\n",
       "    <tr>\n",
       "      <th>3</th>\n",
       "      <td>2009</td>\n",
       "      <td>Jan-Mar</td>\n",
       "      <td>UK residents</td>\n",
       "      <td>Air</td>\n",
       "      <td>Austria</td>\n",
       "      <td>Holiday</td>\n",
       "      <td>Independent</td>\n",
       "      <td>16-24</td>\n",
       "      <td>Female</td>\n",
       "      <td>4-13 nights</td>\n",
       "      <td>2703.0</td>\n",
       "      <td>12412.0</td>\n",
       "      <td>1164191</td>\n",
       "      <td>2</td>\n",
       "    </tr>\n",
       "    <tr>\n",
       "      <th>4</th>\n",
       "      <td>2009</td>\n",
       "      <td>Jan-Mar</td>\n",
       "      <td>UK residents</td>\n",
       "      <td>Air</td>\n",
       "      <td>Austria</td>\n",
       "      <td>Holiday</td>\n",
       "      <td>Independent</td>\n",
       "      <td>16-24</td>\n",
       "      <td>Female</td>\n",
       "      <td>14-27 nights</td>\n",
       "      <td>525.0</td>\n",
       "      <td>7355.0</td>\n",
       "      <td>763336</td>\n",
       "      <td>1</td>\n",
       "    </tr>\n",
       "  </tbody>\n",
       "</table>\n",
       "</div>"
      ],
      "text/plain": [
       "   Year  quarter          ukos mode  country  purpose      package    Age  \\\n",
       "0  2009  Jan-Mar  UK residents  Air  Austria  Holiday  Independent   0-15   \n",
       "1  2009  Jan-Mar  UK residents  Air  Austria  Holiday  Independent   0-15   \n",
       "2  2009  Jan-Mar  UK residents  Air  Austria  Holiday  Independent  16-24   \n",
       "3  2009  Jan-Mar  UK residents  Air  Austria  Holiday  Independent  16-24   \n",
       "4  2009  Jan-Mar  UK residents  Air  Austria  Holiday  Independent  16-24   \n",
       "\n",
       "      Sex      duration  visits   nights   expend sample  \n",
       "0    Male   4-13 nights  1601.0  11205.0  1103402      3  \n",
       "1  Female   4-13 nights  1601.0  11205.0  1125278      3  \n",
       "2    Male   4-13 nights  3065.0  20873.0  1622982      3  \n",
       "3  Female   4-13 nights  2703.0  12412.0  1164191      2  \n",
       "4  Female  14-27 nights   525.0   7355.0   763336      1  "
      ]
     },
     "execution_count": 105,
     "metadata": {},
     "output_type": "execute_result"
    }
   ],
   "source": [
    "#previewing the top 5 data from the dataset\n",
    "\n",
    "df.head()"
   ]
  },
  {
   "cell_type": "code",
   "execution_count": 106,
   "metadata": {},
   "outputs": [
    {
     "data": {
      "text/plain": [
       "(410574, 14)"
      ]
     },
     "execution_count": 106,
     "metadata": {},
     "output_type": "execute_result"
    }
   ],
   "source": [
    "#checking the dimension of the dataset\n",
    "\n",
    "df.shape"
   ]
  },
  {
   "cell_type": "code",
   "execution_count": 107,
   "metadata": {},
   "outputs": [
    {
     "name": "stdout",
     "output_type": "stream",
     "text": [
      "<class 'pandas.core.frame.DataFrame'>\n",
      "RangeIndex: 410574 entries, 0 to 410573\n",
      "Data columns (total 14 columns):\n",
      " #   Column    Non-Null Count   Dtype  \n",
      "---  ------    --------------   -----  \n",
      " 0   Year      410574 non-null  int64  \n",
      " 1   quarter   410574 non-null  object \n",
      " 2   ukos      410574 non-null  object \n",
      " 3   mode      410574 non-null  object \n",
      " 4   country   410574 non-null  object \n",
      " 5   purpose   410574 non-null  object \n",
      " 6   package   410574 non-null  object \n",
      " 7   Age       410574 non-null  object \n",
      " 8   Sex       410296 non-null  object \n",
      " 9   duration  410574 non-null  object \n",
      " 10  visits    409970 non-null  float64\n",
      " 11  nights    409970 non-null  float64\n",
      " 12  expend    410574 non-null  int64  \n",
      " 13  sample    410556 non-null  object \n",
      "dtypes: float64(2), int64(2), object(10)\n",
      "memory usage: 43.9+ MB\n"
     ]
    }
   ],
   "source": [
    "df.info()"
   ]
  },
  {
   "cell_type": "markdown",
   "metadata": {},
   "source": [
    "## Checking for null values"
   ]
  },
  {
   "cell_type": "code",
   "execution_count": 108,
   "metadata": {},
   "outputs": [
    {
     "data": {
      "text/plain": [
       "Year          0\n",
       "quarter       0\n",
       "ukos          0\n",
       "mode          0\n",
       "country       0\n",
       "purpose       0\n",
       "package       0\n",
       "Age           0\n",
       "Sex         278\n",
       "duration      0\n",
       "visits      604\n",
       "nights      604\n",
       "expend        0\n",
       "sample       18\n",
       "dtype: int64"
      ]
     },
     "execution_count": 108,
     "metadata": {},
     "output_type": "execute_result"
    }
   ],
   "source": [
    "df.isnull().sum()"
   ]
  },
  {
   "cell_type": "markdown",
   "metadata": {},
   "source": [
    "## Deleting the null values"
   ]
  },
  {
   "cell_type": "code",
   "execution_count": 109,
   "metadata": {},
   "outputs": [],
   "source": [
    "df = df.dropna()"
   ]
  },
  {
   "cell_type": "markdown",
   "metadata": {},
   "source": [
    "## Verifying deletion "
   ]
  },
  {
   "cell_type": "code",
   "execution_count": 110,
   "metadata": {},
   "outputs": [
    {
     "data": {
      "text/plain": [
       "Year        0\n",
       "quarter     0\n",
       "ukos        0\n",
       "mode        0\n",
       "country     0\n",
       "purpose     0\n",
       "package     0\n",
       "Age         0\n",
       "Sex         0\n",
       "duration    0\n",
       "visits      0\n",
       "nights      0\n",
       "expend      0\n",
       "sample      0\n",
       "dtype: int64"
      ]
     },
     "execution_count": 110,
     "metadata": {},
     "output_type": "execute_result"
    }
   ],
   "source": [
    "df.isnull().sum()"
   ]
  },
  {
   "cell_type": "markdown",
   "metadata": {},
   "source": [
    "## Insight Implementation"
   ]
  },
  {
   "cell_type": "code",
   "execution_count": 111,
   "metadata": {},
   "outputs": [],
   "source": [
    "## Assigning dataset of each year to a variable\n",
    "\n",
    "df2009 = df[df['Year'] == 2009 ]\n",
    "df2010 = df[df['Year'] == 2010 ]\n",
    "df2011 = df[df['Year'] == 2011 ]\n",
    "df2012 = df[df['Year'] == 2012 ]\n",
    "df2013 = df[df['Year'] == 2013 ]\n",
    "df2014 = df[df['Year'] == 2014 ]\n",
    "df2015 = df[df['Year'] == 2015 ]\n",
    "df2016 = df[df['Year'] == 2016 ]\n",
    "df2017 = df[df['Year'] == 2017 ]\n",
    "df2018 = df[df['Year'] == 2018 ]\n",
    "df2019 = df[df['Year'] == 2019 ]\n",
    "df2020 = df[df['Year'] == 2020 ]\n",
    "df2021 = df[df['Year'] == 2021 ]"
   ]
  },
  {
   "cell_type": "code",
   "execution_count": 112,
   "metadata": {},
   "outputs": [
    {
     "name": "stdout",
     "output_type": "stream",
     "text": [
      "2010    38352\n",
      "2009    37820\n",
      "2011    36734\n",
      "2013    36685\n",
      "2015    36316\n",
      "2012    36110\n",
      "2014    35704\n",
      "2016    35094\n",
      "2017    32093\n",
      "2018    28620\n",
      "2019    28323\n",
      "2021    22036\n",
      "2020     5822\n",
      "Name: Year, dtype: int64\n"
     ]
    }
   ],
   "source": [
    "## Indentifying samples per year\n",
    "print(df['Year'].value_counts())"
   ]
  },
  {
   "cell_type": "code",
   "execution_count": 113,
   "metadata": {},
   "outputs": [
    {
     "data": {
      "text/plain": [
       "Text(0.5, 1.0, 'TOTAL NUMBER OF VISITS PER YEAR')"
      ]
     },
     "execution_count": 113,
     "metadata": {},
     "output_type": "execute_result"
    },
    {
     "data": {
      "image/png": "[encoded data removed]",
      "text/plain": [
       "<Figure size 864x432 with 1 Axes>"
      ]
     },
     "metadata": {
      "needs_background": "light"
     },
     "output_type": "display_data"
    }
   ],
   "source": [
    "## Total number of visits per year\n",
    "\n",
    "total_visits_perYear = df.groupby(\"Year\").agg({\"visits\":pd.Series.sum})\n",
    "total_visits_perYear\n",
    "\n",
    "year = {'2009' : total_visits_perYear['visits'].iat[0] , '2010':total_visits_perYear['visits'].iat[1] , '2011':total_visits_perYear['visits'].iat[2] ,'2012':total_visits_perYear['visits'].iat[3] , '2013':total_visits_perYear['visits'].iat[4] ,'2014' : total_visits_perYear['visits'].iat[5] , '2015':total_visits_perYear['visits'].iat[6] , '2016':total_visits_perYear['visits'].iat[7] , '2017':total_visits_perYear['visits'].iat[8]\n",
    "       ,'2018' : total_visits_perYear['visits'].iat[9] , '2019':total_visits_perYear['visits'].iat[10] , '2020':total_visits_perYear['visits'].iat[11] ,'2021':total_visits_perYear['visits'].iat[12]}\n",
    "\n",
    "fig, ax = plt.subplots(figsize=(12,6))\n",
    "plt.bar(year.keys() , year.values())\n",
    "plt.xlabel('Years')\n",
    "plt.ylabel('Value')\n",
    "plt.title('TOTAL NUMBER OF VISITS PER YEAR')\n"
   ]
  },
  {
   "cell_type": "code",
   "execution_count": 114,
   "metadata": {},
   "outputs": [
    {
     "data": {
      "text/plain": [
       "Text(0.5, 1.0, 'TOTAL NUMBER OF NIGHTS PER YEAR')"
      ]
     },
     "execution_count": 114,
     "metadata": {},
     "output_type": "execute_result"
    },
    {
     "data": {
      "image/png": "[encoded data removed]",
      "text/plain": [
       "<Figure size 864x432 with 1 Axes>"
      ]
     },
     "metadata": {
      "needs_background": "light"
     },
     "output_type": "display_data"
    }
   ],
   "source": [
    "## Total number of night per year\n",
    "\n",
    "total_nights_perYear = df.groupby(\"Year\").agg({\"nights\":pd.Series.sum})\n",
    "total_nights_perYear\n",
    "\n",
    "year = {'2009' : total_nights_perYear['nights'].iat[0] , '2010':total_nights_perYear['nights'].iat[1] , '2011':total_nights_perYear['nights'].iat[2] ,'2012':total_nights_perYear['nights'].iat[3] , '2013':total_nights_perYear['nights'].iat[4] ,'2014' : total_nights_perYear['nights'].iat[5] , '2015':total_nights_perYear['nights'].iat[6] , '2016':total_nights_perYear['nights'].iat[7] , '2017':total_nights_perYear['nights'].iat[8]\n",
    "       ,'2018' : total_nights_perYear['nights'].iat[9] , '2019':total_nights_perYear['nights'].iat[10] , '2020':total_nights_perYear['nights'].iat[11] ,'2021':total_nights_perYear['nights'].iat[12]}\n",
    "\n",
    "fig, ax = plt.subplots(figsize=(12,6))\n",
    "plt.bar(year.keys() , year.values())\n",
    "plt.xlabel('Years')\n",
    "plt.ylabel('Value')\n",
    "plt.title('TOTAL NUMBER OF NIGHTS PER YEAR')"
   ]
  },
  {
   "cell_type": "code",
   "execution_count": 115,
   "metadata": {},
   "outputs": [
    {
     "data": {
      "text/plain": [
       "Text(0.5, 1.0, 'TOTAL NUMBER OF NIGHTS PER YEAR')"
      ]
     },
     "execution_count": 115,
     "metadata": {},
     "output_type": "execute_result"
    },
    {
     "data": {
      "image/png": "[encoded data removed]",
      "text/plain": [
       "<Figure size 864x432 with 1 Axes>"
      ]
     },
     "metadata": {
      "needs_background": "light"
     },
     "output_type": "display_data"
    }
   ],
   "source": [
    "## Total number of nights per year\n",
    "\n",
    "total_expend_perYear = df.groupby(\"Year\").agg({\"expend\":pd.Series.sum})\n",
    "total_expend_perYear\n",
    "\n",
    "year = {'2009' : total_expend_perYear['expend'].iat[0] , '2010':total_expend_perYear['expend'].iat[1] , '2011':total_expend_perYear['expend'].iat[2] ,'2012':total_expend_perYear['expend'].iat[3] , '2013':total_expend_perYear['expend'].iat[4] ,'2014' : total_expend_perYear['expend'].iat[5] , '2015':total_expend_perYear['expend'].iat[6] , '2016':total_expend_perYear['expend'].iat[7] , '2017':total_expend_perYear['expend'].iat[8]\n",
    "       ,'2018' : total_expend_perYear['expend'].iat[9] , '2019':total_expend_perYear['expend'].iat[10] , '2020':total_expend_perYear['expend'].iat[11] ,'2021':total_expend_perYear['expend'].iat[12]}\n",
    "\n",
    "fig, ax = plt.subplots(figsize=(12,6))\n",
    "plt.bar(year.keys() , year.values())\n",
    "plt.xlabel('Years')\n",
    "plt.ylabel('Value')\n",
    "plt.title('TOTAL NUMBER OF NIGHTS PER YEAR')"
   ]
  },
  {
   "cell_type": "code",
   "execution_count": 116,
   "metadata": {},
   "outputs": [],
   "source": [
    "#total_expend_perYear\n",
    "\n",
    "#total_visits_perYear\n",
    "\n",
    "#total_nights_perYear"
   ]
  },
  {
   "cell_type": "code",
   "execution_count": 118,
   "metadata": {},
   "outputs": [
    {
     "name": "stdout",
     "output_type": "stream",
     "text": [
      "Independent        346144\n",
      "Non-Independent     63565\n",
      "Name: package, dtype: int64\n"
     ]
    }
   ],
   "source": [
    "print(df['package'].value_counts())"
   ]
  },
  {
   "cell_type": "code",
   "execution_count": 119,
   "metadata": {},
   "outputs": [
    {
     "name": "stdout",
     "output_type": "stream",
     "text": [
      "UK residents          207633\n",
      "Overseas residents    202076\n",
      "Name: ukos, dtype: int64\n"
     ]
    },
    {
     "data": {
      "text/plain": [
       "<AxesSubplot:xlabel='ukos', ylabel='count'>"
      ]
     },
     "execution_count": 119,
     "metadata": {},
     "output_type": "execute_result"
    },
    {
     "data": {
      "image/png": "[encoded data removed]",
      "text/plain": [
       "<Figure size 720x432 with 1 Axes>"
      ]
     },
     "metadata": {
      "needs_background": "light"
     },
     "output_type": "display_data"
    }
   ],
   "source": [
    "#Drawing a chart for column ukos\n",
    "\n",
    "print(df['ukos'].value_counts())\n",
    "plt.figure(figsize = (10,6))\n",
    "sns.countplot(x = \"ukos\", data = df)"
   ]
  },
  {
   "cell_type": "code",
   "execution_count": 120,
   "metadata": {},
   "outputs": [
    {
     "data": {
      "text/plain": [
       "<AxesSubplot:xlabel='purpose', ylabel='count'>"
      ]
     },
     "execution_count": 120,
     "metadata": {},
     "output_type": "execute_result"
    },
    {
     "data": {
      "image/png": "[encoded data removed]",
      "text/plain": [
       "<Figure size 720x432 with 1 Axes>"
      ]
     },
     "metadata": {
      "needs_background": "light"
     },
     "output_type": "display_data"
    }
   ],
   "source": [
    "#Drawing a chart for column purpose\n",
    "\n",
    "plt.figure(figsize = (10,6))\n",
    "sns.countplot(x = \"purpose\", data = df)"
   ]
  },
  {
   "cell_type": "markdown",
   "metadata": {},
   "source": [
    "# Section A\n",
    "###  In this section a bar chart is drawn for the affected columns"
   ]
  },
  {
   "cell_type": "markdown",
   "metadata": {},
   "source": [
    "## Passengers by Residentials"
   ]
  },
  {
   "cell_type": "code",
   "execution_count": 121,
   "metadata": {},
   "outputs": [
    {
     "data": {
      "text/plain": [
       "<AxesSubplot:xlabel='ukos', ylabel='count'>"
      ]
     },
     "execution_count": 121,
     "metadata": {},
     "output_type": "execute_result"
    },
    {
     "data": {
      "image/png": "[encoded data removed]",
      "text/plain": [
       "<Figure size 720x432 with 1 Axes>"
      ]
     },
     "metadata": {
      "needs_background": "light"
     },
     "output_type": "display_data"
    }
   ],
   "source": [
    "plt.figure(figsize = (10,6))\n",
    "sns.countplot(x = \"ukos\", data = df)"
   ]
  },
  {
   "cell_type": "markdown",
   "metadata": {},
   "source": [
    "## Gender Travelling"
   ]
  },
  {
   "cell_type": "code",
   "execution_count": 122,
   "metadata": {},
   "outputs": [
    {
     "data": {
      "text/plain": [
       "<AxesSubplot:xlabel='Sex', ylabel='count'>"
      ]
     },
     "execution_count": 122,
     "metadata": {},
     "output_type": "execute_result"
    },
    {
     "data": {
      "image/png": "[encoded data removed]",
      "text/plain": [
       "<Figure size 720x432 with 1 Axes>"
      ]
     },
     "metadata": {
      "needs_background": "light"
     },
     "output_type": "display_data"
    }
   ],
   "source": [
    "plt.figure(figsize = (10,6))\n",
    "sns.countplot(x = \"Sex\", data = df)"
   ]
  },
  {
   "cell_type": "markdown",
   "metadata": {},
   "source": [
    "## Package"
   ]
  },
  {
   "cell_type": "code",
   "execution_count": 123,
   "metadata": {},
   "outputs": [
    {
     "data": {
      "text/plain": [
       "<AxesSubplot:xlabel='package', ylabel='count'>"
      ]
     },
     "execution_count": 123,
     "metadata": {},
     "output_type": "execute_result"
    },
    {
     "data": {
      "image/png": "[encoded data removed]",
      "text/plain": [
       "<Figure size 720x432 with 1 Axes>"
      ]
     },
     "metadata": {
      "needs_background": "light"
     },
     "output_type": "display_data"
    }
   ],
   "source": [
    "plt.figure(figsize = (10,6))\n",
    "sns.countplot(x = \"package\", data = df)"
   ]
  },
  {
   "cell_type": "markdown",
   "metadata": {},
   "source": [
    "## Most Travelled Mode Of Transportation"
   ]
  },
  {
   "cell_type": "code",
   "execution_count": 124,
   "metadata": {},
   "outputs": [
    {
     "data": {
      "text/plain": [
       "<AxesSubplot:xlabel='mode', ylabel='count'>"
      ]
     },
     "execution_count": 124,
     "metadata": {},
     "output_type": "execute_result"
    },
    {
     "data": {
      "image/png": "[encoded data removed]",
      "text/plain": [
       "<Figure size 720x432 with 1 Axes>"
      ]
     },
     "metadata": {
      "needs_background": "light"
     },
     "output_type": "display_data"
    }
   ],
   "source": [
    "plt.figure(figsize = (10,6))\n",
    "sns.countplot(x = \"mode\", data = df)"
   ]
  },
  {
   "cell_type": "code",
   "execution_count": 125,
   "metadata": {},
   "outputs": [
    {
     "data": {
      "text/html": [
       "<div>\n",
       "<style scoped>\n",
       "    .dataframe tbody tr th:only-of-type {\n",
       "        vertical-align: middle;\n",
       "    }\n",
       "\n",
       "    .dataframe tbody tr th {\n",
       "        vertical-align: top;\n",
       "    }\n",
       "\n",
       "    .dataframe thead th {\n",
       "        text-align: right;\n",
       "    }\n",
       "</style>\n",
       "<table border=\"1\" class=\"dataframe\">\n",
       "  <thead>\n",
       "    <tr style=\"text-align: right;\">\n",
       "      <th></th>\n",
       "      <th>Year</th>\n",
       "      <th>quarter</th>\n",
       "      <th>ukos</th>\n",
       "      <th>mode</th>\n",
       "      <th>country</th>\n",
       "      <th>purpose</th>\n",
       "      <th>package</th>\n",
       "      <th>Age</th>\n",
       "      <th>Sex</th>\n",
       "      <th>duration</th>\n",
       "      <th>visits</th>\n",
       "      <th>nights</th>\n",
       "      <th>expend</th>\n",
       "      <th>sample</th>\n",
       "    </tr>\n",
       "  </thead>\n",
       "  <tbody>\n",
       "    <tr>\n",
       "      <th>0</th>\n",
       "      <td>2009</td>\n",
       "      <td>Jan-Mar</td>\n",
       "      <td>UK residents</td>\n",
       "      <td>Air</td>\n",
       "      <td>Austria</td>\n",
       "      <td>Holiday</td>\n",
       "      <td>Independent</td>\n",
       "      <td>0-15</td>\n",
       "      <td>Male</td>\n",
       "      <td>4-13 nights</td>\n",
       "      <td>1601.0</td>\n",
       "      <td>11205.0</td>\n",
       "      <td>1103402</td>\n",
       "      <td>3</td>\n",
       "    </tr>\n",
       "    <tr>\n",
       "      <th>1</th>\n",
       "      <td>2009</td>\n",
       "      <td>Jan-Mar</td>\n",
       "      <td>UK residents</td>\n",
       "      <td>Air</td>\n",
       "      <td>Austria</td>\n",
       "      <td>Holiday</td>\n",
       "      <td>Independent</td>\n",
       "      <td>0-15</td>\n",
       "      <td>Female</td>\n",
       "      <td>4-13 nights</td>\n",
       "      <td>1601.0</td>\n",
       "      <td>11205.0</td>\n",
       "      <td>1125278</td>\n",
       "      <td>3</td>\n",
       "    </tr>\n",
       "    <tr>\n",
       "      <th>2</th>\n",
       "      <td>2009</td>\n",
       "      <td>Jan-Mar</td>\n",
       "      <td>UK residents</td>\n",
       "      <td>Air</td>\n",
       "      <td>Austria</td>\n",
       "      <td>Holiday</td>\n",
       "      <td>Independent</td>\n",
       "      <td>16-24</td>\n",
       "      <td>Male</td>\n",
       "      <td>4-13 nights</td>\n",
       "      <td>3065.0</td>\n",
       "      <td>20873.0</td>\n",
       "      <td>1622982</td>\n",
       "      <td>3</td>\n",
       "    </tr>\n",
       "    <tr>\n",
       "      <th>3</th>\n",
       "      <td>2009</td>\n",
       "      <td>Jan-Mar</td>\n",
       "      <td>UK residents</td>\n",
       "      <td>Air</td>\n",
       "      <td>Austria</td>\n",
       "      <td>Holiday</td>\n",
       "      <td>Independent</td>\n",
       "      <td>16-24</td>\n",
       "      <td>Female</td>\n",
       "      <td>4-13 nights</td>\n",
       "      <td>2703.0</td>\n",
       "      <td>12412.0</td>\n",
       "      <td>1164191</td>\n",
       "      <td>2</td>\n",
       "    </tr>\n",
       "    <tr>\n",
       "      <th>4</th>\n",
       "      <td>2009</td>\n",
       "      <td>Jan-Mar</td>\n",
       "      <td>UK residents</td>\n",
       "      <td>Air</td>\n",
       "      <td>Austria</td>\n",
       "      <td>Holiday</td>\n",
       "      <td>Independent</td>\n",
       "      <td>16-24</td>\n",
       "      <td>Female</td>\n",
       "      <td>14-27 nights</td>\n",
       "      <td>525.0</td>\n",
       "      <td>7355.0</td>\n",
       "      <td>763336</td>\n",
       "      <td>1</td>\n",
       "    </tr>\n",
       "  </tbody>\n",
       "</table>\n",
       "</div>"
      ],
      "text/plain": [
       "   Year  quarter          ukos mode  country  purpose      package    Age  \\\n",
       "0  2009  Jan-Mar  UK residents  Air  Austria  Holiday  Independent   0-15   \n",
       "1  2009  Jan-Mar  UK residents  Air  Austria  Holiday  Independent   0-15   \n",
       "2  2009  Jan-Mar  UK residents  Air  Austria  Holiday  Independent  16-24   \n",
       "3  2009  Jan-Mar  UK residents  Air  Austria  Holiday  Independent  16-24   \n",
       "4  2009  Jan-Mar  UK residents  Air  Austria  Holiday  Independent  16-24   \n",
       "\n",
       "      Sex      duration  visits   nights   expend sample  \n",
       "0    Male   4-13 nights  1601.0  11205.0  1103402      3  \n",
       "1  Female   4-13 nights  1601.0  11205.0  1125278      3  \n",
       "2    Male   4-13 nights  3065.0  20873.0  1622982      3  \n",
       "3  Female   4-13 nights  2703.0  12412.0  1164191      2  \n",
       "4  Female  14-27 nights   525.0   7355.0   763336      1  "
      ]
     },
     "execution_count": 125,
     "metadata": {},
     "output_type": "execute_result"
    }
   ],
   "source": [
    "df.head()"
   ]
  },
  {
   "cell_type": "markdown",
   "metadata": {},
   "source": [
    "#  Section B\n",
    "## Classifying the dataset into UK and Overseas travellers, this is done to narrow down the results."
   ]
  },
  {
   "cell_type": "code",
   "execution_count": 126,
   "metadata": {},
   "outputs": [],
   "source": [
    "#Getting UK and Overseas resident and assigning to a variable\n",
    "\n",
    "dfUK = df[df['ukos'] == 'UK residents']\n",
    "dfOverseas = df[df['ukos'] == 'Overseas residents']"
   ]
  },
  {
   "cell_type": "code",
   "execution_count": 127,
   "metadata": {},
   "outputs": [],
   "source": [
    "#Saving both results into a variable\n",
    "\n",
    "dfUK.to_csv('Derived/Uk Residents.csv', index=False, header=True)\n",
    "dfOverseas.to_csv('Derived/Overseas Residents.csv', index=False, header=True)"
   ]
  },
  {
   "cell_type": "code",
   "execution_count": 128,
   "metadata": {},
   "outputs": [
    {
     "data": {
      "text/html": [
       "<div>\n",
       "<style scoped>\n",
       "    .dataframe tbody tr th:only-of-type {\n",
       "        vertical-align: middle;\n",
       "    }\n",
       "\n",
       "    .dataframe tbody tr th {\n",
       "        vertical-align: top;\n",
       "    }\n",
       "\n",
       "    .dataframe thead th {\n",
       "        text-align: right;\n",
       "    }\n",
       "</style>\n",
       "<table border=\"1\" class=\"dataframe\">\n",
       "  <thead>\n",
       "    <tr style=\"text-align: right;\">\n",
       "      <th></th>\n",
       "      <th>Year</th>\n",
       "      <th>quarter</th>\n",
       "      <th>ukos</th>\n",
       "      <th>mode</th>\n",
       "      <th>country</th>\n",
       "      <th>purpose</th>\n",
       "      <th>package</th>\n",
       "      <th>Age</th>\n",
       "      <th>Sex</th>\n",
       "      <th>duration</th>\n",
       "      <th>visits</th>\n",
       "      <th>nights</th>\n",
       "      <th>expend</th>\n",
       "      <th>sample</th>\n",
       "    </tr>\n",
       "  </thead>\n",
       "  <tbody>\n",
       "    <tr>\n",
       "      <th>0</th>\n",
       "      <td>2009</td>\n",
       "      <td>Jan-Mar</td>\n",
       "      <td>UK residents</td>\n",
       "      <td>Air</td>\n",
       "      <td>Austria</td>\n",
       "      <td>Holiday</td>\n",
       "      <td>Independent</td>\n",
       "      <td>0-15</td>\n",
       "      <td>Male</td>\n",
       "      <td>4-13 nights</td>\n",
       "      <td>1601.0</td>\n",
       "      <td>11205.0</td>\n",
       "      <td>1103402</td>\n",
       "      <td>3</td>\n",
       "    </tr>\n",
       "    <tr>\n",
       "      <th>1</th>\n",
       "      <td>2009</td>\n",
       "      <td>Jan-Mar</td>\n",
       "      <td>UK residents</td>\n",
       "      <td>Air</td>\n",
       "      <td>Austria</td>\n",
       "      <td>Holiday</td>\n",
       "      <td>Independent</td>\n",
       "      <td>0-15</td>\n",
       "      <td>Female</td>\n",
       "      <td>4-13 nights</td>\n",
       "      <td>1601.0</td>\n",
       "      <td>11205.0</td>\n",
       "      <td>1125278</td>\n",
       "      <td>3</td>\n",
       "    </tr>\n",
       "    <tr>\n",
       "      <th>2</th>\n",
       "      <td>2009</td>\n",
       "      <td>Jan-Mar</td>\n",
       "      <td>UK residents</td>\n",
       "      <td>Air</td>\n",
       "      <td>Austria</td>\n",
       "      <td>Holiday</td>\n",
       "      <td>Independent</td>\n",
       "      <td>16-24</td>\n",
       "      <td>Male</td>\n",
       "      <td>4-13 nights</td>\n",
       "      <td>3065.0</td>\n",
       "      <td>20873.0</td>\n",
       "      <td>1622982</td>\n",
       "      <td>3</td>\n",
       "    </tr>\n",
       "    <tr>\n",
       "      <th>3</th>\n",
       "      <td>2009</td>\n",
       "      <td>Jan-Mar</td>\n",
       "      <td>UK residents</td>\n",
       "      <td>Air</td>\n",
       "      <td>Austria</td>\n",
       "      <td>Holiday</td>\n",
       "      <td>Independent</td>\n",
       "      <td>16-24</td>\n",
       "      <td>Female</td>\n",
       "      <td>4-13 nights</td>\n",
       "      <td>2703.0</td>\n",
       "      <td>12412.0</td>\n",
       "      <td>1164191</td>\n",
       "      <td>2</td>\n",
       "    </tr>\n",
       "    <tr>\n",
       "      <th>4</th>\n",
       "      <td>2009</td>\n",
       "      <td>Jan-Mar</td>\n",
       "      <td>UK residents</td>\n",
       "      <td>Air</td>\n",
       "      <td>Austria</td>\n",
       "      <td>Holiday</td>\n",
       "      <td>Independent</td>\n",
       "      <td>16-24</td>\n",
       "      <td>Female</td>\n",
       "      <td>14-27 nights</td>\n",
       "      <td>525.0</td>\n",
       "      <td>7355.0</td>\n",
       "      <td>763336</td>\n",
       "      <td>1</td>\n",
       "    </tr>\n",
       "  </tbody>\n",
       "</table>\n",
       "</div>"
      ],
      "text/plain": [
       "   Year  quarter          ukos mode  country  purpose      package    Age  \\\n",
       "0  2009  Jan-Mar  UK residents  Air  Austria  Holiday  Independent   0-15   \n",
       "1  2009  Jan-Mar  UK residents  Air  Austria  Holiday  Independent   0-15   \n",
       "2  2009  Jan-Mar  UK residents  Air  Austria  Holiday  Independent  16-24   \n",
       "3  2009  Jan-Mar  UK residents  Air  Austria  Holiday  Independent  16-24   \n",
       "4  2009  Jan-Mar  UK residents  Air  Austria  Holiday  Independent  16-24   \n",
       "\n",
       "      Sex      duration  visits   nights   expend sample  \n",
       "0    Male   4-13 nights  1601.0  11205.0  1103402      3  \n",
       "1  Female   4-13 nights  1601.0  11205.0  1125278      3  \n",
       "2    Male   4-13 nights  3065.0  20873.0  1622982      3  \n",
       "3  Female   4-13 nights  2703.0  12412.0  1164191      2  \n",
       "4  Female  14-27 nights   525.0   7355.0   763336      1  "
      ]
     },
     "execution_count": 128,
     "metadata": {},
     "output_type": "execute_result"
    }
   ],
   "source": [
    "#Previewing the UK travellers \n",
    "\n",
    "dfUK.head()"
   ]
  },
  {
   "cell_type": "code",
   "execution_count": 129,
   "metadata": {},
   "outputs": [
    {
     "data": {
      "text/plain": [
       "(202076, 14)"
      ]
     },
     "execution_count": 129,
     "metadata": {},
     "output_type": "execute_result"
    }
   ],
   "source": [
    "dfOverseas.shape"
   ]
  },
  {
   "cell_type": "code",
   "execution_count": 130,
   "metadata": {},
   "outputs": [
    {
     "data": {
      "text/html": [
       "<div>\n",
       "<style scoped>\n",
       "    .dataframe tbody tr th:only-of-type {\n",
       "        vertical-align: middle;\n",
       "    }\n",
       "\n",
       "    .dataframe tbody tr th {\n",
       "        vertical-align: top;\n",
       "    }\n",
       "\n",
       "    .dataframe thead th {\n",
       "        text-align: right;\n",
       "    }\n",
       "</style>\n",
       "<table border=\"1\" class=\"dataframe\">\n",
       "  <thead>\n",
       "    <tr style=\"text-align: right;\">\n",
       "      <th></th>\n",
       "      <th>Year</th>\n",
       "      <th>quarter</th>\n",
       "      <th>ukos</th>\n",
       "      <th>mode</th>\n",
       "      <th>country</th>\n",
       "      <th>purpose</th>\n",
       "      <th>package</th>\n",
       "      <th>Age</th>\n",
       "      <th>Sex</th>\n",
       "      <th>duration</th>\n",
       "      <th>visits</th>\n",
       "      <th>nights</th>\n",
       "      <th>expend</th>\n",
       "      <th>sample</th>\n",
       "    </tr>\n",
       "  </thead>\n",
       "  <tbody>\n",
       "    <tr>\n",
       "      <th>4347</th>\n",
       "      <td>2009</td>\n",
       "      <td>Jan-Mar</td>\n",
       "      <td>Overseas residents</td>\n",
       "      <td>Air</td>\n",
       "      <td>Austria</td>\n",
       "      <td>Holiday</td>\n",
       "      <td>Independent</td>\n",
       "      <td>16-24</td>\n",
       "      <td>Male</td>\n",
       "      <td>1-3 nights</td>\n",
       "      <td>194.0</td>\n",
       "      <td>583.0</td>\n",
       "      <td>100043</td>\n",
       "      <td>1</td>\n",
       "    </tr>\n",
       "    <tr>\n",
       "      <th>4348</th>\n",
       "      <td>2009</td>\n",
       "      <td>Jan-Mar</td>\n",
       "      <td>Overseas residents</td>\n",
       "      <td>Air</td>\n",
       "      <td>Austria</td>\n",
       "      <td>Holiday</td>\n",
       "      <td>Independent</td>\n",
       "      <td>16-24</td>\n",
       "      <td>Male</td>\n",
       "      <td>4-13 nights</td>\n",
       "      <td>2974.0</td>\n",
       "      <td>23554.0</td>\n",
       "      <td>2099652</td>\n",
       "      <td>5</td>\n",
       "    </tr>\n",
       "    <tr>\n",
       "      <th>4349</th>\n",
       "      <td>2009</td>\n",
       "      <td>Jan-Mar</td>\n",
       "      <td>Overseas residents</td>\n",
       "      <td>Air</td>\n",
       "      <td>Austria</td>\n",
       "      <td>Holiday</td>\n",
       "      <td>Independent</td>\n",
       "      <td>16-24</td>\n",
       "      <td>Female</td>\n",
       "      <td>1-3 nights</td>\n",
       "      <td>288.0</td>\n",
       "      <td>864.0</td>\n",
       "      <td>203525</td>\n",
       "      <td>1</td>\n",
       "    </tr>\n",
       "    <tr>\n",
       "      <th>4350</th>\n",
       "      <td>2009</td>\n",
       "      <td>Jan-Mar</td>\n",
       "      <td>Overseas residents</td>\n",
       "      <td>Air</td>\n",
       "      <td>Austria</td>\n",
       "      <td>Holiday</td>\n",
       "      <td>Independent</td>\n",
       "      <td>16-24</td>\n",
       "      <td>Female</td>\n",
       "      <td>4-13 nights</td>\n",
       "      <td>1566.0</td>\n",
       "      <td>9393.0</td>\n",
       "      <td>1075510</td>\n",
       "      <td>3</td>\n",
       "    </tr>\n",
       "    <tr>\n",
       "      <th>4351</th>\n",
       "      <td>2009</td>\n",
       "      <td>Jan-Mar</td>\n",
       "      <td>Overseas residents</td>\n",
       "      <td>Air</td>\n",
       "      <td>Austria</td>\n",
       "      <td>Holiday</td>\n",
       "      <td>Independent</td>\n",
       "      <td>25-34</td>\n",
       "      <td>Male</td>\n",
       "      <td>4-13 nights</td>\n",
       "      <td>1782.0</td>\n",
       "      <td>8074.0</td>\n",
       "      <td>779012</td>\n",
       "      <td>2</td>\n",
       "    </tr>\n",
       "  </tbody>\n",
       "</table>\n",
       "</div>"
      ],
      "text/plain": [
       "      Year  quarter                ukos mode  country  purpose      package  \\\n",
       "4347  2009  Jan-Mar  Overseas residents  Air  Austria  Holiday  Independent   \n",
       "4348  2009  Jan-Mar  Overseas residents  Air  Austria  Holiday  Independent   \n",
       "4349  2009  Jan-Mar  Overseas residents  Air  Austria  Holiday  Independent   \n",
       "4350  2009  Jan-Mar  Overseas residents  Air  Austria  Holiday  Independent   \n",
       "4351  2009  Jan-Mar  Overseas residents  Air  Austria  Holiday  Independent   \n",
       "\n",
       "        Age     Sex     duration  visits   nights   expend sample  \n",
       "4347  16-24    Male   1-3 nights   194.0    583.0   100043      1  \n",
       "4348  16-24    Male  4-13 nights  2974.0  23554.0  2099652      5  \n",
       "4349  16-24  Female   1-3 nights   288.0    864.0   203525      1  \n",
       "4350  16-24  Female  4-13 nights  1566.0   9393.0  1075510      3  \n",
       "4351  25-34    Male  4-13 nights  1782.0   8074.0   779012      2  "
      ]
     },
     "execution_count": 130,
     "metadata": {},
     "output_type": "execute_result"
    }
   ],
   "source": [
    "#Previewing the Overseas travellers \n",
    "\n",
    "dfOverseas.head()"
   ]
  },
  {
   "cell_type": "code",
   "execution_count": 131,
   "metadata": {},
   "outputs": [
    {
     "data": {
      "text/plain": [
       "(202076, 14)"
      ]
     },
     "execution_count": 131,
     "metadata": {},
     "output_type": "execute_result"
    }
   ],
   "source": [
    "dfOverseas.shape"
   ]
  },
  {
   "cell_type": "markdown",
   "metadata": {},
   "source": [
    "#  Section C\n",
    "## Categorizing results base on uK and Overseas travellers"
   ]
  },
  {
   "cell_type": "markdown",
   "metadata": {},
   "source": [
    "## Night Spent by UK Traveler"
   ]
  },
  {
   "cell_type": "code",
   "execution_count": 132,
   "metadata": {},
   "outputs": [
    {
     "data": {
      "text/plain": [
       "<AxesSubplot:xlabel='duration', ylabel='count'>"
      ]
     },
     "execution_count": 132,
     "metadata": {},
     "output_type": "execute_result"
    },
    {
     "data": {
      "image/png": "[encoded data removed]",
      "text/plain": [
       "<Figure size 1080x432 with 1 Axes>"
      ]
     },
     "metadata": {
      "needs_background": "light"
     },
     "output_type": "display_data"
    }
   ],
   "source": [
    "plt.figure(figsize = (15,6))\n",
    "sns.countplot(x = \"duration\", data = dfUK)"
   ]
  },
  {
   "cell_type": "code",
   "execution_count": 133,
   "metadata": {},
   "outputs": [],
   "source": [
    "dfUK = df[df['ukos'] == 'UK residents']"
   ]
  },
  {
   "cell_type": "markdown",
   "metadata": {},
   "source": [
    "## Night spend by Overseas travelers"
   ]
  },
  {
   "cell_type": "code",
   "execution_count": 134,
   "metadata": {},
   "outputs": [
    {
     "data": {
      "text/plain": [
       "<AxesSubplot:xlabel='duration', ylabel='count'>"
      ]
     },
     "execution_count": 134,
     "metadata": {},
     "output_type": "execute_result"
    },
    {
     "data": {
      "image/png": "[encoded data removed]",
      "text/plain": [
       "<Figure size 1080x432 with 1 Axes>"
      ]
     },
     "metadata": {
      "needs_background": "light"
     },
     "output_type": "display_data"
    }
   ],
   "source": [
    "plt.figure(figsize = (15,6))\n",
    "sns.countplot(x = \"duration\", data = dfOverseas)"
   ]
  },
  {
   "cell_type": "code",
   "execution_count": 135,
   "metadata": {},
   "outputs": [
    {
     "name": "stdout",
     "output_type": "stream",
     "text": [
      "4-13 nights      158704\n",
      "1-3 nights       113690\n",
      "14-27 nights      73571\n",
      "28-90 nights      36349\n",
      "Nil Stay          17618\n",
      "3-6 months         7466\n",
      "6 months-year      2311\n",
      "Name: duration, dtype: int64\n"
     ]
    }
   ],
   "source": [
    "print(df['duration'].value_counts())"
   ]
  },
  {
   "cell_type": "markdown",
   "metadata": {},
   "source": [
    "The above results shows that most travellers spend night between 4 - 13. \n",
    "This travellers would be selected to identify the similarities amont them"
   ]
  },
  {
   "cell_type": "markdown",
   "metadata": {},
   "source": [
    "## Deriving information from oversea travellers who spend 4 - 13 nights "
   ]
  },
  {
   "cell_type": "code",
   "execution_count": 136,
   "metadata": {},
   "outputs": [
    {
     "data": {
      "text/html": [
       "<div>\n",
       "<style scoped>\n",
       "    .dataframe tbody tr th:only-of-type {\n",
       "        vertical-align: middle;\n",
       "    }\n",
       "\n",
       "    .dataframe tbody tr th {\n",
       "        vertical-align: top;\n",
       "    }\n",
       "\n",
       "    .dataframe thead th {\n",
       "        text-align: right;\n",
       "    }\n",
       "</style>\n",
       "<table border=\"1\" class=\"dataframe\">\n",
       "  <thead>\n",
       "    <tr style=\"text-align: right;\">\n",
       "      <th></th>\n",
       "      <th>Year</th>\n",
       "      <th>quarter</th>\n",
       "      <th>ukos</th>\n",
       "      <th>mode</th>\n",
       "      <th>country</th>\n",
       "      <th>purpose</th>\n",
       "      <th>package</th>\n",
       "      <th>Age</th>\n",
       "      <th>Sex</th>\n",
       "      <th>duration</th>\n",
       "      <th>visits</th>\n",
       "      <th>nights</th>\n",
       "      <th>expend</th>\n",
       "      <th>sample</th>\n",
       "    </tr>\n",
       "  </thead>\n",
       "  <tbody>\n",
       "    <tr>\n",
       "      <th>4348</th>\n",
       "      <td>2009</td>\n",
       "      <td>Jan-Mar</td>\n",
       "      <td>Overseas residents</td>\n",
       "      <td>Air</td>\n",
       "      <td>Austria</td>\n",
       "      <td>Holiday</td>\n",
       "      <td>Independent</td>\n",
       "      <td>16-24</td>\n",
       "      <td>Male</td>\n",
       "      <td>4-13 nights</td>\n",
       "      <td>2974.0</td>\n",
       "      <td>23554.0</td>\n",
       "      <td>2099652</td>\n",
       "      <td>5</td>\n",
       "    </tr>\n",
       "    <tr>\n",
       "      <th>4350</th>\n",
       "      <td>2009</td>\n",
       "      <td>Jan-Mar</td>\n",
       "      <td>Overseas residents</td>\n",
       "      <td>Air</td>\n",
       "      <td>Austria</td>\n",
       "      <td>Holiday</td>\n",
       "      <td>Independent</td>\n",
       "      <td>16-24</td>\n",
       "      <td>Female</td>\n",
       "      <td>4-13 nights</td>\n",
       "      <td>1566.0</td>\n",
       "      <td>9393.0</td>\n",
       "      <td>1075510</td>\n",
       "      <td>3</td>\n",
       "    </tr>\n",
       "    <tr>\n",
       "      <th>4351</th>\n",
       "      <td>2009</td>\n",
       "      <td>Jan-Mar</td>\n",
       "      <td>Overseas residents</td>\n",
       "      <td>Air</td>\n",
       "      <td>Austria</td>\n",
       "      <td>Holiday</td>\n",
       "      <td>Independent</td>\n",
       "      <td>25-34</td>\n",
       "      <td>Male</td>\n",
       "      <td>4-13 nights</td>\n",
       "      <td>1782.0</td>\n",
       "      <td>8074.0</td>\n",
       "      <td>779012</td>\n",
       "      <td>2</td>\n",
       "    </tr>\n",
       "    <tr>\n",
       "      <th>4353</th>\n",
       "      <td>2009</td>\n",
       "      <td>Jan-Mar</td>\n",
       "      <td>Overseas residents</td>\n",
       "      <td>Air</td>\n",
       "      <td>Austria</td>\n",
       "      <td>Holiday</td>\n",
       "      <td>Independent</td>\n",
       "      <td>25-34</td>\n",
       "      <td>Female</td>\n",
       "      <td>4-13 nights</td>\n",
       "      <td>497.0</td>\n",
       "      <td>1989.0</td>\n",
       "      <td>57196</td>\n",
       "      <td>1</td>\n",
       "    </tr>\n",
       "    <tr>\n",
       "      <th>4355</th>\n",
       "      <td>2009</td>\n",
       "      <td>Jan-Mar</td>\n",
       "      <td>Overseas residents</td>\n",
       "      <td>Air</td>\n",
       "      <td>Austria</td>\n",
       "      <td>Holiday</td>\n",
       "      <td>Independent</td>\n",
       "      <td>35-44</td>\n",
       "      <td>Male</td>\n",
       "      <td>4-13 nights</td>\n",
       "      <td>833.0</td>\n",
       "      <td>4441.0</td>\n",
       "      <td>198600</td>\n",
       "      <td>2</td>\n",
       "    </tr>\n",
       "  </tbody>\n",
       "</table>\n",
       "</div>"
      ],
      "text/plain": [
       "      Year  quarter                ukos mode  country  purpose      package  \\\n",
       "4348  2009  Jan-Mar  Overseas residents  Air  Austria  Holiday  Independent   \n",
       "4350  2009  Jan-Mar  Overseas residents  Air  Austria  Holiday  Independent   \n",
       "4351  2009  Jan-Mar  Overseas residents  Air  Austria  Holiday  Independent   \n",
       "4353  2009  Jan-Mar  Overseas residents  Air  Austria  Holiday  Independent   \n",
       "4355  2009  Jan-Mar  Overseas residents  Air  Austria  Holiday  Independent   \n",
       "\n",
       "        Age     Sex     duration  visits   nights   expend sample  \n",
       "4348  16-24    Male  4-13 nights  2974.0  23554.0  2099652      5  \n",
       "4350  16-24  Female  4-13 nights  1566.0   9393.0  1075510      3  \n",
       "4351  25-34    Male  4-13 nights  1782.0   8074.0   779012      2  \n",
       "4353  25-34  Female  4-13 nights   497.0   1989.0    57196      1  \n",
       "4355  35-44    Male  4-13 nights   833.0   4441.0   198600      2  "
      ]
     },
     "execution_count": 136,
     "metadata": {},
     "output_type": "execute_result"
    }
   ],
   "source": [
    "#Getting overseas and Uk travellers who spend night between 4 - 13 nights. \n",
    "\n",
    "dfUK4to13 = dfUK[dfUK['duration'] == '4-13 nights']\n",
    "\n",
    "\n",
    "dfOverseas4to13 = dfOverseas[dfOverseas['duration'] == '4-13 nights']\n",
    "dfOverseas4to13.head()"
   ]
  },
  {
   "cell_type": "code",
   "execution_count": 137,
   "metadata": {},
   "outputs": [
    {
     "name": "stdout",
     "output_type": "stream",
     "text": [
      "France             4973\n",
      "Germany            4716\n",
      "USA                4275\n",
      "Netherlands        3775\n",
      "Irish Republic     2667\n",
      "                   ... \n",
      "Tunisia              75\n",
      "Cyprus Non EU        64\n",
      "Barbados             56\n",
      "Jamaica              37\n",
      "Other countries      37\n",
      "Name: country, Length: 61, dtype: int64\n"
     ]
    }
   ],
   "source": [
    "# Countries of travellers who spend 4 - 13 night\n",
    "\n",
    "print(dfOverseas4to13['country'].value_counts())"
   ]
  },
  {
   "cell_type": "code",
   "execution_count": 138,
   "metadata": {},
   "outputs": [
    {
     "data": {
      "text/plain": [
       "<AxesSubplot:xlabel='purpose', ylabel='count'>"
      ]
     },
     "execution_count": 138,
     "metadata": {},
     "output_type": "execute_result"
    },
    {
     "data": {
      "image/png": "[encoded data removed]",
      "text/plain": [
       "<Figure size 1080x432 with 1 Axes>"
      ]
     },
     "metadata": {
      "needs_background": "light"
     },
     "output_type": "display_data"
    }
   ],
   "source": [
    "# Displaying the purpose of UK Passengers who spend night between 4 to 13\n",
    "\n",
    "plt.figure(figsize = (15,6))\n",
    "sns.countplot(x = \"purpose\", data = dfUK4to13)"
   ]
  },
  {
   "cell_type": "code",
   "execution_count": 139,
   "metadata": {},
   "outputs": [
    {
     "data": {
      "text/plain": [
       "<AxesSubplot:xlabel='Age', ylabel='count'>"
      ]
     },
     "execution_count": 139,
     "metadata": {},
     "output_type": "execute_result"
    },
    {
     "data": {
      "image/png": "[encoded data removed]",
      "text/plain": [
       "<Figure size 1080x432 with 1 Axes>"
      ]
     },
     "metadata": {
      "needs_background": "light"
     },
     "output_type": "display_data"
    }
   ],
   "source": [
    "# Displaying the age of travellers who spend night between 4 to 13\n",
    "\n",
    "plt.figure(figsize = (15,6))\n",
    "sns.countplot(x = \"Age\", data = dfOverseas4to13)"
   ]
  },
  {
   "cell_type": "markdown",
   "metadata": {},
   "source": [
    "## Deriving information from UK travellers who spend 4 - 13 nights "
   ]
  },
  {
   "cell_type": "code",
   "execution_count": 140,
   "metadata": {},
   "outputs": [
    {
     "data": {
      "text/html": [
       "<div>\n",
       "<style scoped>\n",
       "    .dataframe tbody tr th:only-of-type {\n",
       "        vertical-align: middle;\n",
       "    }\n",
       "\n",
       "    .dataframe tbody tr th {\n",
       "        vertical-align: top;\n",
       "    }\n",
       "\n",
       "    .dataframe thead th {\n",
       "        text-align: right;\n",
       "    }\n",
       "</style>\n",
       "<table border=\"1\" class=\"dataframe\">\n",
       "  <thead>\n",
       "    <tr style=\"text-align: right;\">\n",
       "      <th></th>\n",
       "      <th>Year</th>\n",
       "      <th>quarter</th>\n",
       "      <th>ukos</th>\n",
       "      <th>mode</th>\n",
       "      <th>country</th>\n",
       "      <th>purpose</th>\n",
       "      <th>package</th>\n",
       "      <th>Age</th>\n",
       "      <th>Sex</th>\n",
       "      <th>duration</th>\n",
       "      <th>visits</th>\n",
       "      <th>nights</th>\n",
       "      <th>expend</th>\n",
       "      <th>sample</th>\n",
       "    </tr>\n",
       "  </thead>\n",
       "  <tbody>\n",
       "    <tr>\n",
       "      <th>0</th>\n",
       "      <td>2009</td>\n",
       "      <td>Jan-Mar</td>\n",
       "      <td>UK residents</td>\n",
       "      <td>Air</td>\n",
       "      <td>Austria</td>\n",
       "      <td>Holiday</td>\n",
       "      <td>Independent</td>\n",
       "      <td>0-15</td>\n",
       "      <td>Male</td>\n",
       "      <td>4-13 nights</td>\n",
       "      <td>1601.0</td>\n",
       "      <td>11205.0</td>\n",
       "      <td>1103402</td>\n",
       "      <td>3</td>\n",
       "    </tr>\n",
       "    <tr>\n",
       "      <th>1</th>\n",
       "      <td>2009</td>\n",
       "      <td>Jan-Mar</td>\n",
       "      <td>UK residents</td>\n",
       "      <td>Air</td>\n",
       "      <td>Austria</td>\n",
       "      <td>Holiday</td>\n",
       "      <td>Independent</td>\n",
       "      <td>0-15</td>\n",
       "      <td>Female</td>\n",
       "      <td>4-13 nights</td>\n",
       "      <td>1601.0</td>\n",
       "      <td>11205.0</td>\n",
       "      <td>1125278</td>\n",
       "      <td>3</td>\n",
       "    </tr>\n",
       "    <tr>\n",
       "      <th>2</th>\n",
       "      <td>2009</td>\n",
       "      <td>Jan-Mar</td>\n",
       "      <td>UK residents</td>\n",
       "      <td>Air</td>\n",
       "      <td>Austria</td>\n",
       "      <td>Holiday</td>\n",
       "      <td>Independent</td>\n",
       "      <td>16-24</td>\n",
       "      <td>Male</td>\n",
       "      <td>4-13 nights</td>\n",
       "      <td>3065.0</td>\n",
       "      <td>20873.0</td>\n",
       "      <td>1622982</td>\n",
       "      <td>3</td>\n",
       "    </tr>\n",
       "    <tr>\n",
       "      <th>3</th>\n",
       "      <td>2009</td>\n",
       "      <td>Jan-Mar</td>\n",
       "      <td>UK residents</td>\n",
       "      <td>Air</td>\n",
       "      <td>Austria</td>\n",
       "      <td>Holiday</td>\n",
       "      <td>Independent</td>\n",
       "      <td>16-24</td>\n",
       "      <td>Female</td>\n",
       "      <td>4-13 nights</td>\n",
       "      <td>2703.0</td>\n",
       "      <td>12412.0</td>\n",
       "      <td>1164191</td>\n",
       "      <td>2</td>\n",
       "    </tr>\n",
       "    <tr>\n",
       "      <th>6</th>\n",
       "      <td>2009</td>\n",
       "      <td>Jan-Mar</td>\n",
       "      <td>UK residents</td>\n",
       "      <td>Air</td>\n",
       "      <td>Austria</td>\n",
       "      <td>Holiday</td>\n",
       "      <td>Independent</td>\n",
       "      <td>25-34</td>\n",
       "      <td>Male</td>\n",
       "      <td>4-13 nights</td>\n",
       "      <td>8300.0</td>\n",
       "      <td>56336.0</td>\n",
       "      <td>4913306</td>\n",
       "      <td>9</td>\n",
       "    </tr>\n",
       "  </tbody>\n",
       "</table>\n",
       "</div>"
      ],
      "text/plain": [
       "   Year  quarter          ukos mode  country  purpose      package    Age  \\\n",
       "0  2009  Jan-Mar  UK residents  Air  Austria  Holiday  Independent   0-15   \n",
       "1  2009  Jan-Mar  UK residents  Air  Austria  Holiday  Independent   0-15   \n",
       "2  2009  Jan-Mar  UK residents  Air  Austria  Holiday  Independent  16-24   \n",
       "3  2009  Jan-Mar  UK residents  Air  Austria  Holiday  Independent  16-24   \n",
       "6  2009  Jan-Mar  UK residents  Air  Austria  Holiday  Independent  25-34   \n",
       "\n",
       "      Sex     duration  visits   nights   expend sample  \n",
       "0    Male  4-13 nights  1601.0  11205.0  1103402      3  \n",
       "1  Female  4-13 nights  1601.0  11205.0  1125278      3  \n",
       "2    Male  4-13 nights  3065.0  20873.0  1622982      3  \n",
       "3  Female  4-13 nights  2703.0  12412.0  1164191      2  \n",
       "6    Male  4-13 nights  8300.0  56336.0  4913306      9  "
      ]
     },
     "execution_count": 140,
     "metadata": {},
     "output_type": "execute_result"
    }
   ],
   "source": [
    "dfUK4to13 = dfUK[dfUK['duration'] == '4-13 nights']\n",
    "dfUK4to13.head()"
   ]
  },
  {
   "cell_type": "code",
   "execution_count": 141,
   "metadata": {},
   "outputs": [
    {
     "data": {
      "text/plain": [
       "<AxesSubplot:xlabel='purpose', ylabel='count'>"
      ]
     },
     "execution_count": 141,
     "metadata": {},
     "output_type": "execute_result"
    },
    {
     "data": {
      "image/png": "[encoded data removed]",
      "text/plain": [
       "<Figure size 1080x432 with 1 Axes>"
      ]
     },
     "metadata": {
      "needs_background": "light"
     },
     "output_type": "display_data"
    }
   ],
   "source": [
    "# Identifying the purpose of travelling between of UK passenger who wan to spend 4 - 13 nights\n",
    "\n",
    "plt.figure(figsize = (15,6))\n",
    "sns.countplot(x = \"purpose\", data = dfUK4to13)"
   ]
  },
  {
   "cell_type": "code",
   "execution_count": 142,
   "metadata": {},
   "outputs": [
    {
     "data": {
      "text/plain": [
       "<AxesSubplot:xlabel='purpose', ylabel='count'>"
      ]
     },
     "execution_count": 142,
     "metadata": {},
     "output_type": "execute_result"
    },
    {
     "data": {
      "image/png": "[encoded data removed]",
      "text/plain": [
       "<Figure size 1080x432 with 1 Axes>"
      ]
     },
     "metadata": {
      "needs_background": "light"
     },
     "output_type": "display_data"
    }
   ],
   "source": [
    "# Identifying the purpose of travelling between of Overseas passenger who wan to spend 4 - 13 nights\n",
    "\n",
    "plt.figure(figsize = (15,6))\n",
    "sns.countplot(x = \"purpose\", data = dfOverseas)"
   ]
  },
  {
   "cell_type": "code",
   "execution_count": 143,
   "metadata": {},
   "outputs": [
    {
     "data": {
      "text/html": [
       "<div>\n",
       "<style scoped>\n",
       "    .dataframe tbody tr th:only-of-type {\n",
       "        vertical-align: middle;\n",
       "    }\n",
       "\n",
       "    .dataframe tbody tr th {\n",
       "        vertical-align: top;\n",
       "    }\n",
       "\n",
       "    .dataframe thead th {\n",
       "        text-align: right;\n",
       "    }\n",
       "</style>\n",
       "<table border=\"1\" class=\"dataframe\">\n",
       "  <thead>\n",
       "    <tr style=\"text-align: right;\">\n",
       "      <th></th>\n",
       "      <th>Year</th>\n",
       "      <th>quarter</th>\n",
       "      <th>ukos</th>\n",
       "      <th>mode</th>\n",
       "      <th>country</th>\n",
       "      <th>purpose</th>\n",
       "      <th>package</th>\n",
       "      <th>Age</th>\n",
       "      <th>Sex</th>\n",
       "      <th>duration</th>\n",
       "      <th>visits</th>\n",
       "      <th>nights</th>\n",
       "      <th>expend</th>\n",
       "      <th>sample</th>\n",
       "    </tr>\n",
       "  </thead>\n",
       "  <tbody>\n",
       "    <tr>\n",
       "      <th>4384</th>\n",
       "      <td>2009</td>\n",
       "      <td>Jan-Mar</td>\n",
       "      <td>Overseas residents</td>\n",
       "      <td>Air</td>\n",
       "      <td>Austria</td>\n",
       "      <td>VFR</td>\n",
       "      <td>Independent</td>\n",
       "      <td>16-24</td>\n",
       "      <td>Male</td>\n",
       "      <td>4-13 nights</td>\n",
       "      <td>905.0</td>\n",
       "      <td>5187.0</td>\n",
       "      <td>62360</td>\n",
       "      <td>2</td>\n",
       "    </tr>\n",
       "    <tr>\n",
       "      <th>4387</th>\n",
       "      <td>2009</td>\n",
       "      <td>Jan-Mar</td>\n",
       "      <td>Overseas residents</td>\n",
       "      <td>Air</td>\n",
       "      <td>Austria</td>\n",
       "      <td>VFR</td>\n",
       "      <td>Independent</td>\n",
       "      <td>16-24</td>\n",
       "      <td>Female</td>\n",
       "      <td>4-13 nights</td>\n",
       "      <td>1725.0</td>\n",
       "      <td>10427.0</td>\n",
       "      <td>585729</td>\n",
       "      <td>3</td>\n",
       "    </tr>\n",
       "    <tr>\n",
       "      <th>4389</th>\n",
       "      <td>2009</td>\n",
       "      <td>Jan-Mar</td>\n",
       "      <td>Overseas residents</td>\n",
       "      <td>Air</td>\n",
       "      <td>Austria</td>\n",
       "      <td>VFR</td>\n",
       "      <td>Independent</td>\n",
       "      <td>25-34</td>\n",
       "      <td>Male</td>\n",
       "      <td>4-13 nights</td>\n",
       "      <td>947.0</td>\n",
       "      <td>6629.0</td>\n",
       "      <td>677126</td>\n",
       "      <td>1</td>\n",
       "    </tr>\n",
       "    <tr>\n",
       "      <th>4391</th>\n",
       "      <td>2009</td>\n",
       "      <td>Jan-Mar</td>\n",
       "      <td>Overseas residents</td>\n",
       "      <td>Air</td>\n",
       "      <td>Austria</td>\n",
       "      <td>VFR</td>\n",
       "      <td>Independent</td>\n",
       "      <td>25-34</td>\n",
       "      <td>Female</td>\n",
       "      <td>4-13 nights</td>\n",
       "      <td>1655.0</td>\n",
       "      <td>9587.0</td>\n",
       "      <td>309760</td>\n",
       "      <td>3</td>\n",
       "    </tr>\n",
       "    <tr>\n",
       "      <th>4393</th>\n",
       "      <td>2009</td>\n",
       "      <td>Jan-Mar</td>\n",
       "      <td>Overseas residents</td>\n",
       "      <td>Air</td>\n",
       "      <td>Austria</td>\n",
       "      <td>VFR</td>\n",
       "      <td>Independent</td>\n",
       "      <td>35-44</td>\n",
       "      <td>Male</td>\n",
       "      <td>4-13 nights</td>\n",
       "      <td>567.0</td>\n",
       "      <td>2267.0</td>\n",
       "      <td>93510</td>\n",
       "      <td>1</td>\n",
       "    </tr>\n",
       "  </tbody>\n",
       "</table>\n",
       "</div>"
      ],
      "text/plain": [
       "      Year  quarter                ukos mode  country purpose      package  \\\n",
       "4384  2009  Jan-Mar  Overseas residents  Air  Austria     VFR  Independent   \n",
       "4387  2009  Jan-Mar  Overseas residents  Air  Austria     VFR  Independent   \n",
       "4389  2009  Jan-Mar  Overseas residents  Air  Austria     VFR  Independent   \n",
       "4391  2009  Jan-Mar  Overseas residents  Air  Austria     VFR  Independent   \n",
       "4393  2009  Jan-Mar  Overseas residents  Air  Austria     VFR  Independent   \n",
       "\n",
       "        Age     Sex     duration  visits   nights  expend sample  \n",
       "4384  16-24    Male  4-13 nights   905.0   5187.0   62360      2  \n",
       "4387  16-24  Female  4-13 nights  1725.0  10427.0  585729      3  \n",
       "4389  25-34    Male  4-13 nights   947.0   6629.0  677126      1  \n",
       "4391  25-34  Female  4-13 nights  1655.0   9587.0  309760      3  \n",
       "4393  35-44    Male  4-13 nights   567.0   2267.0   93510      1  "
      ]
     },
     "execution_count": 143,
     "metadata": {},
     "output_type": "execute_result"
    }
   ],
   "source": [
    "# Oversea passengers who went on visitaion\n",
    "\n",
    "\n",
    "dfOverseas4to13_VFR = dfOverseas4to13[dfOverseas4to13['purpose'] == 'VFR']\n",
    "dfOverseas4to13_VFR.head()"
   ]
  },
  {
   "cell_type": "code",
   "execution_count": 144,
   "metadata": {},
   "outputs": [
    {
     "data": {
      "text/plain": [
       "<AxesSubplot:xlabel='Age', ylabel='count'>"
      ]
     },
     "execution_count": 144,
     "metadata": {},
     "output_type": "execute_result"
    },
    {
     "data": {
      "image/png": "[encoded data removed]",
      "text/plain": [
       "<Figure size 1080x432 with 1 Axes>"
      ]
     },
     "metadata": {
      "needs_background": "light"
     },
     "output_type": "display_data"
    }
   ],
   "source": [
    "plt.figure(figsize = (15,6))\n",
    "sns.countplot(x = \"Age\", data = dfOverseas4to13_VFR)"
   ]
  },
  {
   "cell_type": "code",
   "execution_count": 145,
   "metadata": {},
   "outputs": [
    {
     "data": {
      "text/html": [
       "<div>\n",
       "<style scoped>\n",
       "    .dataframe tbody tr th:only-of-type {\n",
       "        vertical-align: middle;\n",
       "    }\n",
       "\n",
       "    .dataframe tbody tr th {\n",
       "        vertical-align: top;\n",
       "    }\n",
       "\n",
       "    .dataframe thead th {\n",
       "        text-align: right;\n",
       "    }\n",
       "</style>\n",
       "<table border=\"1\" class=\"dataframe\">\n",
       "  <thead>\n",
       "    <tr style=\"text-align: right;\">\n",
       "      <th></th>\n",
       "      <th>Year</th>\n",
       "      <th>quarter</th>\n",
       "      <th>ukos</th>\n",
       "      <th>mode</th>\n",
       "      <th>country</th>\n",
       "      <th>purpose</th>\n",
       "      <th>package</th>\n",
       "      <th>Age</th>\n",
       "      <th>Sex</th>\n",
       "      <th>duration</th>\n",
       "      <th>visits</th>\n",
       "      <th>nights</th>\n",
       "      <th>expend</th>\n",
       "      <th>sample</th>\n",
       "    </tr>\n",
       "  </thead>\n",
       "  <tbody>\n",
       "    <tr>\n",
       "      <th>56</th>\n",
       "      <td>2009</td>\n",
       "      <td>Jan-Mar</td>\n",
       "      <td>UK residents</td>\n",
       "      <td>Air</td>\n",
       "      <td>Austria</td>\n",
       "      <td>VFR</td>\n",
       "      <td>Independent</td>\n",
       "      <td>0-15</td>\n",
       "      <td>Male</td>\n",
       "      <td>4-13 nights</td>\n",
       "      <td>525.0</td>\n",
       "      <td>3677.0</td>\n",
       "      <td>385083</td>\n",
       "      <td>1</td>\n",
       "    </tr>\n",
       "    <tr>\n",
       "      <th>59</th>\n",
       "      <td>2009</td>\n",
       "      <td>Jan-Mar</td>\n",
       "      <td>UK residents</td>\n",
       "      <td>Air</td>\n",
       "      <td>Austria</td>\n",
       "      <td>VFR</td>\n",
       "      <td>Independent</td>\n",
       "      <td>16-24</td>\n",
       "      <td>Female</td>\n",
       "      <td>4-13 nights</td>\n",
       "      <td>525.0</td>\n",
       "      <td>5254.0</td>\n",
       "      <td>52535</td>\n",
       "      <td>1</td>\n",
       "    </tr>\n",
       "    <tr>\n",
       "      <th>61</th>\n",
       "      <td>2009</td>\n",
       "      <td>Jan-Mar</td>\n",
       "      <td>UK residents</td>\n",
       "      <td>Air</td>\n",
       "      <td>Austria</td>\n",
       "      <td>VFR</td>\n",
       "      <td>Independent</td>\n",
       "      <td>25-34</td>\n",
       "      <td>Male</td>\n",
       "      <td>4-13 nights</td>\n",
       "      <td>666.0</td>\n",
       "      <td>4659.0</td>\n",
       "      <td>33276</td>\n",
       "      <td>1</td>\n",
       "    </tr>\n",
       "    <tr>\n",
       "      <th>63</th>\n",
       "      <td>2009</td>\n",
       "      <td>Jan-Mar</td>\n",
       "      <td>UK residents</td>\n",
       "      <td>Air</td>\n",
       "      <td>Austria</td>\n",
       "      <td>VFR</td>\n",
       "      <td>Independent</td>\n",
       "      <td>25-34</td>\n",
       "      <td>Female</td>\n",
       "      <td>4-13 nights</td>\n",
       "      <td>1105.0</td>\n",
       "      <td>5526.0</td>\n",
       "      <td>64485</td>\n",
       "      <td>2</td>\n",
       "    </tr>\n",
       "    <tr>\n",
       "      <th>65</th>\n",
       "      <td>2009</td>\n",
       "      <td>Jan-Mar</td>\n",
       "      <td>UK residents</td>\n",
       "      <td>Air</td>\n",
       "      <td>Austria</td>\n",
       "      <td>VFR</td>\n",
       "      <td>Independent</td>\n",
       "      <td>35-44</td>\n",
       "      <td>Male</td>\n",
       "      <td>4-13 nights</td>\n",
       "      <td>1067.0</td>\n",
       "      <td>7470.0</td>\n",
       "      <td>872904</td>\n",
       "      <td>2</td>\n",
       "    </tr>\n",
       "  </tbody>\n",
       "</table>\n",
       "</div>"
      ],
      "text/plain": [
       "    Year  quarter          ukos mode  country purpose      package    Age  \\\n",
       "56  2009  Jan-Mar  UK residents  Air  Austria     VFR  Independent   0-15   \n",
       "59  2009  Jan-Mar  UK residents  Air  Austria     VFR  Independent  16-24   \n",
       "61  2009  Jan-Mar  UK residents  Air  Austria     VFR  Independent  25-34   \n",
       "63  2009  Jan-Mar  UK residents  Air  Austria     VFR  Independent  25-34   \n",
       "65  2009  Jan-Mar  UK residents  Air  Austria     VFR  Independent  35-44   \n",
       "\n",
       "       Sex     duration  visits  nights  expend sample  \n",
       "56    Male  4-13 nights   525.0  3677.0  385083      1  \n",
       "59  Female  4-13 nights   525.0  5254.0   52535      1  \n",
       "61    Male  4-13 nights   666.0  4659.0   33276      1  \n",
       "63  Female  4-13 nights  1105.0  5526.0   64485      2  \n",
       "65    Male  4-13 nights  1067.0  7470.0  872904      2  "
      ]
     },
     "execution_count": 145,
     "metadata": {},
     "output_type": "execute_result"
    }
   ],
   "source": [
    "# UK passengers who went on visitaion\n",
    "\n",
    "dfUK4to13_VFR = dfUK4to13[dfUK4to13['purpose'] == 'VFR']\n",
    "dfUK4to13_VFR.head()"
   ]
  },
  {
   "cell_type": "code",
   "execution_count": 146,
   "metadata": {},
   "outputs": [
    {
     "data": {
      "text/plain": [
       "<AxesSubplot:xlabel='Age', ylabel='count'>"
      ]
     },
     "execution_count": 146,
     "metadata": {},
     "output_type": "execute_result"
    },
    {
     "data": {
      "image/png": "[encoded data removed]",
      "text/plain": [
       "<Figure size 1080x432 with 1 Axes>"
      ]
     },
     "metadata": {
      "needs_background": "light"
     },
     "output_type": "display_data"
    }
   ],
   "source": [
    "plt.figure(figsize = (15,6))\n",
    "sns.countplot(x = \"Age\", data = dfUK4to13_VFR)\n"
   ]
  },
  {
   "cell_type": "code",
   "execution_count": 147,
   "metadata": {},
   "outputs": [
    {
     "data": {
      "text/plain": [
       "<AxesSubplot:xlabel='country', ylabel='count'>"
      ]
     },
     "execution_count": 147,
     "metadata": {},
     "output_type": "execute_result"
    },
    {
     "data": {
      "image/png": "[encoded data removed]",
      "text/plain": [
       "<Figure size 1800x432 with 1 Axes>"
      ]
     },
     "metadata": {
      "needs_background": "light"
     },
     "output_type": "display_data"
    }
   ],
   "source": [
    "## Total number of visits per year\n",
    "\n",
    "plt.figure(figsize = (25,6))\n",
    "sns.countplot(x = \"country\", data = df2009)"
   ]
  },
  {
   "cell_type": "code",
   "execution_count": 148,
   "metadata": {},
   "outputs": [],
   "source": [
    "pd.set_option(\"display.max_columns\", None)"
   ]
  },
  {
   "cell_type": "code",
   "execution_count": 149,
   "metadata": {},
   "outputs": [
    {
     "name": "stdout",
     "output_type": "stream",
     "text": [
      "France           35366\n",
      "Germany          21724\n",
      "Netherlands      20437\n",
      "USA              20197\n",
      "Spain            18474\n",
      "                 ...  \n",
      "Slovenia          1039\n",
      "Barbados           914\n",
      "Estonia            863\n",
      "Cyprus Non EU      692\n",
      "0                    1\n",
      "Name: country, Length: 62, dtype: int64\n"
     ]
    }
   ],
   "source": [
    "print(df['country'].value_counts())"
   ]
  },
  {
   "cell_type": "markdown",
   "metadata": {},
   "source": [
    "# Getting total Visits "
   ]
  },
  {
   "cell_type": "code",
   "execution_count": 150,
   "metadata": {},
   "outputs": [
    {
     "name": "stdout",
     "output_type": "stream",
     "text": [
      "4-13 nights      158704\n",
      "1-3 nights       113690\n",
      "14-27 nights      73571\n",
      "28-90 nights      36349\n",
      "Nil Stay          17618\n",
      "3-6 months         7466\n",
      "6 months-year      2311\n",
      "Name: duration, dtype: int64\n"
     ]
    }
   ],
   "source": [
    "print(df['duration'].value_counts())"
   ]
  },
  {
   "cell_type": "code",
   "execution_count": 151,
   "metadata": {},
   "outputs": [],
   "source": [
    "df4 = df[df['duration'] == '4-13 nights']"
   ]
  },
  {
   "cell_type": "code",
   "execution_count": 152,
   "metadata": {},
   "outputs": [
    {
     "name": "stdout",
     "output_type": "stream",
     "text": [
      "625261896.0\n"
     ]
    }
   ],
   "source": [
    "df4Total = df4['visits'].sum()\n",
    "print(df4Total)"
   ]
  },
  {
   "cell_type": "markdown",
   "metadata": {},
   "source": [
    "## Time Series Analysis"
   ]
  },
  {
   "cell_type": "code",
   "execution_count": 153,
   "metadata": {},
   "outputs": [],
   "source": [
    "#%pip install pmdarima"
   ]
  },
  {
   "cell_type": "code",
   "execution_count": 154,
   "metadata": {},
   "outputs": [
    {
     "data": {
      "text/html": [
       "<div>\n",
       "<style scoped>\n",
       "    .dataframe tbody tr th:only-of-type {\n",
       "        vertical-align: middle;\n",
       "    }\n",
       "\n",
       "    .dataframe tbody tr th {\n",
       "        vertical-align: top;\n",
       "    }\n",
       "\n",
       "    .dataframe thead th {\n",
       "        text-align: right;\n",
       "    }\n",
       "</style>\n",
       "<table border=\"1\" class=\"dataframe\">\n",
       "  <thead>\n",
       "    <tr style=\"text-align: right;\">\n",
       "      <th></th>\n",
       "      <th>visits</th>\n",
       "    </tr>\n",
       "    <tr>\n",
       "      <th>Year</th>\n",
       "      <th></th>\n",
       "    </tr>\n",
       "  </thead>\n",
       "  <tbody>\n",
       "    <tr>\n",
       "      <th>2009</th>\n",
       "      <td>93482285.0</td>\n",
       "    </tr>\n",
       "    <tr>\n",
       "      <th>2010</th>\n",
       "      <td>93888617.0</td>\n",
       "    </tr>\n",
       "    <tr>\n",
       "      <th>2011</th>\n",
       "      <td>97881855.0</td>\n",
       "    </tr>\n",
       "    <tr>\n",
       "      <th>2012</th>\n",
       "      <td>97968283.0</td>\n",
       "    </tr>\n",
       "    <tr>\n",
       "      <th>2013</th>\n",
       "      <td>101415443.0</td>\n",
       "    </tr>\n",
       "    <tr>\n",
       "      <th>2014</th>\n",
       "      <td>106427670.0</td>\n",
       "    </tr>\n",
       "    <tr>\n",
       "      <th>2015</th>\n",
       "      <td>113300055.0</td>\n",
       "    </tr>\n",
       "    <tr>\n",
       "      <th>2016</th>\n",
       "      <td>119775546.0</td>\n",
       "    </tr>\n",
       "    <tr>\n",
       "      <th>2017</th>\n",
       "      <td>127128962.0</td>\n",
       "    </tr>\n",
       "    <tr>\n",
       "      <th>2018</th>\n",
       "      <td>128006101.0</td>\n",
       "    </tr>\n",
       "    <tr>\n",
       "      <th>2019</th>\n",
       "      <td>131031664.0</td>\n",
       "    </tr>\n",
       "    <tr>\n",
       "      <th>2020</th>\n",
       "      <td>20666117.0</td>\n",
       "    </tr>\n",
       "    <tr>\n",
       "      <th>2021</th>\n",
       "      <td>25148997.0</td>\n",
       "    </tr>\n",
       "  </tbody>\n",
       "</table>\n",
       "</div>"
      ],
      "text/plain": [
       "           visits\n",
       "Year             \n",
       "2009   93482285.0\n",
       "2010   93888617.0\n",
       "2011   97881855.0\n",
       "2012   97968283.0\n",
       "2013  101415443.0\n",
       "2014  106427670.0\n",
       "2015  113300055.0\n",
       "2016  119775546.0\n",
       "2017  127128962.0\n",
       "2018  128006101.0\n",
       "2019  131031664.0\n",
       "2020   20666117.0\n",
       "2021   25148997.0"
      ]
     },
     "execution_count": 154,
     "metadata": {},
     "output_type": "execute_result"
    }
   ],
   "source": [
    "#total number of visits per years\n",
    "total_visits_perYear\n",
    "\n",
    "#total number of nights per years\n",
    "#total_nights_perYear\n",
    "\n",
    "#total expenditure of visits per years\n",
    "#total_expend_perYear"
   ]
  },
  {
   "cell_type": "code",
   "execution_count": 155,
   "metadata": {},
   "outputs": [],
   "source": [
    "df_total_visits_perYear = pd.DataFrame(total_visits_perYear)\n",
    "year = ['2009-01-01','2010-01-01','2011-01-01','2012-01-01','2013-01-01','2014-01-01','2015-01-01','2016-01-01','2017-01-01','2018-01-01','2019-01-01','2020-01-01','2021-01-01']\n",
    "df_total_visits_perYear['year'] = year\n",
    "\n",
    "\n",
    "df_total_nights_perYear = pd.DataFrame(total_nights_perYear)\n",
    "df_total_nights_perYear['year'] = year\n",
    "\n",
    "df_total_expend_perYear = pd.DataFrame(total_expend_perYear)\n",
    "df_total_expend_perYear['year'] = year\n",
    "\n",
    "df_total_expend_perYear.to_csv('expend2009-2021.csv', index=False)\n",
    "df_total_expend_perYear=pd.read_csv('expend2009-2021.csv',index_col='year',parse_dates=True)\n",
    "\n",
    "df_total_nights_perYear.to_csv('nights2009-2021.csv', index=False)\n",
    "df_total_nights_perYear=pd.read_csv('nights2009-2021.csv',index_col='year',parse_dates=True)\n",
    "\n",
    "df_total_visits_perYear.to_csv('visits2009-2021.csv', index=False)\n",
    "df_total_visits_perYear=pd.read_csv('visits2009-2021.csv',index_col='year',parse_dates=True)"
   ]
  },
  {
   "cell_type": "code",
   "execution_count": 80,
   "metadata": {},
   "outputs": [],
   "source": [
    "from statsmodels.tsa.stattools import adfuller\n",
    "\n",
    "def adf_test(dataset):\n",
    "  dftest = adfuller(dataset, autolag = 'AIC')\n",
    "  print(\"1. ADF : \",dftest[0])\n",
    "  print(\"2. P-Value : \", dftest[1])\n",
    "  print(\"3. Num Of Lags : \", dftest[2])\n",
    "  print(\"4. Num Of Observations Used For ADF Regression and Critical Values Calculation :\", dftest[3])\n",
    "  print(\"5. Critical Values :\")\n",
    "  for key, val in dftest[4].items():\n",
    "      print(\"\\t\",key, \": \", val)"
   ]
  },
  {
   "cell_type": "code",
   "execution_count": 81,
   "metadata": {},
   "outputs": [
    {
     "name": "stdout",
     "output_type": "stream",
     "text": [
      "1. ADF :  -2.7230400555654577\n",
      "2. P-Value :  0.07013548475449291\n",
      "3. Num Of Lags :  4\n",
      "4. Num Of Observations Used For ADF Regression and Critical Values Calculation : 8\n",
      "5. Critical Values :\n",
      "\t 1% :  -4.6651863281249994\n",
      "\t 5% :  -3.3671868750000002\n",
      "\t 10% :  -2.802960625\n"
     ]
    }
   ],
   "source": [
    "adf_test(df_total_visits_perYear['visits'])"
   ]
  },
  {
   "cell_type": "code",
   "execution_count": 62,
   "metadata": {},
   "outputs": [],
   "source": [
    "from pmdarima import auto_arima\n",
    "# Ignore harmless warnings\n",
    "import warnings\n",
    "warnings.filterwarnings(\"ignore\")"
   ]
  },
  {
   "cell_type": "code",
   "execution_count": 82,
   "metadata": {
    "scrolled": true
   },
   "outputs": [
    {
     "data": {
      "text/html": [
       "<table class=\"simpletable\">\n",
       "<caption>SARIMAX Results</caption>\n",
       "<tr>\n",
       "  <th>Dep. Variable:</th>           <td>y</td>        <th>  No. Observations:  </th>    <td>13</td>   \n",
       "</tr>\n",
       "<tr>\n",
       "  <th>Model:</th>           <td>SARIMAX(0, 0, 1)</td> <th>  Log Likelihood     </th> <td>-241.759</td>\n",
       "</tr>\n",
       "<tr>\n",
       "  <th>Date:</th>            <td>Tue, 08 Nov 2022</td> <th>  AIC                </th>  <td>489.517</td>\n",
       "</tr>\n",
       "<tr>\n",
       "  <th>Time:</th>                <td>07:54:13</td>     <th>  BIC                </th>  <td>491.212</td>\n",
       "</tr>\n",
       "<tr>\n",
       "  <th>Sample:</th>             <td>01-01-2009</td>    <th>  HQIC               </th>  <td>489.169</td>\n",
       "</tr>\n",
       "<tr>\n",
       "  <th></th>                   <td>- 01-01-2021</td>   <th>                     </th>     <td> </td>   \n",
       "</tr>\n",
       "<tr>\n",
       "  <th>Covariance Type:</th>        <td>opg</td>       <th>                     </th>     <td> </td>   \n",
       "</tr>\n",
       "</table>\n",
       "<table class=\"simpletable\">\n",
       "<tr>\n",
       "      <td></td>         <th>coef</th>     <th>std err</th>      <th>z</th>      <th>P>|z|</th>  <th>[0.025</th>    <th>0.975]</th>  \n",
       "</tr>\n",
       "<tr>\n",
       "  <th>intercept</th> <td> 9.578e+07</td> <td> 6.52e-09</td> <td> 1.47e+16</td> <td> 0.000</td> <td> 9.58e+07</td> <td> 9.58e+07</td>\n",
       "</tr>\n",
       "<tr>\n",
       "  <th>ma.L1</th>     <td>    0.6134</td> <td>    0.423</td> <td>    1.451</td> <td> 0.147</td> <td>   -0.215</td> <td>    1.442</td>\n",
       "</tr>\n",
       "<tr>\n",
       "  <th>sigma2</th>    <td> 9.925e+14</td> <td> 4.64e-16</td> <td> 2.14e+30</td> <td> 0.000</td> <td> 9.93e+14</td> <td> 9.93e+14</td>\n",
       "</tr>\n",
       "</table>\n",
       "<table class=\"simpletable\">\n",
       "<tr>\n",
       "  <th>Ljung-Box (L1) (Q):</th>      <td>0.11</td>  <th>  Jarque-Bera (JB):  </th> <td>27.43</td>\n",
       "</tr>\n",
       "<tr>\n",
       "  <th>Prob(Q):</th>                 <td>0.74</td>  <th>  Prob(JB):          </th> <td>0.00</td> \n",
       "</tr>\n",
       "<tr>\n",
       "  <th>Heteroskedasticity (H):</th> <td>806.26</td> <th>  Skew:              </th> <td>-2.42</td>\n",
       "</tr>\n",
       "<tr>\n",
       "  <th>Prob(H) (two-sided):</th>     <td>0.00</td>  <th>  Kurtosis:          </th> <td>8.22</td> \n",
       "</tr>\n",
       "</table><br/><br/>Warnings:<br/>[1] Covariance matrix calculated using the outer product of gradients (complex-step).<br/>[2] Covariance matrix is singular or near-singular, with condition number 7.59e+45. Standard errors may be unstable."
      ],
      "text/plain": [
       "<class 'statsmodels.iolib.summary.Summary'>\n",
       "\"\"\"\n",
       "                               SARIMAX Results                                \n",
       "==============================================================================\n",
       "Dep. Variable:                      y   No. Observations:                   13\n",
       "Model:               SARIMAX(0, 0, 1)   Log Likelihood                -241.759\n",
       "Date:                Tue, 08 Nov 2022   AIC                            489.517\n",
       "Time:                        07:54:13   BIC                            491.212\n",
       "Sample:                    01-01-2009   HQIC                           489.169\n",
       "                         - 01-01-2021                                         \n",
       "Covariance Type:                  opg                                         \n",
       "==============================================================================\n",
       "                 coef    std err          z      P>|z|      [0.025      0.975]\n",
       "------------------------------------------------------------------------------\n",
       "intercept   9.578e+07   6.52e-09   1.47e+16      0.000    9.58e+07    9.58e+07\n",
       "ma.L1          0.6134      0.423      1.451      0.147      -0.215       1.442\n",
       "sigma2      9.925e+14   4.64e-16   2.14e+30      0.000    9.93e+14    9.93e+14\n",
       "===================================================================================\n",
       "Ljung-Box (L1) (Q):                   0.11   Jarque-Bera (JB):                27.43\n",
       "Prob(Q):                              0.74   Prob(JB):                         0.00\n",
       "Heteroskedasticity (H):             806.26   Skew:                            -2.42\n",
       "Prob(H) (two-sided):                  0.00   Kurtosis:                         8.22\n",
       "===================================================================================\n",
       "\n",
       "Warnings:\n",
       "[1] Covariance matrix calculated using the outer product of gradients (complex-step).\n",
       "[2] Covariance matrix is singular or near-singular, with condition number 7.59e+45. Standard errors may be unstable.\n",
       "\"\"\""
      ]
     },
     "execution_count": 82,
     "metadata": {},
     "output_type": "execute_result"
    }
   ],
   "source": [
    "stepwise_fit = auto_arima(df_total_visits_perYear['visits'], \n",
    "                          suppress_warnings=True)           \n",
    "\n",
    "stepwise_fit.summary()"
   ]
  },
  {
   "cell_type": "code",
   "execution_count": 64,
   "metadata": {},
   "outputs": [],
   "source": [
    "from statsmodels.tsa.arima.model import ARIMA"
   ]
  },
  {
   "cell_type": "code",
   "execution_count": 83,
   "metadata": {},
   "outputs": [
    {
     "name": "stdout",
     "output_type": "stream",
     "text": [
      "(13, 1)\n",
      "(6, 1) (6, 1)\n",
      "visits    119775546.0\n",
      "Name: 2016-01-01 00:00:00, dtype: float64 visits    25148997.0\n",
      "Name: 2021-01-01 00:00:00, dtype: float64\n"
     ]
    }
   ],
   "source": [
    "print(df_total_visits_perYear.shape)\n",
    "train=df_total_visits_perYear.iloc[:-7]\n",
    "test=df_total_visits_perYear.iloc[-6:]\n",
    "print(train.shape,test.shape)\n",
    "print(test.iloc[0],test.iloc[-1])"
   ]
  },
  {
   "cell_type": "markdown",
   "metadata": {},
   "source": [
    "## Train the model"
   ]
  },
  {
   "cell_type": "code",
   "execution_count": 84,
   "metadata": {},
   "outputs": [
    {
     "data": {
      "text/html": [
       "<table class=\"simpletable\">\n",
       "<caption>SARIMAX Results</caption>\n",
       "<tr>\n",
       "  <th>Dep. Variable:</th>        <td>visits</td>      <th>  No. Observations:  </th>    <td>6</td>   \n",
       "</tr>\n",
       "<tr>\n",
       "  <th>Model:</th>            <td>ARIMA(0, 0, 1)</td>  <th>  Log Likelihood     </th> <td>-99.989</td>\n",
       "</tr>\n",
       "<tr>\n",
       "  <th>Date:</th>            <td>Tue, 08 Nov 2022</td> <th>  AIC                </th> <td>205.978</td>\n",
       "</tr>\n",
       "<tr>\n",
       "  <th>Time:</th>                <td>07:54:35</td>     <th>  BIC                </th> <td>205.354</td>\n",
       "</tr>\n",
       "<tr>\n",
       "  <th>Sample:</th>             <td>01-01-2009</td>    <th>  HQIC               </th> <td>203.478</td>\n",
       "</tr>\n",
       "<tr>\n",
       "  <th></th>                   <td>- 01-01-2014</td>   <th>                     </th>    <td> </td>   \n",
       "</tr>\n",
       "<tr>\n",
       "  <th>Covariance Type:</th>        <td>opg</td>       <th>                     </th>    <td> </td>   \n",
       "</tr>\n",
       "</table>\n",
       "<table class=\"simpletable\">\n",
       "<tr>\n",
       "     <td></td>       <th>coef</th>     <th>std err</th>      <th>z</th>      <th>P>|z|</th>  <th>[0.025</th>    <th>0.975]</th>  \n",
       "</tr>\n",
       "<tr>\n",
       "  <th>const</th>  <td> 9.851e+07</td> <td> 6.83e+06</td> <td>   14.433</td> <td> 0.000</td> <td> 8.51e+07</td> <td> 1.12e+08</td>\n",
       "</tr>\n",
       "<tr>\n",
       "  <th>ma.L1</th>  <td>    0.6432</td> <td>    1.463</td> <td>    0.440</td> <td> 0.660</td> <td>   -2.223</td> <td>    3.510</td>\n",
       "</tr>\n",
       "<tr>\n",
       "  <th>sigma2</th> <td> 2.953e+13</td> <td>    0.208</td> <td> 1.42e+14</td> <td> 0.000</td> <td> 2.95e+13</td> <td> 2.95e+13</td>\n",
       "</tr>\n",
       "</table>\n",
       "<table class=\"simpletable\">\n",
       "<tr>\n",
       "  <th>Ljung-Box (L1) (Q):</th>     <td>1.11</td> <th>  Jarque-Bera (JB):  </th> <td>0.42</td>\n",
       "</tr>\n",
       "<tr>\n",
       "  <th>Prob(Q):</th>                <td>0.29</td> <th>  Prob(JB):          </th> <td>0.81</td>\n",
       "</tr>\n",
       "<tr>\n",
       "  <th>Heteroskedasticity (H):</th> <td>1.95</td> <th>  Skew:              </th> <td>0.24</td>\n",
       "</tr>\n",
       "<tr>\n",
       "  <th>Prob(H) (two-sided):</th>    <td>0.68</td> <th>  Kurtosis:          </th> <td>1.80</td>\n",
       "</tr>\n",
       "</table><br/><br/>Warnings:<br/>[1] Covariance matrix calculated using the outer product of gradients (complex-step).<br/>[2] Covariance matrix is singular or near-singular, with condition number 2.9e+30. Standard errors may be unstable."
      ],
      "text/plain": [
       "<class 'statsmodels.iolib.summary.Summary'>\n",
       "\"\"\"\n",
       "                               SARIMAX Results                                \n",
       "==============================================================================\n",
       "Dep. Variable:                 visits   No. Observations:                    6\n",
       "Model:                 ARIMA(0, 0, 1)   Log Likelihood                 -99.989\n",
       "Date:                Tue, 08 Nov 2022   AIC                            205.978\n",
       "Time:                        07:54:35   BIC                            205.354\n",
       "Sample:                    01-01-2009   HQIC                           203.478\n",
       "                         - 01-01-2014                                         \n",
       "Covariance Type:                  opg                                         \n",
       "==============================================================================\n",
       "                 coef    std err          z      P>|z|      [0.025      0.975]\n",
       "------------------------------------------------------------------------------\n",
       "const       9.851e+07   6.83e+06     14.433      0.000    8.51e+07    1.12e+08\n",
       "ma.L1          0.6432      1.463      0.440      0.660      -2.223       3.510\n",
       "sigma2      2.953e+13      0.208   1.42e+14      0.000    2.95e+13    2.95e+13\n",
       "===================================================================================\n",
       "Ljung-Box (L1) (Q):                   1.11   Jarque-Bera (JB):                 0.42\n",
       "Prob(Q):                              0.29   Prob(JB):                         0.81\n",
       "Heteroskedasticity (H):               1.95   Skew:                             0.24\n",
       "Prob(H) (two-sided):                  0.68   Kurtosis:                         1.80\n",
       "===================================================================================\n",
       "\n",
       "Warnings:\n",
       "[1] Covariance matrix calculated using the outer product of gradients (complex-step).\n",
       "[2] Covariance matrix is singular or near-singular, with condition number 2.9e+30. Standard errors may be unstable.\n",
       "\"\"\""
      ]
     },
     "execution_count": 84,
     "metadata": {},
     "output_type": "execute_result"
    }
   ],
   "source": [
    "from statsmodels.tsa.arima.model import ARIMA\n",
    "model=ARIMA(train['visits'],order=(0,0,1))\n",
    "model=model.fit()\n",
    "model.summary()"
   ]
  },
  {
   "cell_type": "markdown",
   "metadata": {},
   "source": [
    "## Make a prediction"
   ]
  },
  {
   "cell_type": "code",
   "execution_count": 85,
   "metadata": {},
   "outputs": [
    {
     "name": "stdout",
     "output_type": "stream",
     "text": [
      "year\n",
      "2015-01-01    1.021445e+08\n",
      "2016-01-01    9.851069e+07\n",
      "2017-01-01    9.851069e+07\n",
      "2018-01-01    9.851069e+07\n",
      "2019-01-01    9.851069e+07\n",
      "2020-01-01    9.851069e+07\n",
      "Name: ARIMA predictions, dtype: float64\n"
     ]
    }
   ],
   "source": [
    "start=len(train)\n",
    "end=len(train)+len(test)-1\n",
    "pred=model.predict(start=start,end=end,typ='levels',exog=None, dynamic=True).rename('ARIMA predictions')\n",
    "pred.index = df_total_visits_perYear.index[start:end+1]\n",
    "print(pred)"
   ]
  },
  {
   "cell_type": "code",
   "execution_count": 86,
   "metadata": {},
   "outputs": [
    {
     "data": {
      "text/plain": [
       "<AxesSubplot:xlabel='year'>"
      ]
     },
     "execution_count": 86,
     "metadata": {},
     "output_type": "execute_result"
    },
    {
     "data": {
      "image/png": "[encoded data removed]",
      "text/plain": [
       "<Figure size 432x288 with 1 Axes>"
      ]
     },
     "metadata": {
      "needs_background": "light"
     },
     "output_type": "display_data"
    }
   ],
   "source": [
    "pred.plot(legend=True)\n",
    "test['visits'].plot(legend=True)"
   ]
  },
  {
   "cell_type": "code",
   "execution_count": 69,
   "metadata": {},
   "outputs": [
    {
     "name": "stdout",
     "output_type": "stream",
     "text": [
      "49158192.15641884\n"
     ]
    }
   ],
   "source": [
    "from sklearn.metrics import mean_squared_error\n",
    "from math import sqrt\n",
    "rmse=sqrt(mean_squared_error(pred,test['visits']))\n",
    "print(rmse)"
   ]
  },
  {
   "cell_type": "code",
   "execution_count": 160,
   "metadata": {},
   "outputs": [
    {
     "data": {
      "text/html": [
       "<div>\n",
       "<style scoped>\n",
       "    .dataframe tbody tr th:only-of-type {\n",
       "        vertical-align: middle;\n",
       "    }\n",
       "\n",
       "    .dataframe tbody tr th {\n",
       "        vertical-align: top;\n",
       "    }\n",
       "\n",
       "    .dataframe thead th {\n",
       "        text-align: right;\n",
       "    }\n",
       "</style>\n",
       "<table border=\"1\" class=\"dataframe\">\n",
       "  <thead>\n",
       "    <tr style=\"text-align: right;\">\n",
       "      <th></th>\n",
       "      <th>visits</th>\n",
       "    </tr>\n",
       "    <tr>\n",
       "      <th>year</th>\n",
       "      <th></th>\n",
       "    </tr>\n",
       "  </thead>\n",
       "  <tbody>\n",
       "    <tr>\n",
       "      <th>2017-01-01</th>\n",
       "      <td>127128962.0</td>\n",
       "    </tr>\n",
       "    <tr>\n",
       "      <th>2018-01-01</th>\n",
       "      <td>128006101.0</td>\n",
       "    </tr>\n",
       "    <tr>\n",
       "      <th>2019-01-01</th>\n",
       "      <td>131031664.0</td>\n",
       "    </tr>\n",
       "    <tr>\n",
       "      <th>2020-01-01</th>\n",
       "      <td>20666117.0</td>\n",
       "    </tr>\n",
       "    <tr>\n",
       "      <th>2021-01-01</th>\n",
       "      <td>25148997.0</td>\n",
       "    </tr>\n",
       "  </tbody>\n",
       "</table>\n",
       "</div>"
      ],
      "text/plain": [
       "                 visits\n",
       "year                   \n",
       "2017-01-01  127128962.0\n",
       "2018-01-01  128006101.0\n",
       "2019-01-01  131031664.0\n",
       "2020-01-01   20666117.0\n",
       "2021-01-01   25148997.0"
      ]
     },
     "execution_count": 160,
     "metadata": {},
     "output_type": "execute_result"
    }
   ],
   "source": [
    "model1=ARIMA(df_total_visits_perYear['visits'],order=(0,0,1))\n",
    "model1=model1.fit()\n",
    "df_total_visits_perYear.tail()"
   ]
  },
  {
   "cell_type": "code",
   "execution_count": 193,
   "metadata": {},
   "outputs": [
    {
     "name": "stdout",
     "output_type": "stream",
     "text": [
      "2022-01-01    8.601428e+07\n",
      "2023-01-01    9.662474e+07\n",
      "2024-01-01    9.662474e+07\n",
      "2025-01-01    9.662474e+07\n",
      "2026-01-01    9.662474e+07\n",
      "2027-01-01    9.662474e+07\n",
      "Freq: AS-JAN, Name: ARIMA Predictions, dtype: float64\n"
     ]
    }
   ],
   "source": [
    "pred=model1.predict(start=len(df_total_visits_perYear),end=len(df_total_visits_perYear)+5,typ='levels',exog=None, dynamic=True).rename('ARIMA Predictions')\n",
    "print(pred)\n",
    "\n",
    "df_pred = pd.DataFrame(pred)\n",
    "year = ['2022-01-01','2023-01-01','2024-01-01','2025-01-01','2026-01-01','2027-01-01']\n",
    "df_pred['year'] = year\n",
    "\n",
    "df_pred.to_csv('future_visits2009-2021.csv', index=False , header = ['Visits', 'Year'])"
   ]
  },
  {
   "cell_type": "markdown",
   "metadata": {},
   "source": [
    "## Arima Model for Expenditure"
   ]
  },
  {
   "cell_type": "code",
   "execution_count": 176,
   "metadata": {},
   "outputs": [
    {
     "name": "stdout",
     "output_type": "stream",
     "text": [
      "\n",
      "\n",
      "\n"
     ]
    }
   ],
   "source": [
    "from statsmodels.tsa.stattools import adfuller\n",
    "from pmdarima import auto_arima\n",
    "# Ignore harmless warnings\n",
    "import warnings\n",
    "from statsmodels.tsa.arima.model import ARIMA\n",
    "from sklearn.metrics import mean_squared_error\n",
    "from math import sqrt\n",
    "\n",
    "def adf_test(dataset):\n",
    "  dftest = adfuller(dataset, autolag = 'AIC')\n",
    "  for key, val in dftest[4].items():\n",
    "      print(\"\")\n",
    "adf_test(df_total_expend_perYear['expend'])\n",
    "\n",
    "\n",
    "warnings.filterwarnings(\"ignore\")\n",
    "stepwise_fit = auto_arima(df_total_expend_perYear['expend'], \n",
    "                          suppress_warnings=True)           \n",
    "\n",
    "stepwise_fit.summary()\n",
    "train2=df.iloc[:-7]\n",
    "test2=df.iloc[-6:]\n",
    "\n",
    "model2=ARIMA(train2['expend'],order=(0,0,1))\n",
    "model2=model2.fit()\n",
    "\n",
    "start2=len(train2)\n",
    "end2=len(train2)+len(test2)-1\n",
    "pred2=model2.predict(start=start2,end=end2,typ='levels',exog=None, dynamic=True).rename('ARIMA predictions')\n",
    "\n",
    "rmse2=sqrt(mean_squared_error(pred2,test2['expend']))\n",
    "model2=ARIMA(df_total_expend_perYear['expend'],order=(0,0,1))\n",
    "model2=model2.fit()"
   ]
  },
  {
   "cell_type": "markdown",
   "metadata": {},
   "source": [
    "## Expenditure Forcast Result"
   ]
  },
  {
   "cell_type": "code",
   "execution_count": 191,
   "metadata": {},
   "outputs": [
    {
     "name": "stdout",
     "output_type": "stream",
     "text": [
      "2022-01-01    5.474995e+10\n",
      "2023-01-01    5.996617e+10\n",
      "2024-01-01    5.996617e+10\n",
      "2025-01-01    5.996617e+10\n",
      "2026-01-01    5.996617e+10\n",
      "2027-01-01    5.996617e+10\n",
      "Freq: AS-JAN, Name: ARIMA Predictions, dtype: float64\n"
     ]
    }
   ],
   "source": [
    "pred1=model2.predict(start=len(df_total_expend_perYear),end=len(df_total_expend_perYear)+5,typ='levels',exog=None, dynamic=True).rename('ARIMA Predictions')\n",
    "print(pred1)\n",
    "\n",
    "df_pred = pd.DataFrame(pred1)\n",
    "year = ['2022-01-01','2023-01-01','2024-01-01','2025-01-01','2026-01-01','2027-01-01']\n",
    "df_pred['year'] = year\n",
    "\n",
    "df_pred.to_csv('future_expend2009-2021.csv', index=False , header = ['Expenditure', 'Year'])"
   ]
  },
  {
   "cell_type": "markdown",
   "metadata": {},
   "source": [
    "## Arima Model For Total Night Spent"
   ]
  },
  {
   "cell_type": "code",
   "execution_count": 173,
   "metadata": {},
   "outputs": [
    {
     "name": "stdout",
     "output_type": "stream",
     "text": [
      "\n",
      "\n",
      "\n"
     ]
    }
   ],
   "source": [
    "from statsmodels.tsa.stattools import adfuller\n",
    "from sklearn.metrics import mean_squared_error\n",
    "from math import sqrt\n",
    "from pmdarima import auto_arima\n",
    "# Ignore harmless warnings\n",
    "import warnings\n",
    "from statsmodels.tsa.arima.model import ARIMA\n",
    "\n",
    "\n",
    "def adf_test(dataset):\n",
    "  dftest = adfuller(dataset, autolag = 'AIC')\n",
    "  for key, val in dftest[4].items():\n",
    "      print(\"\")\n",
    "adf_test(df_total_nights_perYear['nights'])\n",
    "\n",
    "\n",
    "warnings.filterwarnings(\"ignore\")\n",
    "\n",
    "stepwise_fit = auto_arima(df_total_nights_perYear['nights'], \n",
    "                          suppress_warnings=True)           \n",
    "\n",
    "stepwise_fit.summary()\n",
    "\n",
    "train3=df.iloc[:-7]\n",
    "test3=df.iloc[-6:]\n",
    "\n",
    "\n",
    "model3=ARIMA(train3['nights'],order=(0,0,1))\n",
    "model3=model3.fit()\n",
    "\n",
    "start3=len(train3)\n",
    "end3=len(train3)+len(test3)-1\n",
    "pred3=model3.predict(start=start3,end=end3,typ='levels',exog=None, dynamic=True).rename('ARIMA predictions')\n",
    "\n",
    "\n",
    "\n",
    "rmse3=sqrt(mean_squared_error(pred3,test3['nights']))\n",
    "\n",
    "\n",
    "model3=ARIMA(df_total_nights_perYear['nights'],order=(0,0,1))\n",
    "model3=model3.fit()\n"
   ]
  },
  {
   "cell_type": "markdown",
   "metadata": {},
   "source": [
    "## Total Night Spent Results"
   ]
  },
  {
   "cell_type": "code",
   "execution_count": 195,
   "metadata": {},
   "outputs": [
    {
     "name": "stdout",
     "output_type": "stream",
     "text": [
      "2022-01-01    8.805774e+08\n",
      "2023-01-01    9.327228e+08\n",
      "2024-01-01    9.327228e+08\n",
      "2025-01-01    9.327228e+08\n",
      "2026-01-01    9.327228e+08\n",
      "2027-01-01    9.327228e+08\n",
      "Freq: AS-JAN, Name: ARIMA Predictions, dtype: float64\n"
     ]
    }
   ],
   "source": [
    "pred3=model3.predict(start=len(df_total_nights_perYear),end=len(df_total_nights_perYear)+5,typ='levels',exog=None, dynamic=True).rename('ARIMA Predictions')\n",
    "print(pred3)\n",
    "\n",
    "df_pred = pd.DataFrame(pred3)\n",
    "year = ['2022-01-01','2023-01-01','2024-01-01','2025-01-01','2026-01-01','2027-01-01']\n",
    "df_pred['year'] = year\n",
    "\n",
    "df_pred.to_csv('future_nights2009-2021.csv', index=False , header = ['Nights', 'Year'])"
   ]
  },
  {
   "cell_type": "code",
   "execution_count": null,
   "metadata": {},
   "outputs": [],
   "source": []
  }
 ],
 "metadata": {
  "kernelspec": {
   "display_name": "Python 3 (ipykernel)",
   "language": "python",
   "name": "python3"
  },
  "language_info": {
   "codemirror_mode": {
    "name": "ipython",
    "version": 3
   },
   "file_extension": ".py",
   "mimetype": "text/x-python",
   "name": "python",
   "nbconvert_exporter": "python",
   "pygments_lexer": "ipython3",
   "version": "3.9.7"
  }
 },
 "nbformat": 4,
 "nbformat_minor": 2
}
