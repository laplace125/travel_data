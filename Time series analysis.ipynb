{
 "cells": [
  {
   "cell_type": "markdown",
   "id": "11078aba",
   "metadata": {},
   "source": [
    "## Time Series Analysis"
   ]
  },
  {
   "cell_type": "code",
   "execution_count": 1,
   "id": "16479504",
   "metadata": {},
   "outputs": [],
   "source": [
    "import pandas as pd\n",
    "import numpy as np\n",
    "import matplotlib.pyplot as plt"
   ]
  },
  {
   "cell_type": "code",
   "execution_count": 2,
   "id": "1a7d90c2",
   "metadata": {},
   "outputs": [],
   "source": [
    "#pip install pmdarima"
   ]
  },
  {
   "cell_type": "code",
   "execution_count": 25,
   "id": "6f20a065",
   "metadata": {},
   "outputs": [],
   "source": [
    "from pmdarima import auto_arima\n",
    "# Ignore harmless warnings\n",
    "import statsmodels as sm\n",
    "import warnings\n",
    "warnings.filterwarnings(\"ignore\")\n",
    "from statsmodels.tsa.stattools import adfuller\n",
    "from statsmodels.tsa.arima.model import ARIMA \n",
    "from statsmodels.tsa.statespace.sarimax import SARIMAX\n",
    "from sklearn.metrics import mean_squared_error\n",
    "from math import sqrt"
   ]
  },
  {
   "cell_type": "code",
   "execution_count": 4,
   "id": "f65a9e04",
   "metadata": {},
   "outputs": [],
   "source": [
    "df= pd.read_excel('cleaned_Travelpac_removed_outliers.xlsx')"
   ]
  },
  {
   "cell_type": "code",
   "execution_count": 5,
   "id": "5bf4c1c7",
   "metadata": {},
   "outputs": [
    {
     "data": {
      "text/html": [
       "<div>\n",
       "<style scoped>\n",
       "    .dataframe tbody tr th:only-of-type {\n",
       "        vertical-align: middle;\n",
       "    }\n",
       "\n",
       "    .dataframe tbody tr th {\n",
       "        vertical-align: top;\n",
       "    }\n",
       "\n",
       "    .dataframe thead th {\n",
       "        text-align: right;\n",
       "    }\n",
       "</style>\n",
       "<table border=\"1\" class=\"dataframe\">\n",
       "  <thead>\n",
       "    <tr style=\"text-align: right;\">\n",
       "      <th></th>\n",
       "      <th>Age</th>\n",
       "      <th>Duration_of_Visit</th>\n",
       "      <th>Holiday_Package</th>\n",
       "      <th>Sex</th>\n",
       "      <th>Year</th>\n",
       "      <th>country</th>\n",
       "      <th>mode</th>\n",
       "      <th>purpose</th>\n",
       "      <th>quarter</th>\n",
       "      <th>where_contact_lives</th>\n",
       "      <th>visits</th>\n",
       "      <th>nights</th>\n",
       "      <th>Amount_Spent</th>\n",
       "    </tr>\n",
       "  </thead>\n",
       "  <tbody>\n",
       "    <tr>\n",
       "      <th>0</th>\n",
       "      <td>0-15</td>\n",
       "      <td>4-13 nights</td>\n",
       "      <td>Independent</td>\n",
       "      <td>Male</td>\n",
       "      <td>2009</td>\n",
       "      <td>Austria</td>\n",
       "      <td>Air</td>\n",
       "      <td>Holiday</td>\n",
       "      <td>Jan-Mar</td>\n",
       "      <td>UK residents</td>\n",
       "      <td>1600.680374</td>\n",
       "      <td>11204.762616</td>\n",
       "      <td>1.103402e+06</td>\n",
       "    </tr>\n",
       "    <tr>\n",
       "      <th>1</th>\n",
       "      <td>0-15</td>\n",
       "      <td>4-13 nights</td>\n",
       "      <td>Independent</td>\n",
       "      <td>Female</td>\n",
       "      <td>2009</td>\n",
       "      <td>Austria</td>\n",
       "      <td>Air</td>\n",
       "      <td>Holiday</td>\n",
       "      <td>Jan-Mar</td>\n",
       "      <td>UK residents</td>\n",
       "      <td>1600.680374</td>\n",
       "      <td>11204.762616</td>\n",
       "      <td>1.125278e+06</td>\n",
       "    </tr>\n",
       "    <tr>\n",
       "      <th>2</th>\n",
       "      <td>16-24</td>\n",
       "      <td>4-13 nights</td>\n",
       "      <td>Independent</td>\n",
       "      <td>Male</td>\n",
       "      <td>2009</td>\n",
       "      <td>Austria</td>\n",
       "      <td>Air</td>\n",
       "      <td>Holiday</td>\n",
       "      <td>Jan-Mar</td>\n",
       "      <td>UK residents</td>\n",
       "      <td>3064.743058</td>\n",
       "      <td>20873.377956</td>\n",
       "      <td>1.622982e+06</td>\n",
       "    </tr>\n",
       "    <tr>\n",
       "      <th>3</th>\n",
       "      <td>16-24</td>\n",
       "      <td>4-13 nights</td>\n",
       "      <td>Independent</td>\n",
       "      <td>Female</td>\n",
       "      <td>2009</td>\n",
       "      <td>Austria</td>\n",
       "      <td>Air</td>\n",
       "      <td>Holiday</td>\n",
       "      <td>Jan-Mar</td>\n",
       "      <td>UK residents</td>\n",
       "      <td>2702.755561</td>\n",
       "      <td>12411.702616</td>\n",
       "      <td>1.164191e+06</td>\n",
       "    </tr>\n",
       "    <tr>\n",
       "      <th>4</th>\n",
       "      <td>16-24</td>\n",
       "      <td>14-27 nights</td>\n",
       "      <td>Independent</td>\n",
       "      <td>Female</td>\n",
       "      <td>2009</td>\n",
       "      <td>Austria</td>\n",
       "      <td>Air</td>\n",
       "      <td>Holiday</td>\n",
       "      <td>Jan-Mar</td>\n",
       "      <td>UK residents</td>\n",
       "      <td>525.351507</td>\n",
       "      <td>7354.921102</td>\n",
       "      <td>7.633357e+05</td>\n",
       "    </tr>\n",
       "  </tbody>\n",
       "</table>\n",
       "</div>"
      ],
      "text/plain": [
       "     Age Duration_of_Visit Holiday_Package     Sex  Year  country mode  \\\n",
       "0   0-15       4-13 nights     Independent    Male  2009  Austria  Air   \n",
       "1   0-15       4-13 nights     Independent  Female  2009  Austria  Air   \n",
       "2  16-24       4-13 nights     Independent    Male  2009  Austria  Air   \n",
       "3  16-24       4-13 nights     Independent  Female  2009  Austria  Air   \n",
       "4  16-24      14-27 nights     Independent  Female  2009  Austria  Air   \n",
       "\n",
       "   purpose  quarter where_contact_lives       visits        nights  \\\n",
       "0  Holiday  Jan-Mar        UK residents  1600.680374  11204.762616   \n",
       "1  Holiday  Jan-Mar        UK residents  1600.680374  11204.762616   \n",
       "2  Holiday  Jan-Mar        UK residents  3064.743058  20873.377956   \n",
       "3  Holiday  Jan-Mar        UK residents  2702.755561  12411.702616   \n",
       "4  Holiday  Jan-Mar        UK residents   525.351507   7354.921102   \n",
       "\n",
       "   Amount_Spent  \n",
       "0  1.103402e+06  \n",
       "1  1.125278e+06  \n",
       "2  1.622982e+06  \n",
       "3  1.164191e+06  \n",
       "4  7.633357e+05  "
      ]
     },
     "execution_count": 5,
     "metadata": {},
     "output_type": "execute_result"
    }
   ],
   "source": [
    "df.head()"
   ]
  },
  {
   "cell_type": "code",
   "execution_count": 6,
   "id": "307207d1",
   "metadata": {},
   "outputs": [
    {
     "data": {
      "text/html": [
       "<div>\n",
       "<style scoped>\n",
       "    .dataframe tbody tr th:only-of-type {\n",
       "        vertical-align: middle;\n",
       "    }\n",
       "\n",
       "    .dataframe tbody tr th {\n",
       "        vertical-align: top;\n",
       "    }\n",
       "\n",
       "    .dataframe thead th {\n",
       "        text-align: right;\n",
       "    }\n",
       "</style>\n",
       "<table border=\"1\" class=\"dataframe\">\n",
       "  <thead>\n",
       "    <tr style=\"text-align: right;\">\n",
       "      <th></th>\n",
       "      <th>visits</th>\n",
       "    </tr>\n",
       "    <tr>\n",
       "      <th>Year</th>\n",
       "      <th></th>\n",
       "    </tr>\n",
       "  </thead>\n",
       "  <tbody>\n",
       "    <tr>\n",
       "      <th>2009</th>\n",
       "      <td>5.377005e+07</td>\n",
       "    </tr>\n",
       "    <tr>\n",
       "      <th>2010</th>\n",
       "      <td>5.456793e+07</td>\n",
       "    </tr>\n",
       "    <tr>\n",
       "      <th>2011</th>\n",
       "      <td>5.570144e+07</td>\n",
       "    </tr>\n",
       "    <tr>\n",
       "      <th>2012</th>\n",
       "      <td>5.617218e+07</td>\n",
       "    </tr>\n",
       "    <tr>\n",
       "      <th>2013</th>\n",
       "      <td>5.728326e+07</td>\n",
       "    </tr>\n",
       "  </tbody>\n",
       "</table>\n",
       "</div>"
      ],
      "text/plain": [
       "            visits\n",
       "Year              \n",
       "2009  5.377005e+07\n",
       "2010  5.456793e+07\n",
       "2011  5.570144e+07\n",
       "2012  5.617218e+07\n",
       "2013  5.728326e+07"
      ]
     },
     "execution_count": 6,
     "metadata": {},
     "output_type": "execute_result"
    }
   ],
   "source": [
    "## Total number of visits per year\n",
    "\n",
    "total_visits_perYear = df.groupby(\"Year\").agg({\"visits\":pd.Series.sum})\n",
    "\n",
    "\n",
    "year = {'2009' : total_visits_perYear['visits'].iat[0] , '2010':total_visits_perYear['visits'].iat[1] , '2011':total_visits_perYear['visits'].iat[2] ,'2012':total_visits_perYear['visits'].iat[3] , '2013':total_visits_perYear['visits'].iat[4] ,'2014' : total_visits_perYear['visits'].iat[5] , '2015':total_visits_perYear['visits'].iat[6] , '2016':total_visits_perYear['visits'].iat[7] , '2017':total_visits_perYear['visits'].iat[8]\n",
    "       ,'2018' : total_visits_perYear['visits'].iat[9] , '2019':total_visits_perYear['visits'].iat[10] , '2020':total_visits_perYear['visits'].iat[11] ,'2021':total_visits_perYear['visits'].iat[12]}\n",
    "\n",
    "total_visits_perYear.head()\n"
   ]
  },
  {
   "cell_type": "code",
   "execution_count": 7,
   "id": "013396b3",
   "metadata": {},
   "outputs": [],
   "source": [
    "#total number of nights per years\n",
    "total_nights_perYear = df.groupby(\"Year\").agg({\"nights\":pd.Series.sum})\n",
    "\n",
    "\n",
    "#total expend per year\n",
    "total_expend_perYear = df.groupby(\"Year\").agg({\"Amount_Spent\":pd.Series.sum})"
   ]
  },
  {
   "cell_type": "code",
   "execution_count": 8,
   "id": "656c1b0c",
   "metadata": {},
   "outputs": [],
   "source": [
    "\n",
    "df_total_visits_perYear = pd.DataFrame(total_visits_perYear)\n",
    "year = ['2009-01-01','2010-01-01','2011-01-01','2012-01-01','2013-01-01','2014-01-01','2015-01-01','2016-01-01','2017-01-01','2018-01-01','2019-01-01','2020-01-01','2021-01-01']\n",
    "df_total_visits_perYear['year'] = year\n",
    "\n",
    "\n",
    "df_total_nights_perYear = pd.DataFrame(total_nights_perYear)\n",
    "df_total_nights_perYear['year'] = year\n",
    "\n",
    "df_total_expend_perYear = pd.DataFrame(total_expend_perYear)\n",
    "df_total_expend_perYear['year'] = year"
   ]
  },
  {
   "cell_type": "code",
   "execution_count": 9,
   "id": "d1efa625",
   "metadata": {},
   "outputs": [
    {
     "data": {
      "text/html": [
       "<div>\n",
       "<style scoped>\n",
       "    .dataframe tbody tr th:only-of-type {\n",
       "        vertical-align: middle;\n",
       "    }\n",
       "\n",
       "    .dataframe tbody tr th {\n",
       "        vertical-align: top;\n",
       "    }\n",
       "\n",
       "    .dataframe thead th {\n",
       "        text-align: right;\n",
       "    }\n",
       "</style>\n",
       "<table border=\"1\" class=\"dataframe\">\n",
       "  <thead>\n",
       "    <tr style=\"text-align: right;\">\n",
       "      <th></th>\n",
       "      <th>visits</th>\n",
       "    </tr>\n",
       "    <tr>\n",
       "      <th>year</th>\n",
       "      <th></th>\n",
       "    </tr>\n",
       "  </thead>\n",
       "  <tbody>\n",
       "    <tr>\n",
       "      <th>2009-01-01</th>\n",
       "      <td>5.377005e+07</td>\n",
       "    </tr>\n",
       "    <tr>\n",
       "      <th>2010-01-01</th>\n",
       "      <td>5.456793e+07</td>\n",
       "    </tr>\n",
       "    <tr>\n",
       "      <th>2011-01-01</th>\n",
       "      <td>5.570144e+07</td>\n",
       "    </tr>\n",
       "    <tr>\n",
       "      <th>2012-01-01</th>\n",
       "      <td>5.617218e+07</td>\n",
       "    </tr>\n",
       "    <tr>\n",
       "      <th>2013-01-01</th>\n",
       "      <td>5.728326e+07</td>\n",
       "    </tr>\n",
       "  </tbody>\n",
       "</table>\n",
       "</div>"
      ],
      "text/plain": [
       "                  visits\n",
       "year                    \n",
       "2009-01-01  5.377005e+07\n",
       "2010-01-01  5.456793e+07\n",
       "2011-01-01  5.570144e+07\n",
       "2012-01-01  5.617218e+07\n",
       "2013-01-01  5.728326e+07"
      ]
     },
     "execution_count": 9,
     "metadata": {},
     "output_type": "execute_result"
    }
   ],
   "source": [
    "df_total_visits_perYear = pd.DataFrame(total_visits_perYear)\n",
    "df_total_visits_perYear.set_index('year', inplace=True)\n",
    "df_total_visits_perYear.head()"
   ]
  },
  {
   "cell_type": "code",
   "execution_count": 10,
   "id": "af7a27c1",
   "metadata": {},
   "outputs": [
    {
     "data": {
      "text/html": [
       "<div>\n",
       "<style scoped>\n",
       "    .dataframe tbody tr th:only-of-type {\n",
       "        vertical-align: middle;\n",
       "    }\n",
       "\n",
       "    .dataframe tbody tr th {\n",
       "        vertical-align: top;\n",
       "    }\n",
       "\n",
       "    .dataframe thead th {\n",
       "        text-align: right;\n",
       "    }\n",
       "</style>\n",
       "<table border=\"1\" class=\"dataframe\">\n",
       "  <thead>\n",
       "    <tr style=\"text-align: right;\">\n",
       "      <th></th>\n",
       "      <th>nights</th>\n",
       "    </tr>\n",
       "    <tr>\n",
       "      <th>year</th>\n",
       "      <th></th>\n",
       "    </tr>\n",
       "  </thead>\n",
       "  <tbody>\n",
       "    <tr>\n",
       "      <th>2009-01-01</th>\n",
       "      <td>4.953307e+08</td>\n",
       "    </tr>\n",
       "    <tr>\n",
       "      <th>2010-01-01</th>\n",
       "      <td>5.076900e+08</td>\n",
       "    </tr>\n",
       "    <tr>\n",
       "      <th>2011-01-01</th>\n",
       "      <td>5.055550e+08</td>\n",
       "    </tr>\n",
       "    <tr>\n",
       "      <th>2012-01-01</th>\n",
       "      <td>4.986807e+08</td>\n",
       "    </tr>\n",
       "    <tr>\n",
       "      <th>2013-01-01</th>\n",
       "      <td>5.059272e+08</td>\n",
       "    </tr>\n",
       "  </tbody>\n",
       "</table>\n",
       "</div>"
      ],
      "text/plain": [
       "                  nights\n",
       "year                    \n",
       "2009-01-01  4.953307e+08\n",
       "2010-01-01  5.076900e+08\n",
       "2011-01-01  5.055550e+08\n",
       "2012-01-01  4.986807e+08\n",
       "2013-01-01  5.059272e+08"
      ]
     },
     "execution_count": 10,
     "metadata": {},
     "output_type": "execute_result"
    }
   ],
   "source": [
    "df_total_nights_perYear = pd.DataFrame(total_nights_perYear)\n",
    "df_total_nights_perYear.set_index('year', inplace=True)\n",
    "df_total_nights_perYear.head()"
   ]
  },
  {
   "cell_type": "code",
   "execution_count": 14,
   "id": "49e583a3",
   "metadata": {},
   "outputs": [
    {
     "data": {
      "text/html": [
       "<div>\n",
       "<style scoped>\n",
       "    .dataframe tbody tr th:only-of-type {\n",
       "        vertical-align: middle;\n",
       "    }\n",
       "\n",
       "    .dataframe tbody tr th {\n",
       "        vertical-align: top;\n",
       "    }\n",
       "\n",
       "    .dataframe thead th {\n",
       "        text-align: right;\n",
       "    }\n",
       "</style>\n",
       "<table border=\"1\" class=\"dataframe\">\n",
       "  <thead>\n",
       "    <tr style=\"text-align: right;\">\n",
       "      <th></th>\n",
       "      <th>Amount_Spent</th>\n",
       "    </tr>\n",
       "    <tr>\n",
       "      <th>year</th>\n",
       "      <th></th>\n",
       "    </tr>\n",
       "  </thead>\n",
       "  <tbody>\n",
       "    <tr>\n",
       "      <th>2009-01-01</th>\n",
       "      <td>2.882566e+10</td>\n",
       "    </tr>\n",
       "    <tr>\n",
       "      <th>2010-01-01</th>\n",
       "      <td>3.003222e+10</td>\n",
       "    </tr>\n",
       "    <tr>\n",
       "      <th>2011-01-01</th>\n",
       "      <td>3.051717e+10</td>\n",
       "    </tr>\n",
       "    <tr>\n",
       "      <th>2012-01-01</th>\n",
       "      <td>3.144172e+10</td>\n",
       "    </tr>\n",
       "    <tr>\n",
       "      <th>2013-01-01</th>\n",
       "      <td>3.320526e+10</td>\n",
       "    </tr>\n",
       "  </tbody>\n",
       "</table>\n",
       "</div>"
      ],
      "text/plain": [
       "            Amount_Spent\n",
       "year                    \n",
       "2009-01-01  2.882566e+10\n",
       "2010-01-01  3.003222e+10\n",
       "2011-01-01  3.051717e+10\n",
       "2012-01-01  3.144172e+10\n",
       "2013-01-01  3.320526e+10"
      ]
     },
     "execution_count": 14,
     "metadata": {},
     "output_type": "execute_result"
    }
   ],
   "source": [
    "df_total_expend_perYear = pd.DataFrame(total_expend_perYear)\n",
    "df_total_expend_perYear.set_index('year', inplace=True)\n",
    "df_total_expend_perYear.head()"
   ]
  },
  {
   "cell_type": "markdown",
   "id": "9904a17f",
   "metadata": {},
   "source": [
    "##### Adfuller test"
   ]
  },
  {
   "cell_type": "markdown",
   "id": "cd533656",
   "metadata": {},
   "source": [
    "Augmented Dickey–Fuller Test\n",
    "The Augmented Dickey-Fuller Test is used to determine if time-series data is stationary or not. Similar to a t-test, \n",
    "we set a significance level before the test and make conclusions on the hypothesis based on the resulting p-value.\n",
    "\n",
    "Null Hypothesis: The data is not stationary.\n",
    "Alternative Hypothesis: The data is stationary.\n",
    "\n",
    "For the data to be stationary (ie. reject the null hypothesis), the ADF test should have:\n",
    "\n",
    "- p-value <= significance level (0.05)\n",
    "- If the p-value is greater than the significance level then we can say that it is likely that the data is not stationary."
   ]
  },
  {
   "cell_type": "code",
   "execution_count": 15,
   "id": "6c888731",
   "metadata": {},
   "outputs": [],
   "source": [
    "def adf_test(dataset):\n",
    "  dftest = adfuller(dataset, autolag = 'AIC')\n",
    "  print(\"1. ADF : \",dftest[0])\n",
    "  print(\"2. P-Value : \", dftest[1])\n",
    "  print(\"3. Num Of Lags : \", dftest[2])\n",
    "  print(\"4. Num Of Observations Used For ADF Regression and Critical Values Calculation :\", dftest[3])\n",
    "  print(\"5. Critical Values :\")\n",
    "  for key, val in dftest[4].items():\n",
    "      print(\"\\t\",key, \": \", val)"
   ]
  },
  {
   "cell_type": "markdown",
   "id": "9bc6b33d",
   "metadata": {},
   "source": [
    "#### ADfuller test for total visits per year"
   ]
  },
  {
   "cell_type": "code",
   "execution_count": 16,
   "id": "71033da8",
   "metadata": {},
   "outputs": [
    {
     "name": "stdout",
     "output_type": "stream",
     "text": [
      "1. ADF :  -2.4712661605700355\n",
      "2. P-Value :  0.12262300887141708\n",
      "3. Num Of Lags :  4\n",
      "4. Num Of Observations Used For ADF Regression and Critical Values Calculation : 8\n",
      "5. Critical Values :\n",
      "\t 1% :  -4.6651863281249994\n",
      "\t 5% :  -3.3671868750000002\n",
      "\t 10% :  -2.802960625\n"
     ]
    }
   ],
   "source": [
    "adf_test(df_total_visits_perYear['visits'])"
   ]
  },
  {
   "cell_type": "markdown",
   "id": "9c44e40d",
   "metadata": {},
   "source": [
    "- The p value is greater than 0.05. so, The data is not stationary.\n",
    "- auto_arima will be used to suggest a suitable p,d,q value of the arima model"
   ]
  },
  {
   "cell_type": "markdown",
   "id": "7c4c3375",
   "metadata": {},
   "source": [
    "### Model fitting for Total visits per year"
   ]
  },
  {
   "cell_type": "code",
   "execution_count": 17,
   "id": "f93a8219",
   "metadata": {},
   "outputs": [
    {
     "name": "stdout",
     "output_type": "stream",
     "text": [
      "Performing stepwise search to minimize aic\n",
      " ARIMA(1,2,1)(0,0,0)[0] intercept   : AIC=403.232, Time=0.31 sec\n",
      " ARIMA(0,2,0)(0,0,0)[0] intercept   : AIC=404.290, Time=0.05 sec\n",
      " ARIMA(1,2,0)(0,0,0)[0] intercept   : AIC=406.551, Time=0.05 sec\n",
      " ARIMA(0,2,1)(0,0,0)[0] intercept   : AIC=400.983, Time=0.05 sec\n",
      " ARIMA(0,2,0)(0,0,0)[0]             : AIC=402.455, Time=0.02 sec\n",
      " ARIMA(0,2,2)(0,0,0)[0] intercept   : AIC=413.217, Time=0.05 sec\n",
      " ARIMA(1,2,2)(0,0,0)[0] intercept   : AIC=inf, Time=0.16 sec\n",
      " ARIMA(0,2,1)(0,0,0)[0]             : AIC=400.200, Time=0.02 sec\n",
      " ARIMA(1,2,1)(0,0,0)[0]             : AIC=401.723, Time=0.07 sec\n",
      " ARIMA(0,2,2)(0,0,0)[0]             : AIC=411.181, Time=0.03 sec\n",
      " ARIMA(1,2,0)(0,0,0)[0]             : AIC=403.753, Time=0.03 sec\n",
      " ARIMA(1,2,2)(0,0,0)[0]             : AIC=404.332, Time=0.11 sec\n",
      "\n",
      "Best model:  ARIMA(0,2,1)(0,0,0)[0]          \n",
      "Total fit time: 1.042 seconds\n"
     ]
    }
   ],
   "source": [
    "model = auto_arima(df_total_visits_perYear['visits'], start_p=1, start_q=1,\n",
    "                   test='adf',\n",
    "                   max_p=3, max_q=3, m=1,\n",
    "                   start_P=0, seasonal=False,\n",
    "                   d=None, D=1, trace=True,\n",
    "                   error_action='ignore',  \n",
    "                   suppress_warnings=True, \n",
    "                   stepwise=True)"
   ]
  },
  {
   "cell_type": "code",
   "execution_count": 18,
   "id": "d1784cdf",
   "metadata": {},
   "outputs": [
    {
     "data": {
      "text/html": [
       "<table class=\"simpletable\">\n",
       "<caption>SARIMAX Results</caption>\n",
       "<tr>\n",
       "  <th>Dep. Variable:</th>           <td>y</td>        <th>  No. Observations:  </th>    <td>13</td>   \n",
       "</tr>\n",
       "<tr>\n",
       "  <th>Model:</th>           <td>SARIMAX(0, 2, 1)</td> <th>  Log Likelihood     </th> <td>-198.100</td>\n",
       "</tr>\n",
       "<tr>\n",
       "  <th>Date:</th>            <td>Sun, 15 Jan 2023</td> <th>  AIC                </th>  <td>400.200</td>\n",
       "</tr>\n",
       "<tr>\n",
       "  <th>Time:</th>                <td>10:47:28</td>     <th>  BIC                </th>  <td>400.996</td>\n",
       "</tr>\n",
       "<tr>\n",
       "  <th>Sample:</th>             <td>01-01-2009</td>    <th>  HQIC               </th>  <td>399.698</td>\n",
       "</tr>\n",
       "<tr>\n",
       "  <th></th>                   <td>- 01-01-2021</td>   <th>                     </th>     <td> </td>   \n",
       "</tr>\n",
       "<tr>\n",
       "  <th>Covariance Type:</th>        <td>opg</td>       <th>                     </th>     <td> </td>   \n",
       "</tr>\n",
       "</table>\n",
       "<table class=\"simpletable\">\n",
       "<tr>\n",
       "     <td></td>       <th>coef</th>     <th>std err</th>      <th>z</th>      <th>P>|z|</th>  <th>[0.025</th>    <th>0.975]</th>  \n",
       "</tr>\n",
       "<tr>\n",
       "  <th>ma.L1</th>  <td>   -0.6403</td> <td>    0.322</td> <td>   -1.987</td> <td> 0.047</td> <td>   -1.272</td> <td>   -0.009</td>\n",
       "</tr>\n",
       "<tr>\n",
       "  <th>sigma2</th> <td> 3.417e+14</td> <td> 8.72e-17</td> <td> 3.92e+30</td> <td> 0.000</td> <td> 3.42e+14</td> <td> 3.42e+14</td>\n",
       "</tr>\n",
       "</table>\n",
       "<table class=\"simpletable\">\n",
       "<tr>\n",
       "  <th>Ljung-Box (L1) (Q):</th>     <td>3.62</td> <th>  Jarque-Bera (JB):  </th> <td>2.84</td> \n",
       "</tr>\n",
       "<tr>\n",
       "  <th>Prob(Q):</th>                <td>0.06</td> <th>  Prob(JB):          </th> <td>0.24</td> \n",
       "</tr>\n",
       "<tr>\n",
       "  <th>Heteroskedasticity (H):</th> <td>5.49</td> <th>  Skew:              </th> <td>-0.83</td>\n",
       "</tr>\n",
       "<tr>\n",
       "  <th>Prob(H) (two-sided):</th>    <td>0.13</td> <th>  Kurtosis:          </th> <td>4.86</td> \n",
       "</tr>\n",
       "</table><br/><br/>Warnings:<br/>[1] Covariance matrix calculated using the outer product of gradients (complex-step).<br/>[2] Covariance matrix is singular or near-singular, with condition number 7.59e+46. Standard errors may be unstable."
      ],
      "text/plain": [
       "<class 'statsmodels.iolib.summary.Summary'>\n",
       "\"\"\"\n",
       "                               SARIMAX Results                                \n",
       "==============================================================================\n",
       "Dep. Variable:                      y   No. Observations:                   13\n",
       "Model:               SARIMAX(0, 2, 1)   Log Likelihood                -198.100\n",
       "Date:                Sun, 15 Jan 2023   AIC                            400.200\n",
       "Time:                        10:47:28   BIC                            400.996\n",
       "Sample:                    01-01-2009   HQIC                           399.698\n",
       "                         - 01-01-2021                                         \n",
       "Covariance Type:                  opg                                         \n",
       "==============================================================================\n",
       "                 coef    std err          z      P>|z|      [0.025      0.975]\n",
       "------------------------------------------------------------------------------\n",
       "ma.L1         -0.6403      0.322     -1.987      0.047      -1.272      -0.009\n",
       "sigma2      3.417e+14   8.72e-17   3.92e+30      0.000    3.42e+14    3.42e+14\n",
       "===================================================================================\n",
       "Ljung-Box (L1) (Q):                   3.62   Jarque-Bera (JB):                 2.84\n",
       "Prob(Q):                              0.06   Prob(JB):                         0.24\n",
       "Heteroskedasticity (H):               5.49   Skew:                            -0.83\n",
       "Prob(H) (two-sided):                  0.13   Kurtosis:                         4.86\n",
       "===================================================================================\n",
       "\n",
       "Warnings:\n",
       "[1] Covariance matrix calculated using the outer product of gradients (complex-step).\n",
       "[2] Covariance matrix is singular or near-singular, with condition number 7.59e+46. Standard errors may be unstable.\n",
       "\"\"\""
      ]
     },
     "execution_count": 18,
     "metadata": {},
     "output_type": "execute_result"
    }
   ],
   "source": [
    "model.summary()"
   ]
  },
  {
   "cell_type": "code",
   "execution_count": 19,
   "id": "8ad66708",
   "metadata": {},
   "outputs": [],
   "source": [
    "predictions = model.predict()"
   ]
  },
  {
   "cell_type": "code",
   "execution_count": 20,
   "id": "b0dbddeb",
   "metadata": {},
   "outputs": [
    {
     "data": {
      "text/plain": [
       "2022-01-01    6.848761e+06\n",
       "2023-01-01   -1.945662e+06\n",
       "2024-01-01   -1.074009e+07\n",
       "2025-01-01   -1.953451e+07\n",
       "2026-01-01   -2.832893e+07\n",
       "2027-01-01   -3.712336e+07\n",
       "2028-01-01   -4.591778e+07\n",
       "2029-01-01   -5.471221e+07\n",
       "2030-01-01   -6.350663e+07\n",
       "2031-01-01   -7.230105e+07\n",
       "Freq: AS-JAN, dtype: float64"
      ]
     },
     "execution_count": 20,
     "metadata": {},
     "output_type": "execute_result"
    }
   ],
   "source": [
    "predictions"
   ]
  },
  {
   "cell_type": "markdown",
   "id": "2bc70155",
   "metadata": {},
   "source": [
    "- The prediction result shows that the model fit is not good, as it is not possible to have a negative visit. its better to use another type of model other than arima."
   ]
  },
  {
   "cell_type": "markdown",
   "id": "7d7e4140",
   "metadata": {},
   "source": [
    "### SARIMAX model on Total visits per year"
   ]
  },
  {
   "cell_type": "markdown",
   "id": "d320c2b5",
   "metadata": {},
   "source": [
    "sm.tsa.statespace.SARIMAX is a class in the statsmodels library that fits a seasonal autoregressive integrated moving average (SARIMA) model with exogenous regressors to time series data. A SARIMA model is a type of statistical model that can be used to forecast future values of a time series based on its past values. It includes a seasonal component, which allows the model to take into account periodic fluctuations in the data, as well as an autoregressive component, which allows the model to use the lagged values of the time series as predictors, and a moving average component, which allows the model to smooth out short-term fluctuations in the data. The SARIMAX class can handle both univariate and multivariate time series data, and it allows you to specify the order of the autoregressive (AR) and moving average (MA) components, as well as the order of the seasonal components, if applicable."
   ]
  },
  {
   "cell_type": "code",
   "execution_count": 54,
   "id": "7bd01ed2",
   "metadata": {},
   "outputs": [],
   "source": [
    "from statsmodels.tsa.statespace.sarimax import SARIMAX\n",
    "model=SARIMAX(df_total_visits_perYear['visits'],order=(0, 1, 1),seasonal_order=(1,1,1,12))\n",
    "model_fit=model.fit()"
   ]
  },
  {
   "cell_type": "code",
   "execution_count": 55,
   "id": "a86105f0",
   "metadata": {},
   "outputs": [
    {
     "data": {
      "text/plain": [
       "2009-01-01    0.000000e+00\n",
       "2010-01-01    5.377005e+07\n",
       "2011-01-01    5.456793e+07\n",
       "2012-01-01    5.570144e+07\n",
       "2013-01-01    5.617218e+07\n",
       "2014-01-01    5.728326e+07\n",
       "2015-01-01    5.790274e+07\n",
       "2016-01-01    6.150797e+07\n",
       "2017-01-01    6.146612e+07\n",
       "2018-01-01    6.033069e+07\n",
       "2019-01-01    5.538666e+07\n",
       "2020-01-01    5.437662e+07\n",
       "2021-01-01    3.807808e+07\n",
       "Freq: AS-JAN, Name: predicted_mean, dtype: float64"
      ]
     },
     "execution_count": 55,
     "metadata": {},
     "output_type": "execute_result"
    }
   ],
   "source": [
    "predictions=model_fit.predict()\n",
    "predictions"
   ]
  },
  {
   "cell_type": "code",
   "execution_count": 56,
   "id": "74f0b831",
   "metadata": {},
   "outputs": [
    {
     "data": {
      "text/plain": [
       "year\n",
       "2009-01-01    5.377005e+07\n",
       "2010-01-01    5.456793e+07\n",
       "2011-01-01    5.570144e+07\n",
       "2012-01-01    5.617218e+07\n",
       "2013-01-01    5.728326e+07\n",
       "2014-01-01    5.790274e+07\n",
       "2015-01-01    6.150797e+07\n",
       "2016-01-01    6.146612e+07\n",
       "2017-01-01    6.033069e+07\n",
       "2018-01-01    5.538666e+07\n",
       "2019-01-01    5.437662e+07\n",
       "2020-01-01    1.119304e+07\n",
       "2021-01-01    1.564319e+07\n",
       "Name: visits, dtype: float64"
      ]
     },
     "execution_count": 56,
     "metadata": {},
     "output_type": "execute_result"
    }
   ],
   "source": [
    "df_total_visits_perYear['visits']"
   ]
  },
  {
   "cell_type": "code",
   "execution_count": 57,
   "id": "95e26a00",
   "metadata": {},
   "outputs": [
    {
     "data": {
      "text/plain": [
       "[<matplotlib.lines.Line2D at 0x17e0e72b160>]"
      ]
     },
     "execution_count": 57,
     "metadata": {},
     "output_type": "execute_result"
    },
    {
     "data": {
      "image/png": "[encoded data removed]",
      "text/plain": [
       "<Figure size 432x288 with 1 Axes>"
      ]
     },
     "metadata": {
      "needs_background": "light"
     },
     "output_type": "display_data"
    }
   ],
   "source": [
    "plt.plot(df_total_visits_perYear['visits'])"
   ]
  },
  {
   "cell_type": "code",
   "execution_count": 58,
   "id": "74a39b87",
   "metadata": {},
   "outputs": [
    {
     "data": {
      "text/plain": [
       "[<matplotlib.lines.Line2D at 0x17e0e7e6070>]"
      ]
     },
     "execution_count": 58,
     "metadata": {},
     "output_type": "execute_result"
    },
    {
     "data": {
      "image/png": "[encoded data removed]",
      "text/plain": [
       "<Figure size 432x288 with 1 Axes>"
      ]
     },
     "metadata": {
      "needs_background": "light"
     },
     "output_type": "display_data"
    }
   ],
   "source": [
    "plt.plot(predictions) #for total visits per year"
   ]
  },
  {
   "cell_type": "code",
   "execution_count": 59,
   "id": "82ced7a1",
   "metadata": {},
   "outputs": [
    {
     "name": "stdout",
     "output_type": "stream",
     "text": [
      "20196873.41190835\n"
     ]
    }
   ],
   "source": [
    "rmse=sqrt(mean_squared_error(predictions,df_total_visits_perYear['visits']))\n",
    "print(rmse)"
   ]
  },
  {
   "cell_type": "code",
   "execution_count": 60,
   "id": "a01f89bf",
   "metadata": {},
   "outputs": [
    {
     "data": {
      "text/plain": [
       "2022-01-01    1.644106e+07\n",
       "2023-01-01    1.757458e+07\n",
       "2024-01-01    1.804532e+07\n",
       "2025-01-01    1.915639e+07\n",
       "2026-01-01    1.977587e+07\n",
       "2027-01-01    2.338110e+07\n",
       "Freq: AS-JAN, Name: predicted_mean, dtype: float64"
      ]
     },
     "execution_count": 60,
     "metadata": {},
     "output_type": "execute_result"
    }
   ],
   "source": [
    "forecast = model_fit.predict(start=len(df_total_visits_perYear), end=len(df_total_visits_perYear)+5)\n",
    "forecast"
   ]
  },
  {
   "cell_type": "code",
   "execution_count": 61,
   "id": "ddf1a3a1",
   "metadata": {},
   "outputs": [
    {
     "data": {
      "text/plain": [
       "<AxesSubplot:>"
      ]
     },
     "execution_count": 61,
     "metadata": {},
     "output_type": "execute_result"
    },
    {
     "data": {
      "image/png": "[encoded data removed]",
      "text/plain": [
       "<Figure size 432x288 with 1 Axes>"
      ]
     },
     "metadata": {
      "needs_background": "light"
     },
     "output_type": "display_data"
    }
   ],
   "source": [
    "forecast.plot()"
   ]
  },
  {
   "cell_type": "markdown",
   "id": "16f8447c",
   "metadata": {},
   "source": [
    "## Arima Model for Expenditure"
   ]
  },
  {
   "cell_type": "markdown",
   "id": "fb34e81e",
   "metadata": {},
   "source": [
    "#### ADfuller test for Amount spent per year"
   ]
  },
  {
   "cell_type": "code",
   "execution_count": 62,
   "id": "19adcd7e",
   "metadata": {},
   "outputs": [
    {
     "name": "stdout",
     "output_type": "stream",
     "text": [
      "1. ADF :  -0.5478315984611131\n",
      "2. P-Value :  0.8823397220442906\n",
      "3. Num Of Lags :  4\n",
      "4. Num Of Observations Used For ADF Regression and Critical Values Calculation : 8\n",
      "5. Critical Values :\n",
      "\t 1% :  -4.6651863281249994\n",
      "\t 5% :  -3.3671868750000002\n",
      "\t 10% :  -2.802960625\n"
     ]
    }
   ],
   "source": [
    "adf_test(df_total_expend_perYear['Amount_Spent'])"
   ]
  },
  {
   "cell_type": "markdown",
   "id": "b7be965e",
   "metadata": {},
   "source": [
    "- The data is not stationary"
   ]
  },
  {
   "cell_type": "code",
   "execution_count": 63,
   "id": "9e01cb38",
   "metadata": {},
   "outputs": [
    {
     "name": "stdout",
     "output_type": "stream",
     "text": [
      "Performing stepwise search to minimize aic\n",
      " ARIMA(1,2,1)(0,0,0)[0] intercept   : AIC=544.235, Time=0.08 sec\n",
      " ARIMA(0,2,0)(0,0,0)[0] intercept   : AIC=543.905, Time=0.03 sec\n",
      " ARIMA(1,2,0)(0,0,0)[0] intercept   : AIC=549.828, Time=0.03 sec\n",
      " ARIMA(0,2,1)(0,0,0)[0] intercept   : AIC=541.921, Time=0.05 sec\n",
      " ARIMA(0,2,0)(0,0,0)[0]             : AIC=542.080, Time=0.03 sec\n",
      " ARIMA(0,2,2)(0,0,0)[0] intercept   : AIC=549.751, Time=0.04 sec\n",
      " ARIMA(1,2,2)(0,0,0)[0] intercept   : AIC=inf, Time=0.12 sec\n",
      " ARIMA(0,2,1)(0,0,0)[0]             : AIC=539.398, Time=0.02 sec\n",
      " ARIMA(1,2,1)(0,0,0)[0]             : AIC=541.437, Time=0.07 sec\n",
      " ARIMA(0,2,2)(0,0,0)[0]             : AIC=547.733, Time=0.03 sec\n",
      " ARIMA(1,2,0)(0,0,0)[0]             : AIC=545.408, Time=0.03 sec\n",
      " ARIMA(1,2,2)(0,0,0)[0]             : AIC=inf, Time=0.23 sec\n",
      "\n",
      "Best model:  ARIMA(0,2,1)(0,0,0)[0]          \n",
      "Total fit time: 0.783 seconds\n"
     ]
    }
   ],
   "source": [
    "model = auto_arima(df_total_expend_perYear['Amount_Spent'], start_p=1, start_q=1,\n",
    "                   test='adf',\n",
    "                   max_p=3, max_q=3, m=1,\n",
    "                   start_P=0, seasonal=False,\n",
    "                   d=None, D=1, trace=True,\n",
    "                   error_action='ignore',  \n",
    "                   suppress_warnings=True, \n",
    "                   stepwise=True)"
   ]
  },
  {
   "cell_type": "code",
   "execution_count": 64,
   "id": "81122106",
   "metadata": {},
   "outputs": [
    {
     "data": {
      "text/html": [
       "<table class=\"simpletable\">\n",
       "<caption>SARIMAX Results</caption>\n",
       "<tr>\n",
       "  <th>Dep. Variable:</th>           <td>y</td>        <th>  No. Observations:  </th>    <td>13</td>   \n",
       "</tr>\n",
       "<tr>\n",
       "  <th>Model:</th>           <td>SARIMAX(0, 2, 1)</td> <th>  Log Likelihood     </th> <td>-267.699</td>\n",
       "</tr>\n",
       "<tr>\n",
       "  <th>Date:</th>            <td>Sun, 15 Jan 2023</td> <th>  AIC                </th>  <td>539.398</td>\n",
       "</tr>\n",
       "<tr>\n",
       "  <th>Time:</th>                <td>11:01:40</td>     <th>  BIC                </th>  <td>540.194</td>\n",
       "</tr>\n",
       "<tr>\n",
       "  <th>Sample:</th>             <td>01-01-2009</td>    <th>  HQIC               </th>  <td>538.897</td>\n",
       "</tr>\n",
       "<tr>\n",
       "  <th></th>                   <td>- 01-01-2021</td>   <th>                     </th>     <td> </td>   \n",
       "</tr>\n",
       "<tr>\n",
       "  <th>Covariance Type:</th>        <td>opg</td>       <th>                     </th>     <td> </td>   \n",
       "</tr>\n",
       "</table>\n",
       "<table class=\"simpletable\">\n",
       "<tr>\n",
       "     <td></td>       <th>coef</th>     <th>std err</th>      <th>z</th>      <th>P>|z|</th>  <th>[0.025</th>    <th>0.975]</th>  \n",
       "</tr>\n",
       "<tr>\n",
       "  <th>ma.L1</th>  <td>   -0.6725</td> <td>    0.277</td> <td>   -2.426</td> <td> 0.015</td> <td>   -1.216</td> <td>   -0.129</td>\n",
       "</tr>\n",
       "<tr>\n",
       "  <th>sigma2</th> <td> 1.058e+20</td> <td> 6.04e-23</td> <td> 1.75e+42</td> <td> 0.000</td> <td> 1.06e+20</td> <td> 1.06e+20</td>\n",
       "</tr>\n",
       "</table>\n",
       "<table class=\"simpletable\">\n",
       "<tr>\n",
       "  <th>Ljung-Box (L1) (Q):</th>     <td>4.12</td> <th>  Jarque-Bera (JB):  </th> <td>1.53</td> \n",
       "</tr>\n",
       "<tr>\n",
       "  <th>Prob(Q):</th>                <td>0.04</td> <th>  Prob(JB):          </th> <td>0.47</td> \n",
       "</tr>\n",
       "<tr>\n",
       "  <th>Heteroskedasticity (H):</th> <td>5.21</td> <th>  Skew:              </th> <td>-0.35</td>\n",
       "</tr>\n",
       "<tr>\n",
       "  <th>Prob(H) (two-sided):</th>    <td>0.14</td> <th>  Kurtosis:          </th> <td>4.69</td> \n",
       "</tr>\n",
       "</table><br/><br/>Warnings:<br/>[1] Covariance matrix calculated using the outer product of gradients (complex-step).<br/>[2] Covariance matrix is singular or near-singular, with condition number    inf. Standard errors may be unstable."
      ],
      "text/plain": [
       "<class 'statsmodels.iolib.summary.Summary'>\n",
       "\"\"\"\n",
       "                               SARIMAX Results                                \n",
       "==============================================================================\n",
       "Dep. Variable:                      y   No. Observations:                   13\n",
       "Model:               SARIMAX(0, 2, 1)   Log Likelihood                -267.699\n",
       "Date:                Sun, 15 Jan 2023   AIC                            539.398\n",
       "Time:                        11:01:40   BIC                            540.194\n",
       "Sample:                    01-01-2009   HQIC                           538.897\n",
       "                         - 01-01-2021                                         \n",
       "Covariance Type:                  opg                                         \n",
       "==============================================================================\n",
       "                 coef    std err          z      P>|z|      [0.025      0.975]\n",
       "------------------------------------------------------------------------------\n",
       "ma.L1         -0.6725      0.277     -2.426      0.015      -1.216      -0.129\n",
       "sigma2      1.058e+20   6.04e-23   1.75e+42      0.000    1.06e+20    1.06e+20\n",
       "===================================================================================\n",
       "Ljung-Box (L1) (Q):                   4.12   Jarque-Bera (JB):                 1.53\n",
       "Prob(Q):                              0.04   Prob(JB):                         0.47\n",
       "Heteroskedasticity (H):               5.21   Skew:                            -0.35\n",
       "Prob(H) (two-sided):                  0.14   Kurtosis:                         4.69\n",
       "===================================================================================\n",
       "\n",
       "Warnings:\n",
       "[1] Covariance matrix calculated using the outer product of gradients (complex-step).\n",
       "[2] Covariance matrix is singular or near-singular, with condition number    inf. Standard errors may be unstable.\n",
       "\"\"\""
      ]
     },
     "execution_count": 64,
     "metadata": {},
     "output_type": "execute_result"
    }
   ],
   "source": [
    "model.summary()"
   ]
  },
  {
   "cell_type": "code",
   "execution_count": 65,
   "id": "9a667bbe",
   "metadata": {},
   "outputs": [
    {
     "data": {
      "text/plain": [
       "2022-01-01    7.664571e+09\n",
       "2023-01-01    4.009605e+09\n",
       "2024-01-01    3.546402e+08\n",
       "2025-01-01   -3.300325e+09\n",
       "2026-01-01   -6.955290e+09\n",
       "2027-01-01   -1.061026e+10\n",
       "2028-01-01   -1.426522e+10\n",
       "2029-01-01   -1.792019e+10\n",
       "2030-01-01   -2.157515e+10\n",
       "2031-01-01   -2.523012e+10\n",
       "Freq: AS-JAN, dtype: float64"
      ]
     },
     "execution_count": 65,
     "metadata": {},
     "output_type": "execute_result"
    }
   ],
   "source": [
    "predictions = model.predict()\n",
    "predictions"
   ]
  },
  {
   "cell_type": "markdown",
   "id": "60bce970",
   "metadata": {},
   "source": [
    "- The prediction result shows that the model fit is not good, as it is not likely to have a negative value for amount spent. its better to use another type of model other than arima."
   ]
  },
  {
   "cell_type": "markdown",
   "id": "1698f4db",
   "metadata": {},
   "source": [
    "### SARIMAX model on Amount spent per year"
   ]
  },
  {
   "cell_type": "code",
   "execution_count": 66,
   "id": "84c6720a",
   "metadata": {},
   "outputs": [],
   "source": [
    "model=SARIMAX(df_total_expend_perYear['Amount_Spent'],order=(0, 1, 1),seasonal_order=(1,1,1,12))\n",
    "model_fit=model.fit()"
   ]
  },
  {
   "cell_type": "code",
   "execution_count": 67,
   "id": "b8cc82d2",
   "metadata": {},
   "outputs": [
    {
     "data": {
      "text/plain": [
       "2009-01-01    0.000000e+00\n",
       "2010-01-01    2.882566e+10\n",
       "2011-01-01    3.003222e+10\n",
       "2012-01-01    3.051717e+10\n",
       "2013-01-01    3.144172e+10\n",
       "2014-01-01    3.320526e+10\n",
       "2015-01-01    3.243713e+10\n",
       "2016-01-01    3.411700e+10\n",
       "2017-01-01    3.388735e+10\n",
       "2018-01-01    3.311297e+10\n",
       "2019-01-01    2.977731e+10\n",
       "2020-01-01    2.905769e+10\n",
       "2021-01-01    2.041351e+10\n",
       "Freq: AS-JAN, Name: predicted_mean, dtype: float64"
      ]
     },
     "execution_count": 67,
     "metadata": {},
     "output_type": "execute_result"
    }
   ],
   "source": [
    "predictions=model_fit.predict()\n",
    "predictions"
   ]
  },
  {
   "cell_type": "code",
   "execution_count": 68,
   "id": "25289d4b",
   "metadata": {},
   "outputs": [
    {
     "name": "stdout",
     "output_type": "stream",
     "text": [
      "10621495068.138538\n"
     ]
    }
   ],
   "source": [
    "rmse=sqrt(mean_squared_error(predictions,df_total_expend_perYear['Amount_Spent']))\n",
    "print(rmse)"
   ]
  },
  {
   "cell_type": "markdown",
   "id": "c68e2208",
   "metadata": {},
   "source": [
    "#### Amount Spent Forcast Result"
   ]
  },
  {
   "cell_type": "code",
   "execution_count": 69,
   "id": "6aa31e14",
   "metadata": {},
   "outputs": [
    {
     "data": {
      "text/plain": [
       "2022-01-01    1.252610e+10\n",
       "2023-01-01    1.301104e+10\n",
       "2024-01-01    1.393559e+10\n",
       "2025-01-01    1.569914e+10\n",
       "2026-01-01    1.493100e+10\n",
       "2027-01-01    1.661088e+10\n",
       "Freq: AS-JAN, Name: predicted_mean, dtype: float64"
      ]
     },
     "execution_count": 69,
     "metadata": {},
     "output_type": "execute_result"
    }
   ],
   "source": [
    "forecast = model_fit.predict(start=len(df_total_expend_perYear), end=len(df_total_expend_perYear)+5)\n",
    "forecast"
   ]
  },
  {
   "cell_type": "code",
   "execution_count": 70,
   "id": "1ba2cb26",
   "metadata": {},
   "outputs": [
    {
     "data": {
      "text/plain": [
       "<AxesSubplot:>"
      ]
     },
     "execution_count": 70,
     "metadata": {},
     "output_type": "execute_result"
    },
    {
     "data": {
      "image/png": "[encoded data removed]",
      "text/plain": [
       "<Figure size 432x288 with 1 Axes>"
      ]
     },
     "metadata": {
      "needs_background": "light"
     },
     "output_type": "display_data"
    }
   ],
   "source": [
    "forecast.plot()"
   ]
  },
  {
   "cell_type": "markdown",
   "id": "a56e24ea",
   "metadata": {},
   "source": [
    "## Arima Model For Total Night Spent"
   ]
  },
  {
   "cell_type": "code",
   "execution_count": 71,
   "id": "41abb85c",
   "metadata": {},
   "outputs": [
    {
     "name": "stdout",
     "output_type": "stream",
     "text": [
      "1. ADF :  -1.4737376964549154\n",
      "2. P-Value :  0.5464606266688258\n",
      "3. Num Of Lags :  4\n",
      "4. Num Of Observations Used For ADF Regression and Critical Values Calculation : 8\n",
      "5. Critical Values :\n",
      "\t 1% :  -4.6651863281249994\n",
      "\t 5% :  -3.3671868750000002\n",
      "\t 10% :  -2.802960625\n"
     ]
    }
   ],
   "source": [
    "adf_test(df_total_nights_perYear['nights'])"
   ]
  },
  {
   "cell_type": "code",
   "execution_count": 72,
   "id": "5955555f",
   "metadata": {},
   "outputs": [
    {
     "name": "stdout",
     "output_type": "stream",
     "text": [
      "Performing stepwise search to minimize aic\n",
      " ARIMA(1,2,1)(0,0,0)[0] intercept   : AIC=458.455, Time=0.10 sec\n",
      " ARIMA(0,2,0)(0,0,0)[0] intercept   : AIC=450.785, Time=0.03 sec\n",
      " ARIMA(1,2,0)(0,0,0)[0] intercept   : AIC=468.999, Time=0.06 sec\n",
      " ARIMA(0,2,1)(0,0,0)[0] intercept   : AIC=450.291, Time=0.10 sec\n",
      " ARIMA(0,2,0)(0,0,0)[0]             : AIC=448.997, Time=0.01 sec\n",
      "\n",
      "Best model:  ARIMA(0,2,0)(0,0,0)[0]          \n",
      "Total fit time: 0.329 seconds\n"
     ]
    }
   ],
   "source": [
    "model = auto_arima(df_total_nights_perYear['nights'], start_p=1, start_q=1,\n",
    "                   test='adf',\n",
    "                   max_p=3, max_q=3, m=1,\n",
    "                   start_P=0, seasonal=False,\n",
    "                   d=None, D=1, trace=True,\n",
    "                   error_action='ignore',  \n",
    "                   suppress_warnings=True, \n",
    "                   stepwise=True)"
   ]
  },
  {
   "cell_type": "code",
   "execution_count": 73,
   "id": "e6412fbe",
   "metadata": {},
   "outputs": [
    {
     "data": {
      "text/html": [
       "<table class=\"simpletable\">\n",
       "<caption>SARIMAX Results</caption>\n",
       "<tr>\n",
       "  <th>Dep. Variable:</th>           <td>y</td>        <th>  No. Observations:  </th>    <td>13</td>   \n",
       "</tr>\n",
       "<tr>\n",
       "  <th>Model:</th>           <td>SARIMAX(0, 2, 0)</td> <th>  Log Likelihood     </th> <td>-223.499</td>\n",
       "</tr>\n",
       "<tr>\n",
       "  <th>Date:</th>            <td>Sun, 15 Jan 2023</td> <th>  AIC                </th>  <td>448.997</td>\n",
       "</tr>\n",
       "<tr>\n",
       "  <th>Time:</th>                <td>11:03:22</td>     <th>  BIC                </th>  <td>449.395</td>\n",
       "</tr>\n",
       "<tr>\n",
       "  <th>Sample:</th>             <td>01-01-2009</td>    <th>  HQIC               </th>  <td>448.746</td>\n",
       "</tr>\n",
       "<tr>\n",
       "  <th></th>                   <td>- 01-01-2021</td>   <th>                     </th>     <td> </td>   \n",
       "</tr>\n",
       "<tr>\n",
       "  <th>Covariance Type:</th>        <td>opg</td>       <th>                     </th>     <td> </td>   \n",
       "</tr>\n",
       "</table>\n",
       "<table class=\"simpletable\">\n",
       "<tr>\n",
       "     <td></td>       <th>coef</th>     <th>std err</th>      <th>z</th>      <th>P>|z|</th>  <th>[0.025</th>    <th>0.975]</th>  \n",
       "</tr>\n",
       "<tr>\n",
       "  <th>sigma2</th> <td> 2.171e+16</td> <td> 4.92e+15</td> <td>    4.408</td> <td> 0.000</td> <td> 1.21e+16</td> <td> 3.14e+16</td>\n",
       "</tr>\n",
       "</table>\n",
       "<table class=\"simpletable\">\n",
       "<tr>\n",
       "  <th>Ljung-Box (L1) (Q):</th>      <td>3.33</td>  <th>  Jarque-Bera (JB):  </th> <td>6.04</td>\n",
       "</tr>\n",
       "<tr>\n",
       "  <th>Prob(Q):</th>                 <td>0.07</td>  <th>  Prob(JB):          </th> <td>0.05</td>\n",
       "</tr>\n",
       "<tr>\n",
       "  <th>Heteroskedasticity (H):</th> <td>314.04</td> <th>  Skew:              </th> <td>1.19</td>\n",
       "</tr>\n",
       "<tr>\n",
       "  <th>Prob(H) (two-sided):</th>     <td>0.00</td>  <th>  Kurtosis:          </th> <td>5.74</td>\n",
       "</tr>\n",
       "</table><br/><br/>Warnings:<br/>[1] Covariance matrix calculated using the outer product of gradients (complex-step)."
      ],
      "text/plain": [
       "<class 'statsmodels.iolib.summary.Summary'>\n",
       "\"\"\"\n",
       "                               SARIMAX Results                                \n",
       "==============================================================================\n",
       "Dep. Variable:                      y   No. Observations:                   13\n",
       "Model:               SARIMAX(0, 2, 0)   Log Likelihood                -223.499\n",
       "Date:                Sun, 15 Jan 2023   AIC                            448.997\n",
       "Time:                        11:03:22   BIC                            449.395\n",
       "Sample:                    01-01-2009   HQIC                           448.746\n",
       "                         - 01-01-2021                                         \n",
       "Covariance Type:                  opg                                         \n",
       "==============================================================================\n",
       "                 coef    std err          z      P>|z|      [0.025      0.975]\n",
       "------------------------------------------------------------------------------\n",
       "sigma2      2.171e+16   4.92e+15      4.408      0.000    1.21e+16    3.14e+16\n",
       "===================================================================================\n",
       "Ljung-Box (L1) (Q):                   3.33   Jarque-Bera (JB):                 6.04\n",
       "Prob(Q):                              0.07   Prob(JB):                         0.05\n",
       "Heteroskedasticity (H):             314.04   Skew:                             1.19\n",
       "Prob(H) (two-sided):                  0.00   Kurtosis:                         5.74\n",
       "===================================================================================\n",
       "\n",
       "Warnings:\n",
       "[1] Covariance matrix calculated using the outer product of gradients (complex-step).\n",
       "\"\"\""
      ]
     },
     "execution_count": 73,
     "metadata": {},
     "output_type": "execute_result"
    }
   ],
   "source": [
    "model.summary()"
   ]
  },
  {
   "cell_type": "code",
   "execution_count": 74,
   "id": "7055b44f",
   "metadata": {},
   "outputs": [
    {
     "data": {
      "text/plain": [
       "2022-01-01    3.458432e+08\n",
       "2023-01-01    4.765225e+08\n",
       "2024-01-01    6.072019e+08\n",
       "2025-01-01    7.378812e+08\n",
       "2026-01-01    8.685606e+08\n",
       "2027-01-01    9.992399e+08\n",
       "2028-01-01    1.129919e+09\n",
       "2029-01-01    1.260599e+09\n",
       "2030-01-01    1.391278e+09\n",
       "2031-01-01    1.521957e+09\n",
       "Freq: AS-JAN, dtype: float64"
      ]
     },
     "execution_count": 74,
     "metadata": {},
     "output_type": "execute_result"
    }
   ],
   "source": [
    "predictions = model.predict()\n",
    "predictions"
   ]
  },
  {
   "cell_type": "markdown",
   "id": "44d9f512",
   "metadata": {},
   "source": [
    "### SARIMAX model on Total nights per year"
   ]
  },
  {
   "cell_type": "code",
   "execution_count": 77,
   "id": "eabf1225",
   "metadata": {},
   "outputs": [],
   "source": [
    "model=SARIMAX(df_total_nights_perYear['nights'],order=(0, 1, 0),seasonal_order=(1,1,1,12))\n",
    "model_fit=model.fit()"
   ]
  },
  {
   "cell_type": "code",
   "execution_count": 78,
   "id": "3754eec4",
   "metadata": {},
   "outputs": [
    {
     "data": {
      "text/plain": [
       "2009-01-01    0.000000e+00\n",
       "2010-01-01    4.953307e+08\n",
       "2011-01-01    5.076900e+08\n",
       "2012-01-01    5.055550e+08\n",
       "2013-01-01    4.986807e+08\n",
       "2014-01-01    5.059272e+08\n",
       "2015-01-01    4.920729e+08\n",
       "2016-01-01    5.310055e+08\n",
       "2017-01-01    5.184431e+08\n",
       "2018-01-01    4.856759e+08\n",
       "2019-01-01    4.199539e+08\n",
       "2020-01-01    3.933410e+08\n",
       "2021-01-01    3.321500e+08\n",
       "Freq: AS-JAN, Name: predicted_mean, dtype: float64"
      ]
     },
     "execution_count": 78,
     "metadata": {},
     "output_type": "execute_result"
    }
   ],
   "source": [
    "predictions=model_fit.predict()\n",
    "predictions"
   ]
  },
  {
   "cell_type": "code",
   "execution_count": 79,
   "id": "6c0ddd43",
   "metadata": {},
   "outputs": [
    {
     "name": "stdout",
     "output_type": "stream",
     "text": [
      "167022469.2867775\n"
     ]
    }
   ],
   "source": [
    "rmse=sqrt(mean_squared_error(predictions,df_total_nights_perYear['nights']))\n",
    "print(rmse)"
   ]
  },
  {
   "cell_type": "markdown",
   "id": "008a84e0",
   "metadata": {},
   "source": [
    "#### Amount Total nights Forcast Result"
   ]
  },
  {
   "cell_type": "code",
   "execution_count": 80,
   "id": "f2924f26",
   "metadata": {},
   "outputs": [
    {
     "data": {
      "text/plain": [
       "2022-01-01    2.275231e+08\n",
       "2023-01-01    2.253881e+08\n",
       "2024-01-01    2.185138e+08\n",
       "2025-01-01    2.257603e+08\n",
       "2026-01-01    2.119060e+08\n",
       "2027-01-01    2.508386e+08\n",
       "Freq: AS-JAN, Name: predicted_mean, dtype: float64"
      ]
     },
     "execution_count": 80,
     "metadata": {},
     "output_type": "execute_result"
    }
   ],
   "source": [
    "forecast = model_fit.predict(start=len(df_total_nights_perYear), end=len(df_total_nights_perYear)+5)\n",
    "forecast"
   ]
  },
  {
   "cell_type": "code",
   "execution_count": 81,
   "id": "c0a17099",
   "metadata": {},
   "outputs": [
    {
     "data": {
      "text/plain": [
       "<AxesSubplot:>"
      ]
     },
     "execution_count": 81,
     "metadata": {},
     "output_type": "execute_result"
    },
    {
     "data": {
      "image/png": "[encoded data removed]",
      "text/plain": [
       "<Figure size 432x288 with 1 Axes>"
      ]
     },
     "metadata": {
      "needs_background": "light"
     },
     "output_type": "display_data"
    }
   ],
   "source": [
    "forecast.plot()"
   ]
  },
  {
   "cell_type": "code",
   "execution_count": null,
   "id": "1b14b7d7",
   "metadata": {},
   "outputs": [],
   "source": []
  },
  {
   "cell_type": "code",
   "execution_count": null,
   "id": "3e289bdc",
   "metadata": {},
   "outputs": [],
   "source": []
  }
 ],
 "metadata": {
  "kernelspec": {
   "display_name": "Python 3 (ipykernel)",
   "language": "python",
   "name": "python3"
  },
  "language_info": {
   "codemirror_mode": {
    "name": "ipython",
    "version": 3
   },
   "file_extension": ".py",
   "mimetype": "text/x-python",
   "name": "python",
   "nbconvert_exporter": "python",
   "pygments_lexer": "ipython3",
   "version": "3.9.7"
  }
 },
 "nbformat": 4,
 "nbformat_minor": 5
}
