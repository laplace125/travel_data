{
 "cells": [
  {
   "cell_type": "markdown",
   "id": "a8c5fe1a",
   "metadata": {},
   "source": [
    "# Importing the libraries"
   ]
  },
  {
   "cell_type": "code",
   "execution_count": 45,
   "id": "b2785b51",
   "metadata": {},
   "outputs": [],
   "source": [
    "import pandas as pd\n",
    "import numpy as np"
   ]
  },
  {
   "cell_type": "markdown",
   "id": "a7dd5af9",
   "metadata": {},
   "source": [
    "# Reading the datasets"
   ]
  },
  {
   "cell_type": "code",
   "execution_count": 46,
   "id": "19f97344",
   "metadata": {},
   "outputs": [],
   "source": [
    "data_one= pd.read_excel('TravelPac 2009-2019 Labelled.xlsx' , 'Labelled 2009-2019')"
   ]
  },
  {
   "cell_type": "code",
   "execution_count": 47,
   "id": "7e2bb609",
   "metadata": {},
   "outputs": [
    {
     "data": {
      "text/plain": [
       "(396070, 14)"
      ]
     },
     "execution_count": 47,
     "metadata": {},
     "output_type": "execute_result"
    }
   ],
   "source": [
    "data_one.shape"
   ]
  },
  {
   "cell_type": "code",
   "execution_count": 48,
   "id": "bfb495a0",
   "metadata": {},
   "outputs": [
    {
     "data": {
      "text/html": [
       "<div>\n",
       "<style scoped>\n",
       "    .dataframe tbody tr th:only-of-type {\n",
       "        vertical-align: middle;\n",
       "    }\n",
       "\n",
       "    .dataframe tbody tr th {\n",
       "        vertical-align: top;\n",
       "    }\n",
       "\n",
       "    .dataframe thead th {\n",
       "        text-align: right;\n",
       "    }\n",
       "</style>\n",
       "<table border=\"1\" class=\"dataframe\">\n",
       "  <thead>\n",
       "    <tr style=\"text-align: right;\">\n",
       "      <th></th>\n",
       "      <th>Year</th>\n",
       "      <th>quarter</th>\n",
       "      <th>ukos</th>\n",
       "      <th>mode</th>\n",
       "      <th>country</th>\n",
       "      <th>purpose</th>\n",
       "      <th>package</th>\n",
       "      <th>Age</th>\n",
       "      <th>Sex</th>\n",
       "      <th>duration</th>\n",
       "      <th>visits</th>\n",
       "      <th>nights</th>\n",
       "      <th>expend</th>\n",
       "      <th>sample</th>\n",
       "    </tr>\n",
       "  </thead>\n",
       "  <tbody>\n",
       "    <tr>\n",
       "      <th>0</th>\n",
       "      <td>2009</td>\n",
       "      <td>Jan-Mar</td>\n",
       "      <td>UK residents</td>\n",
       "      <td>Air</td>\n",
       "      <td>Austria</td>\n",
       "      <td>Holiday</td>\n",
       "      <td>Independent</td>\n",
       "      <td>0-15</td>\n",
       "      <td>Male</td>\n",
       "      <td>4-13 nights</td>\n",
       "      <td>1600.680374</td>\n",
       "      <td>11204.762616</td>\n",
       "      <td>1.103402e+06</td>\n",
       "      <td>3.0</td>\n",
       "    </tr>\n",
       "    <tr>\n",
       "      <th>1</th>\n",
       "      <td>2009</td>\n",
       "      <td>Jan-Mar</td>\n",
       "      <td>UK residents</td>\n",
       "      <td>Air</td>\n",
       "      <td>Austria</td>\n",
       "      <td>Holiday</td>\n",
       "      <td>Independent</td>\n",
       "      <td>0-15</td>\n",
       "      <td>Female</td>\n",
       "      <td>4-13 nights</td>\n",
       "      <td>1600.680374</td>\n",
       "      <td>11204.762616</td>\n",
       "      <td>1.125278e+06</td>\n",
       "      <td>3.0</td>\n",
       "    </tr>\n",
       "    <tr>\n",
       "      <th>2</th>\n",
       "      <td>2009</td>\n",
       "      <td>Jan-Mar</td>\n",
       "      <td>UK residents</td>\n",
       "      <td>Air</td>\n",
       "      <td>Austria</td>\n",
       "      <td>Holiday</td>\n",
       "      <td>Independent</td>\n",
       "      <td>16-24</td>\n",
       "      <td>Male</td>\n",
       "      <td>4-13 nights</td>\n",
       "      <td>3064.743058</td>\n",
       "      <td>20873.377956</td>\n",
       "      <td>1.622982e+06</td>\n",
       "      <td>3.0</td>\n",
       "    </tr>\n",
       "    <tr>\n",
       "      <th>3</th>\n",
       "      <td>2009</td>\n",
       "      <td>Jan-Mar</td>\n",
       "      <td>UK residents</td>\n",
       "      <td>Air</td>\n",
       "      <td>Austria</td>\n",
       "      <td>Holiday</td>\n",
       "      <td>Independent</td>\n",
       "      <td>16-24</td>\n",
       "      <td>Female</td>\n",
       "      <td>4-13 nights</td>\n",
       "      <td>2702.755561</td>\n",
       "      <td>12411.702616</td>\n",
       "      <td>1.164191e+06</td>\n",
       "      <td>2.0</td>\n",
       "    </tr>\n",
       "    <tr>\n",
       "      <th>4</th>\n",
       "      <td>2009</td>\n",
       "      <td>Jan-Mar</td>\n",
       "      <td>UK residents</td>\n",
       "      <td>Air</td>\n",
       "      <td>Austria</td>\n",
       "      <td>Holiday</td>\n",
       "      <td>Independent</td>\n",
       "      <td>16-24</td>\n",
       "      <td>Female</td>\n",
       "      <td>14-27 nights</td>\n",
       "      <td>525.351507</td>\n",
       "      <td>7354.921102</td>\n",
       "      <td>7.633357e+05</td>\n",
       "      <td>1.0</td>\n",
       "    </tr>\n",
       "  </tbody>\n",
       "</table>\n",
       "</div>"
      ],
      "text/plain": [
       "   Year  quarter          ukos mode  country  purpose      package    Age  \\\n",
       "0  2009  Jan-Mar  UK residents  Air  Austria  Holiday  Independent   0-15   \n",
       "1  2009  Jan-Mar  UK residents  Air  Austria  Holiday  Independent   0-15   \n",
       "2  2009  Jan-Mar  UK residents  Air  Austria  Holiday  Independent  16-24   \n",
       "3  2009  Jan-Mar  UK residents  Air  Austria  Holiday  Independent  16-24   \n",
       "4  2009  Jan-Mar  UK residents  Air  Austria  Holiday  Independent  16-24   \n",
       "\n",
       "      Sex      duration       visits        nights        expend  sample  \n",
       "0    Male   4-13 nights  1600.680374  11204.762616  1.103402e+06     3.0  \n",
       "1  Female   4-13 nights  1600.680374  11204.762616  1.125278e+06     3.0  \n",
       "2    Male   4-13 nights  3064.743058  20873.377956  1.622982e+06     3.0  \n",
       "3  Female   4-13 nights  2702.755561  12411.702616  1.164191e+06     2.0  \n",
       "4  Female  14-27 nights   525.351507   7354.921102  7.633357e+05     1.0  "
      ]
     },
     "execution_count": 48,
     "metadata": {},
     "output_type": "execute_result"
    }
   ],
   "source": [
    "data_one.head()"
   ]
  },
  {
   "cell_type": "code",
   "execution_count": 49,
   "id": "f67daa11",
   "metadata": {},
   "outputs": [],
   "source": [
    "data_two= pd.read_excel('TravelPac Q1 2020.xls' , 'Labelled 2020 Q1')"
   ]
  },
  {
   "cell_type": "code",
   "execution_count": 50,
   "id": "54373e65",
   "metadata": {},
   "outputs": [
    {
     "data": {
      "text/plain": [
       "(6054, 14)"
      ]
     },
     "execution_count": 50,
     "metadata": {},
     "output_type": "execute_result"
    }
   ],
   "source": [
    "data_two.shape"
   ]
  },
  {
   "cell_type": "code",
   "execution_count": 51,
   "id": "8cd1dcd7",
   "metadata": {},
   "outputs": [
    {
     "data": {
      "text/html": [
       "<div>\n",
       "<style scoped>\n",
       "    .dataframe tbody tr th:only-of-type {\n",
       "        vertical-align: middle;\n",
       "    }\n",
       "\n",
       "    .dataframe tbody tr th {\n",
       "        vertical-align: top;\n",
       "    }\n",
       "\n",
       "    .dataframe thead th {\n",
       "        text-align: right;\n",
       "    }\n",
       "</style>\n",
       "<table border=\"1\" class=\"dataframe\">\n",
       "  <thead>\n",
       "    <tr style=\"text-align: right;\">\n",
       "      <th></th>\n",
       "      <th>Year</th>\n",
       "      <th>quarter</th>\n",
       "      <th>ukos</th>\n",
       "      <th>mode</th>\n",
       "      <th>country</th>\n",
       "      <th>purpose</th>\n",
       "      <th>package</th>\n",
       "      <th>Age</th>\n",
       "      <th>Sex</th>\n",
       "      <th>duration</th>\n",
       "      <th>visits</th>\n",
       "      <th>nights</th>\n",
       "      <th>spend</th>\n",
       "      <th>sample</th>\n",
       "    </tr>\n",
       "  </thead>\n",
       "  <tbody>\n",
       "    <tr>\n",
       "      <th>0</th>\n",
       "      <td>2020</td>\n",
       "      <td>Jan-Mar</td>\n",
       "      <td>UK residents</td>\n",
       "      <td>Air</td>\n",
       "      <td>Austria</td>\n",
       "      <td>Holiday</td>\n",
       "      <td>Independent</td>\n",
       "      <td>0-15</td>\n",
       "      <td>Male</td>\n",
       "      <td>4-13 nights</td>\n",
       "      <td>7818.886530</td>\n",
       "      <td>54175.066567</td>\n",
       "      <td>1.202859e+07</td>\n",
       "      <td>2.0</td>\n",
       "    </tr>\n",
       "    <tr>\n",
       "      <th>1</th>\n",
       "      <td>2020</td>\n",
       "      <td>Jan-Mar</td>\n",
       "      <td>UK residents</td>\n",
       "      <td>Air</td>\n",
       "      <td>Austria</td>\n",
       "      <td>Holiday</td>\n",
       "      <td>Independent</td>\n",
       "      <td>16-24</td>\n",
       "      <td>Male</td>\n",
       "      <td>4-13 nights</td>\n",
       "      <td>591.172016</td>\n",
       "      <td>2364.688064</td>\n",
       "      <td>2.482922e+05</td>\n",
       "      <td>1.0</td>\n",
       "    </tr>\n",
       "    <tr>\n",
       "      <th>2</th>\n",
       "      <td>2020</td>\n",
       "      <td>Jan-Mar</td>\n",
       "      <td>UK residents</td>\n",
       "      <td>Air</td>\n",
       "      <td>Austria</td>\n",
       "      <td>Holiday</td>\n",
       "      <td>Independent</td>\n",
       "      <td>16-24</td>\n",
       "      <td>Female</td>\n",
       "      <td>1-3 nights</td>\n",
       "      <td>2119.172076</td>\n",
       "      <td>4238.344151</td>\n",
       "      <td>2.882074e+05</td>\n",
       "      <td>1.0</td>\n",
       "    </tr>\n",
       "    <tr>\n",
       "      <th>3</th>\n",
       "      <td>2020</td>\n",
       "      <td>Jan-Mar</td>\n",
       "      <td>UK residents</td>\n",
       "      <td>Air</td>\n",
       "      <td>Austria</td>\n",
       "      <td>Holiday</td>\n",
       "      <td>Independent</td>\n",
       "      <td>16-24</td>\n",
       "      <td>Female</td>\n",
       "      <td>4-13 nights</td>\n",
       "      <td>3574.025829</td>\n",
       "      <td>20320.439660</td>\n",
       "      <td>1.058497e+06</td>\n",
       "      <td>2.0</td>\n",
       "    </tr>\n",
       "    <tr>\n",
       "      <th>4</th>\n",
       "      <td>2020</td>\n",
       "      <td>Jan-Mar</td>\n",
       "      <td>UK residents</td>\n",
       "      <td>Air</td>\n",
       "      <td>Austria</td>\n",
       "      <td>Holiday</td>\n",
       "      <td>Independent</td>\n",
       "      <td>25-34</td>\n",
       "      <td>Male</td>\n",
       "      <td>1-3 nights</td>\n",
       "      <td>2939.672588</td>\n",
       "      <td>8819.017764</td>\n",
       "      <td>6.085122e+05</td>\n",
       "      <td>1.0</td>\n",
       "    </tr>\n",
       "  </tbody>\n",
       "</table>\n",
       "</div>"
      ],
      "text/plain": [
       "   Year  quarter          ukos mode  country  purpose      package    Age  \\\n",
       "0  2020  Jan-Mar  UK residents  Air  Austria  Holiday  Independent   0-15   \n",
       "1  2020  Jan-Mar  UK residents  Air  Austria  Holiday  Independent  16-24   \n",
       "2  2020  Jan-Mar  UK residents  Air  Austria  Holiday  Independent  16-24   \n",
       "3  2020  Jan-Mar  UK residents  Air  Austria  Holiday  Independent  16-24   \n",
       "4  2020  Jan-Mar  UK residents  Air  Austria  Holiday  Independent  25-34   \n",
       "\n",
       "      Sex     duration       visits        nights         spend  sample  \n",
       "0    Male  4-13 nights  7818.886530  54175.066567  1.202859e+07     2.0  \n",
       "1    Male  4-13 nights   591.172016   2364.688064  2.482922e+05     1.0  \n",
       "2  Female   1-3 nights  2119.172076   4238.344151  2.882074e+05     1.0  \n",
       "3  Female  4-13 nights  3574.025829  20320.439660  1.058497e+06     2.0  \n",
       "4    Male   1-3 nights  2939.672588   8819.017764  6.085122e+05     1.0  "
      ]
     },
     "execution_count": 51,
     "metadata": {},
     "output_type": "execute_result"
    }
   ],
   "source": [
    "data_two.head()"
   ]
  },
  {
   "cell_type": "code",
   "execution_count": 52,
   "id": "c0fcb09e",
   "metadata": {},
   "outputs": [
    {
     "data": {
      "text/html": [
       "<div>\n",
       "<style scoped>\n",
       "    .dataframe tbody tr th:only-of-type {\n",
       "        vertical-align: middle;\n",
       "    }\n",
       "\n",
       "    .dataframe tbody tr th {\n",
       "        vertical-align: top;\n",
       "    }\n",
       "\n",
       "    .dataframe thead th {\n",
       "        text-align: right;\n",
       "    }\n",
       "</style>\n",
       "<table border=\"1\" class=\"dataframe\">\n",
       "  <thead>\n",
       "    <tr style=\"text-align: right;\">\n",
       "      <th></th>\n",
       "      <th>Year</th>\n",
       "      <th>quarter</th>\n",
       "      <th>ukos</th>\n",
       "      <th>mode</th>\n",
       "      <th>country</th>\n",
       "      <th>purpose</th>\n",
       "      <th>package</th>\n",
       "      <th>Age</th>\n",
       "      <th>Sex</th>\n",
       "      <th>duration</th>\n",
       "      <th>visits</th>\n",
       "      <th>nights</th>\n",
       "      <th>expend</th>\n",
       "      <th>sample</th>\n",
       "    </tr>\n",
       "  </thead>\n",
       "  <tbody>\n",
       "    <tr>\n",
       "      <th>0</th>\n",
       "      <td>2020</td>\n",
       "      <td>Jan-Mar</td>\n",
       "      <td>UK residents</td>\n",
       "      <td>Air</td>\n",
       "      <td>Austria</td>\n",
       "      <td>Holiday</td>\n",
       "      <td>Independent</td>\n",
       "      <td>0-15</td>\n",
       "      <td>Male</td>\n",
       "      <td>4-13 nights</td>\n",
       "      <td>7818.886530</td>\n",
       "      <td>54175.066567</td>\n",
       "      <td>1.202859e+07</td>\n",
       "      <td>2.0</td>\n",
       "    </tr>\n",
       "    <tr>\n",
       "      <th>1</th>\n",
       "      <td>2020</td>\n",
       "      <td>Jan-Mar</td>\n",
       "      <td>UK residents</td>\n",
       "      <td>Air</td>\n",
       "      <td>Austria</td>\n",
       "      <td>Holiday</td>\n",
       "      <td>Independent</td>\n",
       "      <td>16-24</td>\n",
       "      <td>Male</td>\n",
       "      <td>4-13 nights</td>\n",
       "      <td>591.172016</td>\n",
       "      <td>2364.688064</td>\n",
       "      <td>2.482922e+05</td>\n",
       "      <td>1.0</td>\n",
       "    </tr>\n",
       "    <tr>\n",
       "      <th>2</th>\n",
       "      <td>2020</td>\n",
       "      <td>Jan-Mar</td>\n",
       "      <td>UK residents</td>\n",
       "      <td>Air</td>\n",
       "      <td>Austria</td>\n",
       "      <td>Holiday</td>\n",
       "      <td>Independent</td>\n",
       "      <td>16-24</td>\n",
       "      <td>Female</td>\n",
       "      <td>1-3 nights</td>\n",
       "      <td>2119.172076</td>\n",
       "      <td>4238.344151</td>\n",
       "      <td>2.882074e+05</td>\n",
       "      <td>1.0</td>\n",
       "    </tr>\n",
       "    <tr>\n",
       "      <th>3</th>\n",
       "      <td>2020</td>\n",
       "      <td>Jan-Mar</td>\n",
       "      <td>UK residents</td>\n",
       "      <td>Air</td>\n",
       "      <td>Austria</td>\n",
       "      <td>Holiday</td>\n",
       "      <td>Independent</td>\n",
       "      <td>16-24</td>\n",
       "      <td>Female</td>\n",
       "      <td>4-13 nights</td>\n",
       "      <td>3574.025829</td>\n",
       "      <td>20320.439660</td>\n",
       "      <td>1.058497e+06</td>\n",
       "      <td>2.0</td>\n",
       "    </tr>\n",
       "    <tr>\n",
       "      <th>4</th>\n",
       "      <td>2020</td>\n",
       "      <td>Jan-Mar</td>\n",
       "      <td>UK residents</td>\n",
       "      <td>Air</td>\n",
       "      <td>Austria</td>\n",
       "      <td>Holiday</td>\n",
       "      <td>Independent</td>\n",
       "      <td>25-34</td>\n",
       "      <td>Male</td>\n",
       "      <td>1-3 nights</td>\n",
       "      <td>2939.672588</td>\n",
       "      <td>8819.017764</td>\n",
       "      <td>6.085122e+05</td>\n",
       "      <td>1.0</td>\n",
       "    </tr>\n",
       "  </tbody>\n",
       "</table>\n",
       "</div>"
      ],
      "text/plain": [
       "   Year  quarter          ukos mode  country  purpose      package    Age  \\\n",
       "0  2020  Jan-Mar  UK residents  Air  Austria  Holiday  Independent   0-15   \n",
       "1  2020  Jan-Mar  UK residents  Air  Austria  Holiday  Independent  16-24   \n",
       "2  2020  Jan-Mar  UK residents  Air  Austria  Holiday  Independent  16-24   \n",
       "3  2020  Jan-Mar  UK residents  Air  Austria  Holiday  Independent  16-24   \n",
       "4  2020  Jan-Mar  UK residents  Air  Austria  Holiday  Independent  25-34   \n",
       "\n",
       "      Sex     duration       visits        nights        expend  sample  \n",
       "0    Male  4-13 nights  7818.886530  54175.066567  1.202859e+07     2.0  \n",
       "1    Male  4-13 nights   591.172016   2364.688064  2.482922e+05     1.0  \n",
       "2  Female   1-3 nights  2119.172076   4238.344151  2.882074e+05     1.0  \n",
       "3  Female  4-13 nights  3574.025829  20320.439660  1.058497e+06     2.0  \n",
       "4    Male   1-3 nights  2939.672588   8819.017764  6.085122e+05     1.0  "
      ]
     },
     "execution_count": 52,
     "metadata": {},
     "output_type": "execute_result"
    }
   ],
   "source": [
    "data_two_plus=data_two.rename(columns={'spend':'expend'})\n",
    "data_two_plus.head()"
   ]
  },
  {
   "cell_type": "code",
   "execution_count": 53,
   "id": "ab22595c",
   "metadata": {},
   "outputs": [],
   "source": [
    "data_three= pd.read_excel('TravelPac 2021.xlsx' , 'Labelled 2021')"
   ]
  },
  {
   "cell_type": "code",
   "execution_count": 54,
   "id": "c54170c0",
   "metadata": {},
   "outputs": [
    {
     "data": {
      "text/plain": [
       "(22900, 14)"
      ]
     },
     "execution_count": 54,
     "metadata": {},
     "output_type": "execute_result"
    }
   ],
   "source": [
    "data_three.shape"
   ]
  },
  {
   "cell_type": "code",
   "execution_count": 55,
   "id": "b40b6d10",
   "metadata": {},
   "outputs": [
    {
     "data": {
      "text/html": [
       "<div>\n",
       "<style scoped>\n",
       "    .dataframe tbody tr th:only-of-type {\n",
       "        vertical-align: middle;\n",
       "    }\n",
       "\n",
       "    .dataframe tbody tr th {\n",
       "        vertical-align: top;\n",
       "    }\n",
       "\n",
       "    .dataframe thead th {\n",
       "        text-align: right;\n",
       "    }\n",
       "</style>\n",
       "<table border=\"1\" class=\"dataframe\">\n",
       "  <thead>\n",
       "    <tr style=\"text-align: right;\">\n",
       "      <th></th>\n",
       "      <th>Year</th>\n",
       "      <th>quarter</th>\n",
       "      <th>ukos</th>\n",
       "      <th>mode</th>\n",
       "      <th>country</th>\n",
       "      <th>purpose</th>\n",
       "      <th>package</th>\n",
       "      <th>Age</th>\n",
       "      <th>Sex</th>\n",
       "      <th>duration</th>\n",
       "      <th>visits</th>\n",
       "      <th>nights</th>\n",
       "      <th>expend</th>\n",
       "      <th>sample</th>\n",
       "    </tr>\n",
       "  </thead>\n",
       "  <tbody>\n",
       "    <tr>\n",
       "      <th>0</th>\n",
       "      <td>2021</td>\n",
       "      <td>Jan-Mar</td>\n",
       "      <td>UK residents</td>\n",
       "      <td>Air</td>\n",
       "      <td>Austria</td>\n",
       "      <td>Business</td>\n",
       "      <td>Independent</td>\n",
       "      <td>16-24</td>\n",
       "      <td>Female</td>\n",
       "      <td>28-90 nights</td>\n",
       "      <td>230.065</td>\n",
       "      <td>7822.21</td>\n",
       "      <td>92026.000</td>\n",
       "      <td>1</td>\n",
       "    </tr>\n",
       "    <tr>\n",
       "      <th>1</th>\n",
       "      <td>2021</td>\n",
       "      <td>Jan-Mar</td>\n",
       "      <td>UK residents</td>\n",
       "      <td>Air</td>\n",
       "      <td>Austria</td>\n",
       "      <td>Business</td>\n",
       "      <td>Independent</td>\n",
       "      <td>35-44</td>\n",
       "      <td>Male</td>\n",
       "      <td>4-13 nights</td>\n",
       "      <td>331.355</td>\n",
       "      <td>1325.42</td>\n",
       "      <td>331355.000</td>\n",
       "      <td>1</td>\n",
       "    </tr>\n",
       "    <tr>\n",
       "      <th>2</th>\n",
       "      <td>2021</td>\n",
       "      <td>Jan-Mar</td>\n",
       "      <td>UK residents</td>\n",
       "      <td>Air</td>\n",
       "      <td>Austria</td>\n",
       "      <td>Business</td>\n",
       "      <td>Non-Independent</td>\n",
       "      <td>16-24</td>\n",
       "      <td>Male</td>\n",
       "      <td>14-27 nights</td>\n",
       "      <td>230.065</td>\n",
       "      <td>4831.365</td>\n",
       "      <td>340036.070</td>\n",
       "      <td>1</td>\n",
       "    </tr>\n",
       "    <tr>\n",
       "      <th>3</th>\n",
       "      <td>2021</td>\n",
       "      <td>Jan-Mar</td>\n",
       "      <td>UK residents</td>\n",
       "      <td>Air</td>\n",
       "      <td>Austria</td>\n",
       "      <td>Business</td>\n",
       "      <td>Non-Independent</td>\n",
       "      <td>45-54</td>\n",
       "      <td>Male</td>\n",
       "      <td>1-3 nights</td>\n",
       "      <td>283.903</td>\n",
       "      <td>567.806</td>\n",
       "      <td>16182.471</td>\n",
       "      <td>1</td>\n",
       "    </tr>\n",
       "    <tr>\n",
       "      <th>4</th>\n",
       "      <td>2021</td>\n",
       "      <td>Jan-Mar</td>\n",
       "      <td>UK residents</td>\n",
       "      <td>Air</td>\n",
       "      <td>Bulgaria</td>\n",
       "      <td>Business</td>\n",
       "      <td>Independent</td>\n",
       "      <td>25-34</td>\n",
       "      <td>Male</td>\n",
       "      <td>4-13 nights</td>\n",
       "      <td>175.549</td>\n",
       "      <td>877.745</td>\n",
       "      <td>35109.800</td>\n",
       "      <td>1</td>\n",
       "    </tr>\n",
       "  </tbody>\n",
       "</table>\n",
       "</div>"
      ],
      "text/plain": [
       "   Year  quarter          ukos mode   country   purpose          package  \\\n",
       "0  2021  Jan-Mar  UK residents  Air   Austria  Business      Independent   \n",
       "1  2021  Jan-Mar  UK residents  Air   Austria  Business      Independent   \n",
       "2  2021  Jan-Mar  UK residents  Air   Austria  Business  Non-Independent   \n",
       "3  2021  Jan-Mar  UK residents  Air   Austria  Business  Non-Independent   \n",
       "4  2021  Jan-Mar  UK residents  Air  Bulgaria  Business      Independent   \n",
       "\n",
       "     Age     Sex      duration   visits    nights      expend sample  \n",
       "0  16-24  Female  28-90 nights  230.065   7822.21   92026.000      1  \n",
       "1  35-44    Male   4-13 nights  331.355   1325.42  331355.000      1  \n",
       "2  16-24    Male  14-27 nights  230.065  4831.365  340036.070      1  \n",
       "3  45-54    Male    1-3 nights  283.903   567.806   16182.471      1  \n",
       "4  25-34    Male   4-13 nights  175.549   877.745   35109.800      1  "
      ]
     },
     "execution_count": 55,
     "metadata": {},
     "output_type": "execute_result"
    }
   ],
   "source": [
    "data_three.head()"
   ]
  },
  {
   "cell_type": "markdown",
   "id": "e053c905",
   "metadata": {},
   "source": [
    "###### Combine all datasets into one"
   ]
  },
  {
   "cell_type": "code",
   "execution_count": 56,
   "id": "e6602fd8",
   "metadata": {},
   "outputs": [],
   "source": [
    "data= pd.concat([data_one , data_two_plus , data_three] , axis=0 , ignore_index='True')"
   ]
  },
  {
   "cell_type": "code",
   "execution_count": 57,
   "id": "8d09fedf",
   "metadata": {},
   "outputs": [
    {
     "data": {
      "text/html": [
       "<div>\n",
       "<style scoped>\n",
       "    .dataframe tbody tr th:only-of-type {\n",
       "        vertical-align: middle;\n",
       "    }\n",
       "\n",
       "    .dataframe tbody tr th {\n",
       "        vertical-align: top;\n",
       "    }\n",
       "\n",
       "    .dataframe thead th {\n",
       "        text-align: right;\n",
       "    }\n",
       "</style>\n",
       "<table border=\"1\" class=\"dataframe\">\n",
       "  <thead>\n",
       "    <tr style=\"text-align: right;\">\n",
       "      <th></th>\n",
       "      <th>Year</th>\n",
       "      <th>quarter</th>\n",
       "      <th>ukos</th>\n",
       "      <th>mode</th>\n",
       "      <th>country</th>\n",
       "      <th>purpose</th>\n",
       "      <th>package</th>\n",
       "      <th>Age</th>\n",
       "      <th>Sex</th>\n",
       "      <th>duration</th>\n",
       "      <th>visits</th>\n",
       "      <th>nights</th>\n",
       "      <th>expend</th>\n",
       "      <th>sample</th>\n",
       "    </tr>\n",
       "  </thead>\n",
       "  <tbody>\n",
       "    <tr>\n",
       "      <th>0</th>\n",
       "      <td>2009</td>\n",
       "      <td>Jan-Mar</td>\n",
       "      <td>UK residents</td>\n",
       "      <td>Air</td>\n",
       "      <td>Austria</td>\n",
       "      <td>Holiday</td>\n",
       "      <td>Independent</td>\n",
       "      <td>0-15</td>\n",
       "      <td>Male</td>\n",
       "      <td>4-13 nights</td>\n",
       "      <td>1600.680374</td>\n",
       "      <td>11204.762616</td>\n",
       "      <td>1.103402e+06</td>\n",
       "      <td>3.0</td>\n",
       "    </tr>\n",
       "    <tr>\n",
       "      <th>1</th>\n",
       "      <td>2009</td>\n",
       "      <td>Jan-Mar</td>\n",
       "      <td>UK residents</td>\n",
       "      <td>Air</td>\n",
       "      <td>Austria</td>\n",
       "      <td>Holiday</td>\n",
       "      <td>Independent</td>\n",
       "      <td>0-15</td>\n",
       "      <td>Female</td>\n",
       "      <td>4-13 nights</td>\n",
       "      <td>1600.680374</td>\n",
       "      <td>11204.762616</td>\n",
       "      <td>1.125278e+06</td>\n",
       "      <td>3.0</td>\n",
       "    </tr>\n",
       "    <tr>\n",
       "      <th>2</th>\n",
       "      <td>2009</td>\n",
       "      <td>Jan-Mar</td>\n",
       "      <td>UK residents</td>\n",
       "      <td>Air</td>\n",
       "      <td>Austria</td>\n",
       "      <td>Holiday</td>\n",
       "      <td>Independent</td>\n",
       "      <td>16-24</td>\n",
       "      <td>Male</td>\n",
       "      <td>4-13 nights</td>\n",
       "      <td>3064.743058</td>\n",
       "      <td>20873.377956</td>\n",
       "      <td>1.622982e+06</td>\n",
       "      <td>3.0</td>\n",
       "    </tr>\n",
       "    <tr>\n",
       "      <th>3</th>\n",
       "      <td>2009</td>\n",
       "      <td>Jan-Mar</td>\n",
       "      <td>UK residents</td>\n",
       "      <td>Air</td>\n",
       "      <td>Austria</td>\n",
       "      <td>Holiday</td>\n",
       "      <td>Independent</td>\n",
       "      <td>16-24</td>\n",
       "      <td>Female</td>\n",
       "      <td>4-13 nights</td>\n",
       "      <td>2702.755561</td>\n",
       "      <td>12411.702616</td>\n",
       "      <td>1.164191e+06</td>\n",
       "      <td>2.0</td>\n",
       "    </tr>\n",
       "    <tr>\n",
       "      <th>4</th>\n",
       "      <td>2009</td>\n",
       "      <td>Jan-Mar</td>\n",
       "      <td>UK residents</td>\n",
       "      <td>Air</td>\n",
       "      <td>Austria</td>\n",
       "      <td>Holiday</td>\n",
       "      <td>Independent</td>\n",
       "      <td>16-24</td>\n",
       "      <td>Female</td>\n",
       "      <td>14-27 nights</td>\n",
       "      <td>525.351507</td>\n",
       "      <td>7354.921102</td>\n",
       "      <td>7.633357e+05</td>\n",
       "      <td>1.0</td>\n",
       "    </tr>\n",
       "  </tbody>\n",
       "</table>\n",
       "</div>"
      ],
      "text/plain": [
       "   Year  quarter          ukos mode  country  purpose      package    Age  \\\n",
       "0  2009  Jan-Mar  UK residents  Air  Austria  Holiday  Independent   0-15   \n",
       "1  2009  Jan-Mar  UK residents  Air  Austria  Holiday  Independent   0-15   \n",
       "2  2009  Jan-Mar  UK residents  Air  Austria  Holiday  Independent  16-24   \n",
       "3  2009  Jan-Mar  UK residents  Air  Austria  Holiday  Independent  16-24   \n",
       "4  2009  Jan-Mar  UK residents  Air  Austria  Holiday  Independent  16-24   \n",
       "\n",
       "      Sex      duration       visits        nights        expend sample  \n",
       "0    Male   4-13 nights  1600.680374  11204.762616  1.103402e+06    3.0  \n",
       "1  Female   4-13 nights  1600.680374  11204.762616  1.125278e+06    3.0  \n",
       "2    Male   4-13 nights  3064.743058  20873.377956  1.622982e+06    3.0  \n",
       "3  Female   4-13 nights  2702.755561  12411.702616  1.164191e+06    2.0  \n",
       "4  Female  14-27 nights   525.351507   7354.921102  7.633357e+05    1.0  "
      ]
     },
     "execution_count": 57,
     "metadata": {},
     "output_type": "execute_result"
    }
   ],
   "source": [
    "data.head()"
   ]
  },
  {
   "cell_type": "code",
   "execution_count": 58,
   "id": "b7272819",
   "metadata": {},
   "outputs": [
    {
     "data": {
      "text/plain": [
       "(425024, 14)"
      ]
     },
     "execution_count": 58,
     "metadata": {},
     "output_type": "execute_result"
    }
   ],
   "source": [
    "data.shape"
   ]
  },
  {
   "cell_type": "markdown",
   "id": "484f143f",
   "metadata": {},
   "source": [
    "###### Renaming some columns\n",
    "Rename the following columns:\n",
    "- ukos to where_contact_lives\n",
    "- package to Holiday_Package\n",
    "- duration to Duration of visit\n",
    "- expend to Amount_Spent"
   ]
  },
  {
   "cell_type": "code",
   "execution_count": 62,
   "id": "2d36aa77",
   "metadata": {},
   "outputs": [],
   "source": [
    "data1=data.rename(columns= {'ukos':'where_contact_lives' , 'package':'Holiday_Package' , 'duration':'Duration_of_Visit' , 'expend':'Amount_Spent'})"
   ]
  },
  {
   "cell_type": "code",
   "execution_count": 63,
   "id": "4e48806d",
   "metadata": {},
   "outputs": [
    {
     "data": {
      "text/html": [
       "<div>\n",
       "<style scoped>\n",
       "    .dataframe tbody tr th:only-of-type {\n",
       "        vertical-align: middle;\n",
       "    }\n",
       "\n",
       "    .dataframe tbody tr th {\n",
       "        vertical-align: top;\n",
       "    }\n",
       "\n",
       "    .dataframe thead th {\n",
       "        text-align: right;\n",
       "    }\n",
       "</style>\n",
       "<table border=\"1\" class=\"dataframe\">\n",
       "  <thead>\n",
       "    <tr style=\"text-align: right;\">\n",
       "      <th></th>\n",
       "      <th>Year</th>\n",
       "      <th>quarter</th>\n",
       "      <th>where_contact_lives</th>\n",
       "      <th>mode</th>\n",
       "      <th>country</th>\n",
       "      <th>purpose</th>\n",
       "      <th>Holiday_Package</th>\n",
       "      <th>Age</th>\n",
       "      <th>Sex</th>\n",
       "      <th>Duration_of_Visit</th>\n",
       "      <th>visits</th>\n",
       "      <th>nights</th>\n",
       "      <th>Amount_Spent</th>\n",
       "      <th>sample</th>\n",
       "    </tr>\n",
       "  </thead>\n",
       "  <tbody>\n",
       "    <tr>\n",
       "      <th>0</th>\n",
       "      <td>2009</td>\n",
       "      <td>Jan-Mar</td>\n",
       "      <td>UK residents</td>\n",
       "      <td>Air</td>\n",
       "      <td>Austria</td>\n",
       "      <td>Holiday</td>\n",
       "      <td>Independent</td>\n",
       "      <td>0-15</td>\n",
       "      <td>Male</td>\n",
       "      <td>4-13 nights</td>\n",
       "      <td>1600.680374</td>\n",
       "      <td>11204.762616</td>\n",
       "      <td>1.103402e+06</td>\n",
       "      <td>3.0</td>\n",
       "    </tr>\n",
       "    <tr>\n",
       "      <th>1</th>\n",
       "      <td>2009</td>\n",
       "      <td>Jan-Mar</td>\n",
       "      <td>UK residents</td>\n",
       "      <td>Air</td>\n",
       "      <td>Austria</td>\n",
       "      <td>Holiday</td>\n",
       "      <td>Independent</td>\n",
       "      <td>0-15</td>\n",
       "      <td>Female</td>\n",
       "      <td>4-13 nights</td>\n",
       "      <td>1600.680374</td>\n",
       "      <td>11204.762616</td>\n",
       "      <td>1.125278e+06</td>\n",
       "      <td>3.0</td>\n",
       "    </tr>\n",
       "    <tr>\n",
       "      <th>2</th>\n",
       "      <td>2009</td>\n",
       "      <td>Jan-Mar</td>\n",
       "      <td>UK residents</td>\n",
       "      <td>Air</td>\n",
       "      <td>Austria</td>\n",
       "      <td>Holiday</td>\n",
       "      <td>Independent</td>\n",
       "      <td>16-24</td>\n",
       "      <td>Male</td>\n",
       "      <td>4-13 nights</td>\n",
       "      <td>3064.743058</td>\n",
       "      <td>20873.377956</td>\n",
       "      <td>1.622982e+06</td>\n",
       "      <td>3.0</td>\n",
       "    </tr>\n",
       "    <tr>\n",
       "      <th>3</th>\n",
       "      <td>2009</td>\n",
       "      <td>Jan-Mar</td>\n",
       "      <td>UK residents</td>\n",
       "      <td>Air</td>\n",
       "      <td>Austria</td>\n",
       "      <td>Holiday</td>\n",
       "      <td>Independent</td>\n",
       "      <td>16-24</td>\n",
       "      <td>Female</td>\n",
       "      <td>4-13 nights</td>\n",
       "      <td>2702.755561</td>\n",
       "      <td>12411.702616</td>\n",
       "      <td>1.164191e+06</td>\n",
       "      <td>2.0</td>\n",
       "    </tr>\n",
       "    <tr>\n",
       "      <th>4</th>\n",
       "      <td>2009</td>\n",
       "      <td>Jan-Mar</td>\n",
       "      <td>UK residents</td>\n",
       "      <td>Air</td>\n",
       "      <td>Austria</td>\n",
       "      <td>Holiday</td>\n",
       "      <td>Independent</td>\n",
       "      <td>16-24</td>\n",
       "      <td>Female</td>\n",
       "      <td>14-27 nights</td>\n",
       "      <td>525.351507</td>\n",
       "      <td>7354.921102</td>\n",
       "      <td>7.633357e+05</td>\n",
       "      <td>1.0</td>\n",
       "    </tr>\n",
       "  </tbody>\n",
       "</table>\n",
       "</div>"
      ],
      "text/plain": [
       "   Year  quarter where_contact_lives mode  country  purpose Holiday_Package  \\\n",
       "0  2009  Jan-Mar        UK residents  Air  Austria  Holiday     Independent   \n",
       "1  2009  Jan-Mar        UK residents  Air  Austria  Holiday     Independent   \n",
       "2  2009  Jan-Mar        UK residents  Air  Austria  Holiday     Independent   \n",
       "3  2009  Jan-Mar        UK residents  Air  Austria  Holiday     Independent   \n",
       "4  2009  Jan-Mar        UK residents  Air  Austria  Holiday     Independent   \n",
       "\n",
       "     Age     Sex Duration_of_Visit       visits        nights  Amount_Spent  \\\n",
       "0   0-15    Male       4-13 nights  1600.680374  11204.762616  1.103402e+06   \n",
       "1   0-15  Female       4-13 nights  1600.680374  11204.762616  1.125278e+06   \n",
       "2  16-24    Male       4-13 nights  3064.743058  20873.377956  1.622982e+06   \n",
       "3  16-24  Female       4-13 nights  2702.755561  12411.702616  1.164191e+06   \n",
       "4  16-24  Female      14-27 nights   525.351507   7354.921102  7.633357e+05   \n",
       "\n",
       "  sample  \n",
       "0    3.0  \n",
       "1    3.0  \n",
       "2    3.0  \n",
       "3    2.0  \n",
       "4    1.0  "
      ]
     },
     "execution_count": 63,
     "metadata": {},
     "output_type": "execute_result"
    }
   ],
   "source": [
    "data1.head()"
   ]
  },
  {
   "cell_type": "code",
   "execution_count": 70,
   "id": "e37815bd",
   "metadata": {},
   "outputs": [],
   "source": [
    "#Create a mapping for all countries we want to include in our analysis\n",
    "#Codes have been taken from data documentation\n",
    "mapped_country = {\n",
    "        10: 'Austria',\n",
    "        11: 'Belgium',\n",
    "        12: 'Bulgaria',\n",
    "        13: 'Croatia',\n",
    "        14: 'Czech Republic',\n",
    "        15: 'Cyprus EU',\n",
    "        16: 'Cyprus Non EU',\n",
    "        17: 'Denmark',\n",
    "        18: 'Estonia',\n",
    "        19: 'Finland',\n",
    "        20: 'France',#Includes Monaco\n",
    "        21: 'Germany',\n",
    "        22: 'Gibraltar',\n",
    "        23: 'Greece',\n",
    "        24: 'Hungary',\n",
    "        25: 'Iceland',\n",
    "        26: 'Irish Republic',\n",
    "        27: 'Italy', #Includes San Marino and Vatican City\n",
    "        28: 'Latvia',\n",
    "        29: 'Lithuania',\n",
    "        30: 'Luxembourg',\n",
    "        31: 'Malta',\n",
    "        32: 'Netherlands',\n",
    "        33: 'Norway',\n",
    "        34: 'Poland',\n",
    "        35: 'Portugal',#Includes Azores and Madeira\n",
    "        36: 'Romania',\n",
    "        37: 'Russia',\n",
    "        38: 'Spain',#Includes Andorra, Canary Islands\n",
    "        39: 'Slovakia',\n",
    "        40: 'Slovenia',\n",
    "        41: 'Sweden',\n",
    "        42: 'Switzerland',#Includes Liechtenstein\n",
    "        43: 'Turkey',\n",
    "        44: 'Channel Islands',\n",
    "        45: 'Other Europe',#Table does not specify further \n",
    "        }\n"
   ]
  },
  {
   "cell_type": "code",
   "execution_count": 71,
   "id": "6e46e881",
   "metadata": {},
   "outputs": [],
   "source": [
    "#Swap keys and values in mapped_country so string name is the key\n",
    "mapped_country1 = {v: k for k, v in mapped_country.items()}\n",
    "#Convert countries to numerical codes\n",
    "data1.replace(mapped_country1, inplace = True)"
   ]
  },
  {
   "cell_type": "code",
   "execution_count": 72,
   "id": "d0647825",
   "metadata": {},
   "outputs": [
    {
     "data": {
      "text/html": [
       "<div>\n",
       "<style scoped>\n",
       "    .dataframe tbody tr th:only-of-type {\n",
       "        vertical-align: middle;\n",
       "    }\n",
       "\n",
       "    .dataframe tbody tr th {\n",
       "        vertical-align: top;\n",
       "    }\n",
       "\n",
       "    .dataframe thead th {\n",
       "        text-align: right;\n",
       "    }\n",
       "</style>\n",
       "<table border=\"1\" class=\"dataframe\">\n",
       "  <thead>\n",
       "    <tr style=\"text-align: right;\">\n",
       "      <th></th>\n",
       "      <th>Year</th>\n",
       "      <th>quarter</th>\n",
       "      <th>where_contact_lives</th>\n",
       "      <th>mode</th>\n",
       "      <th>country</th>\n",
       "      <th>purpose</th>\n",
       "      <th>Holiday_Package</th>\n",
       "      <th>Age</th>\n",
       "      <th>Sex</th>\n",
       "      <th>Duration_of_Visit</th>\n",
       "      <th>visits</th>\n",
       "      <th>nights</th>\n",
       "      <th>Amount_Spent</th>\n",
       "      <th>sample</th>\n",
       "    </tr>\n",
       "  </thead>\n",
       "  <tbody>\n",
       "    <tr>\n",
       "      <th>0</th>\n",
       "      <td>2009</td>\n",
       "      <td>Jan-Mar</td>\n",
       "      <td>UK residents</td>\n",
       "      <td>Air</td>\n",
       "      <td>10</td>\n",
       "      <td>Holiday</td>\n",
       "      <td>Independent</td>\n",
       "      <td>0-15</td>\n",
       "      <td>Male</td>\n",
       "      <td>4-13 nights</td>\n",
       "      <td>1600.680374</td>\n",
       "      <td>11204.762616</td>\n",
       "      <td>1.103402e+06</td>\n",
       "      <td>3.0</td>\n",
       "    </tr>\n",
       "    <tr>\n",
       "      <th>1</th>\n",
       "      <td>2009</td>\n",
       "      <td>Jan-Mar</td>\n",
       "      <td>UK residents</td>\n",
       "      <td>Air</td>\n",
       "      <td>10</td>\n",
       "      <td>Holiday</td>\n",
       "      <td>Independent</td>\n",
       "      <td>0-15</td>\n",
       "      <td>Female</td>\n",
       "      <td>4-13 nights</td>\n",
       "      <td>1600.680374</td>\n",
       "      <td>11204.762616</td>\n",
       "      <td>1.125278e+06</td>\n",
       "      <td>3.0</td>\n",
       "    </tr>\n",
       "    <tr>\n",
       "      <th>2</th>\n",
       "      <td>2009</td>\n",
       "      <td>Jan-Mar</td>\n",
       "      <td>UK residents</td>\n",
       "      <td>Air</td>\n",
       "      <td>10</td>\n",
       "      <td>Holiday</td>\n",
       "      <td>Independent</td>\n",
       "      <td>16-24</td>\n",
       "      <td>Male</td>\n",
       "      <td>4-13 nights</td>\n",
       "      <td>3064.743058</td>\n",
       "      <td>20873.377956</td>\n",
       "      <td>1.622982e+06</td>\n",
       "      <td>3.0</td>\n",
       "    </tr>\n",
       "    <tr>\n",
       "      <th>3</th>\n",
       "      <td>2009</td>\n",
       "      <td>Jan-Mar</td>\n",
       "      <td>UK residents</td>\n",
       "      <td>Air</td>\n",
       "      <td>10</td>\n",
       "      <td>Holiday</td>\n",
       "      <td>Independent</td>\n",
       "      <td>16-24</td>\n",
       "      <td>Female</td>\n",
       "      <td>4-13 nights</td>\n",
       "      <td>2702.755561</td>\n",
       "      <td>12411.702616</td>\n",
       "      <td>1.164191e+06</td>\n",
       "      <td>2.0</td>\n",
       "    </tr>\n",
       "    <tr>\n",
       "      <th>4</th>\n",
       "      <td>2009</td>\n",
       "      <td>Jan-Mar</td>\n",
       "      <td>UK residents</td>\n",
       "      <td>Air</td>\n",
       "      <td>10</td>\n",
       "      <td>Holiday</td>\n",
       "      <td>Independent</td>\n",
       "      <td>16-24</td>\n",
       "      <td>Female</td>\n",
       "      <td>14-27 nights</td>\n",
       "      <td>525.351507</td>\n",
       "      <td>7354.921102</td>\n",
       "      <td>7.633357e+05</td>\n",
       "      <td>1.0</td>\n",
       "    </tr>\n",
       "  </tbody>\n",
       "</table>\n",
       "</div>"
      ],
      "text/plain": [
       "   Year  quarter where_contact_lives mode country  purpose Holiday_Package  \\\n",
       "0  2009  Jan-Mar        UK residents  Air      10  Holiday     Independent   \n",
       "1  2009  Jan-Mar        UK residents  Air      10  Holiday     Independent   \n",
       "2  2009  Jan-Mar        UK residents  Air      10  Holiday     Independent   \n",
       "3  2009  Jan-Mar        UK residents  Air      10  Holiday     Independent   \n",
       "4  2009  Jan-Mar        UK residents  Air      10  Holiday     Independent   \n",
       "\n",
       "     Age     Sex Duration_of_Visit       visits        nights  Amount_Spent  \\\n",
       "0   0-15    Male       4-13 nights  1600.680374  11204.762616  1.103402e+06   \n",
       "1   0-15  Female       4-13 nights  1600.680374  11204.762616  1.125278e+06   \n",
       "2  16-24    Male       4-13 nights  3064.743058  20873.377956  1.622982e+06   \n",
       "3  16-24  Female       4-13 nights  2702.755561  12411.702616  1.164191e+06   \n",
       "4  16-24  Female      14-27 nights   525.351507   7354.921102  7.633357e+05   \n",
       "\n",
       "  sample  \n",
       "0    3.0  \n",
       "1    3.0  \n",
       "2    3.0  \n",
       "3    2.0  \n",
       "4    1.0  "
      ]
     },
     "execution_count": 72,
     "metadata": {},
     "output_type": "execute_result"
    }
   ],
   "source": [
    "data1.head()"
   ]
  },
  {
   "cell_type": "code",
   "execution_count": 93,
   "id": "ff97388b",
   "metadata": {},
   "outputs": [],
   "source": [
    "#Quickly create a list of numbers for countries\n",
    "cou=np.arange(10,46,1)\n",
    "type(cou)\n",
    "country_range= cou.tolist()"
   ]
  },
  {
   "cell_type": "code",
   "execution_count": 94,
   "id": "e43069a3",
   "metadata": {},
   "outputs": [
    {
     "name": "stdout",
     "output_type": "stream",
     "text": [
      "[10, 11, 12, 13, 14, 15, 16, 17, 18, 19, 20, 21, 22, 23, 24, 25, 26, 27, 28, 29, 30, 31, 32, 33, 34, 35, 36, 37, 38, 39, 40, 41, 42, 43, 44, 45]\n"
     ]
    }
   ],
   "source": [
    "print(country_range)"
   ]
  },
  {
   "cell_type": "code",
   "execution_count": 95,
   "id": "2def9556",
   "metadata": {},
   "outputs": [],
   "source": [
    "#remove countries which are not in range \n",
    "data2 = data1.loc[data1['country'].isin(country_range)]"
   ]
  },
  {
   "cell_type": "code",
   "execution_count": 96,
   "id": "3bf7fbd2",
   "metadata": {},
   "outputs": [],
   "source": [
    "#Return country to String category level\n",
    "data2 = data2.replace(mapped_country)"
   ]
  },
  {
   "cell_type": "code",
   "execution_count": 97,
   "id": "b6f0fb1f",
   "metadata": {},
   "outputs": [
    {
     "data": {
      "text/plain": [
       "count     278060\n",
       "unique        36\n",
       "top       France\n",
       "freq       36054\n",
       "Name: country, dtype: object"
      ]
     },
     "execution_count": 97,
     "metadata": {},
     "output_type": "execute_result"
    }
   ],
   "source": [
    "data2['country'].describe()"
   ]
  },
  {
   "cell_type": "code",
   "execution_count": 98,
   "id": "cfc340c1",
   "metadata": {},
   "outputs": [],
   "source": [
    "#clean up the index\n",
    "find_null_data = data2.reset_index(drop=True)"
   ]
  },
  {
   "cell_type": "markdown",
   "id": "63eedd3b",
   "metadata": {},
   "source": [
    "#### Summary of null values in the data\n",
    "\n"
   ]
  },
  {
   "cell_type": "code",
   "execution_count": 99,
   "id": "de492546",
   "metadata": {},
   "outputs": [
    {
     "name": "stdout",
     "output_type": "stream",
     "text": [
      "True\n",
      "How many in each column?\n",
      "Year                      0\n",
      "quarter                   0\n",
      "where_contact_lives       0\n",
      "mode                      0\n",
      "country                   0\n",
      "purpose                   0\n",
      "Holiday_Package           0\n",
      "Age                       0\n",
      "Sex                    1135\n",
      "Duration_of_Visit         0\n",
      "visits                 7876\n",
      "nights                 7877\n",
      "Amount_Spent             15\n",
      "sample                  539\n",
      "dtype: int64\n",
      "How many null values in total?\n",
      "17442\n"
     ]
    }
   ],
   "source": [
    "#Find out if there are null values in your data\n",
    "#Are there any null values:\n",
    "print(find_null_data.isnull().values.any())\n",
    "#Find out how many - This gives you the breakdown per column\n",
    "print('How many in each column?'),\n",
    "print(find_null_data.isnull().sum())\n",
    "#Gives you total overall\n",
    "print('How many null values in total?')\n",
    "print(find_null_data.isnull().sum().sum())"
   ]
  },
  {
   "cell_type": "code",
   "execution_count": 100,
   "id": "cf139d31",
   "metadata": {},
   "outputs": [],
   "source": [
    "#lets delete the null values\n",
    "dropped_null=find_null_data.dropna()"
   ]
  },
  {
   "cell_type": "code",
   "execution_count": null,
   "id": "c38cb5d5",
   "metadata": {},
   "outputs": [],
   "source": [
    "## Verifying deletion "
   ]
  },
  {
   "cell_type": "code",
   "execution_count": 101,
   "id": "6c859e65",
   "metadata": {},
   "outputs": [
    {
     "data": {
      "text/plain": [
       "Year                   0\n",
       "quarter                0\n",
       "where_contact_lives    0\n",
       "mode                   0\n",
       "country                0\n",
       "purpose                0\n",
       "Holiday_Package        0\n",
       "Age                    0\n",
       "Sex                    0\n",
       "Duration_of_Visit      0\n",
       "visits                 0\n",
       "nights                 0\n",
       "Amount_Spent           0\n",
       "sample                 0\n",
       "dtype: int64"
      ]
     },
     "execution_count": 101,
     "metadata": {},
     "output_type": "execute_result"
    }
   ],
   "source": [
    "dropped_null.isnull().sum()"
   ]
  },
  {
   "cell_type": "code",
   "execution_count": 102,
   "id": "446550f9",
   "metadata": {},
   "outputs": [
    {
     "name": "stdout",
     "output_type": "stream",
     "text": [
      "Year [2009 2010 2011 2012 2013 2014 2015 2016 2017 2018 2019 2020 2021]\n",
      "quarter ['Jan-Mar' 'Apr-Jun' 'Jul-Sep' 'Oct-Dec']\n",
      "where contact lives ['UK residents' 'Overseas residents']\n",
      "mode =['Air' 'Sea' 'Tunnel']\n",
      "Country ['Austria' 'Belgium' 'Bulgaria' 'Croatia' 'Czech Republic' 'Cyprus EU'\n",
      " 'Cyprus Non EU' 'Denmark' 'Estonia' 'Finland' 'France' 'Germany'\n",
      " 'Gibraltar' 'Greece' 'Hungary' 'Iceland' 'Irish Republic' 'Italy'\n",
      " 'Latvia' 'Lithuania' 'Luxembourg' 'Malta' 'Netherlands' 'Norway' 'Poland'\n",
      " 'Portugal' 'Romania' 'Russia' 'Spain' 'Slovakia' 'Slovenia' 'Sweden'\n",
      " 'Switzerland' 'Turkey' 'Other Europe' 'Channel Islands']\n",
      "Purpose ['Holiday' 'Business' 'VFR' 'Miscellaneous' 'Study' 'Transit']\n",
      "Holiday package ['Independent' 'Non-Independent']\n",
      "Age ['0-15' '16-24' '25-34' '35-44' '45-54' '55-64' '65 & over' 'D/K']\n",
      "Sex ['Male' 'Female' 'Dont know' ' ']\n",
      "Duration_of_Visit ['4-13 nights' '14-27 nights' '1-3 nights' '28-90 nights' 'Nil Stay'\n",
      " '3-6 months' '6 months-year' 'Stay not known']\n"
     ]
    }
   ],
   "source": [
    "#check each column if unwanted values exist\n",
    "print(f\"Year {dropped_null['Year'].unique()}\")\n",
    "print(f\"quarter {dropped_null['quarter'].unique()}\")\n",
    "print(f\"where contact lives {dropped_null['where_contact_lives'].unique()}\")\n",
    "print(f\"mode ={dropped_null['mode'].unique()}\")\n",
    "print(f\"Country {dropped_null['country'].unique()}\")\n",
    "print(f\"Purpose {dropped_null['purpose'].unique()}\")\n",
    "print(f\"Holiday package {dropped_null['Holiday_Package'].unique()}\")\n",
    "print(f\"Age {dropped_null['Age'].unique()}\")\n",
    "print(f\"Sex {dropped_null['Sex'].unique()}\")\n",
    "print(f\"Duration_of_Visit {dropped_null['Duration_of_Visit'].unique()}\")\n"
   ]
  },
  {
   "cell_type": "code",
   "execution_count": 103,
   "id": "c652e5ec",
   "metadata": {},
   "outputs": [],
   "source": [
    "#remove 'D/K' in Age  \n",
    "dropped_null1= dropped_null[dropped_null.Age != 'D/K']\n",
    "#remove 'Donk know' and ' ' in Sex\n",
    "list= ['Dont know' , ' ']\n",
    "dropped_null2= dropped_null1[dropped_null1.Sex.isin(list) == False]\n",
    "#remove 'Stay not known' in Duration of visit\n",
    "dropped_null3= dropped_null2[dropped_null2.Duration_of_Visit != 'Stay not known']\n",
    "\n"
   ]
  },
  {
   "cell_type": "code",
   "execution_count": 104,
   "id": "74c2004e",
   "metadata": {},
   "outputs": [
    {
     "name": "stdout",
     "output_type": "stream",
     "text": [
      "Age ['0-15' '16-24' '25-34' '35-44' '45-54' '55-64' '65 & over']\n",
      "Sex ['Male' 'Female']\n",
      "Duration_of_Visit ['4-13 nights' '14-27 nights' '1-3 nights' '28-90 nights' 'Nil Stay'\n",
      " '3-6 months' '6 months-year']\n"
     ]
    }
   ],
   "source": [
    "#Recheck the affected column if unwanted values still exist\n",
    "\n",
    "print(f\"Age {dropped_null3['Age'].unique()}\")\n",
    "print(f\"Sex {dropped_null3['Sex'].unique()}\")\n",
    "print(f\"Duration_of_Visit {dropped_null3['Duration_of_Visit'].unique()}\")\n"
   ]
  },
  {
   "cell_type": "code",
   "execution_count": 105,
   "id": "55588640",
   "metadata": {},
   "outputs": [
    {
     "data": {
      "text/plain": [
       "(265285, 14)"
      ]
     },
     "execution_count": 105,
     "metadata": {},
     "output_type": "execute_result"
    }
   ],
   "source": [
    "dropped_null3.shape"
   ]
  },
  {
   "cell_type": "code",
   "execution_count": 106,
   "id": "6f69cf42",
   "metadata": {},
   "outputs": [
    {
     "data": {
      "text/plain": [
       "Index(['Year', 'quarter', 'where_contact_lives', 'mode', 'country', 'purpose',\n",
       "       'Holiday_Package', 'Age', 'Sex', 'Duration_of_Visit', 'visits',\n",
       "       'nights', 'Amount_Spent', 'sample'],\n",
       "      dtype='object')"
      ]
     },
     "execution_count": 106,
     "metadata": {},
     "output_type": "execute_result"
    }
   ],
   "source": [
    "dropped_null3.columns"
   ]
  },
  {
   "cell_type": "code",
   "execution_count": 107,
   "id": "8a5291d8",
   "metadata": {},
   "outputs": [
    {
     "data": {
      "text/plain": [
       "4-13 nights      104515\n",
       "1-3 nights        89704\n",
       "14-27 nights      35584\n",
       "Nil Stay          16382\n",
       "28-90 nights      15527\n",
       "3-6 months         2794\n",
       "6 months-year       779\n",
       "Name: Duration_of_Visit, dtype: int64"
      ]
     },
     "execution_count": 107,
     "metadata": {},
     "output_type": "execute_result"
    }
   ],
   "source": [
    "dropped_null3['Duration_of_Visit'].value_counts()"
   ]
  },
  {
   "cell_type": "code",
   "execution_count": null,
   "id": "ee07daba",
   "metadata": {},
   "outputs": [],
   "source": [
    "#Drop sample, as it is not needed for our analysis\n",
    "\n",
    "dropped_sample = dropped_null3.drop(['sample'], axis=1)"
   ]
  },
  {
   "cell_type": "markdown",
   "id": "17f3b914",
   "metadata": {},
   "source": [
    "##### Splitting the data and writing to file"
   ]
  },
  {
   "cell_type": "code",
   "execution_count": null,
   "id": "0f7a4a5d",
   "metadata": {},
   "outputs": [],
   "source": [
    "dropped_sample.shape"
   ]
  },
  {
   "cell_type": "code",
   "execution_count": null,
   "id": "54b36953",
   "metadata": {},
   "outputs": [],
   "source": [
    "#UK Residents\n",
    "UK_Residents = dropped_sample[dropped_sample['where_contact_lives'] == 'UK residents' ]\n",
    "UK_Residents.shape"
   ]
  },
  {
   "cell_type": "code",
   "execution_count": null,
   "id": "7128823d",
   "metadata": {},
   "outputs": [],
   "source": [
    "UK_Residents.head()"
   ]
  },
  {
   "cell_type": "code",
   "execution_count": null,
   "id": "f812b185",
   "metadata": {},
   "outputs": [],
   "source": [
    "# Residents\n",
    "Non_UK_Residents = dropped_sample[dropped_sample['where_contact_lives'] == 'Overseas residents' ]\n",
    "Non_UK_Residents.shape"
   ]
  },
  {
   "cell_type": "code",
   "execution_count": null,
   "id": "65d3c7a3",
   "metadata": {},
   "outputs": [],
   "source": [
    "Non_UK_Residents.head()\n"
   ]
  },
  {
   "cell_type": "code",
   "execution_count": null,
   "id": "2f0a1c57",
   "metadata": {},
   "outputs": [],
   "source": [
    "#WRITE TO FILE\n",
    "UK_Residents.to_excel(r'Travelpac_UK_Resident.xlsx', index=False)"
   ]
  },
  {
   "cell_type": "code",
   "execution_count": null,
   "id": "992ab56e",
   "metadata": {},
   "outputs": [],
   "source": [
    "Non_UK_Residents.to_excel(r'Travelpac_Non_UK_Resident.xlsx', index=False)"
   ]
  },
  {
   "cell_type": "code",
   "execution_count": null,
   "id": "22b584e8",
   "metadata": {},
   "outputs": [],
   "source": []
  }
 ],
 "metadata": {
  "kernelspec": {
   "display_name": "Python 3 (ipykernel)",
   "language": "python",
   "name": "python3"
  },
  "language_info": {
   "codemirror_mode": {
    "name": "ipython",
    "version": 3
   },
   "file_extension": ".py",
   "mimetype": "text/x-python",
   "name": "python",
   "nbconvert_exporter": "python",
   "pygments_lexer": "ipython3",
   "version": "3.9.7"
  }
 },
 "nbformat": 4,
 "nbformat_minor": 5
}
