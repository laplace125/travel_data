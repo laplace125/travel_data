{
 "cells": [
  {
   "cell_type": "markdown",
   "metadata": {},
   "source": [
    "## Importing the libraries"
   ]
  },
  {
   "cell_type": "code",
   "execution_count": 1,
   "metadata": {},
   "outputs": [],
   "source": [
    "#importing all the libraries needed\n",
    "\n",
    "import pandas as pd\n",
    "import numpy as np\n",
    "import seaborn as sns\n",
    "import matplotlib.pyplot as plt\n",
    "import csv"
   ]
  },
  {
   "cell_type": "markdown",
   "metadata": {},
   "source": [
    "## Reading the Dataset"
   ]
  },
  {
   "cell_type": "code",
   "execution_count": 3,
   "metadata": {},
   "outputs": [],
   "source": [
    "#creating a custom null values to clean the dataset\n",
    "df = pd.read_excel('cleaned_Travelpac_removed_outliers.xlsx', 'Sheet1')"
   ]
  },
  {
   "cell_type": "code",
   "execution_count": 4,
   "metadata": {},
   "outputs": [
    {
     "data": {
      "text/html": [
       "<div>\n",
       "<style scoped>\n",
       "    .dataframe tbody tr th:only-of-type {\n",
       "        vertical-align: middle;\n",
       "    }\n",
       "\n",
       "    .dataframe tbody tr th {\n",
       "        vertical-align: top;\n",
       "    }\n",
       "\n",
       "    .dataframe thead th {\n",
       "        text-align: right;\n",
       "    }\n",
       "</style>\n",
       "<table border=\"1\" class=\"dataframe\">\n",
       "  <thead>\n",
       "    <tr style=\"text-align: right;\">\n",
       "      <th></th>\n",
       "      <th>Age</th>\n",
       "      <th>Duration_of_Visit</th>\n",
       "      <th>Holiday_Package</th>\n",
       "      <th>Sex</th>\n",
       "      <th>Year</th>\n",
       "      <th>country</th>\n",
       "      <th>mode</th>\n",
       "      <th>purpose</th>\n",
       "      <th>quarter</th>\n",
       "      <th>where_contact_lives</th>\n",
       "      <th>visits</th>\n",
       "      <th>nights</th>\n",
       "      <th>Amount_Spent</th>\n",
       "    </tr>\n",
       "  </thead>\n",
       "  <tbody>\n",
       "    <tr>\n",
       "      <th>0</th>\n",
       "      <td>0-15</td>\n",
       "      <td>4-13 nights</td>\n",
       "      <td>Independent</td>\n",
       "      <td>Male</td>\n",
       "      <td>2009</td>\n",
       "      <td>Austria</td>\n",
       "      <td>Air</td>\n",
       "      <td>Holiday</td>\n",
       "      <td>Jan-Mar</td>\n",
       "      <td>UK residents</td>\n",
       "      <td>1600.680374</td>\n",
       "      <td>11204.762616</td>\n",
       "      <td>1.103402e+06</td>\n",
       "    </tr>\n",
       "    <tr>\n",
       "      <th>1</th>\n",
       "      <td>0-15</td>\n",
       "      <td>4-13 nights</td>\n",
       "      <td>Independent</td>\n",
       "      <td>Female</td>\n",
       "      <td>2009</td>\n",
       "      <td>Austria</td>\n",
       "      <td>Air</td>\n",
       "      <td>Holiday</td>\n",
       "      <td>Jan-Mar</td>\n",
       "      <td>UK residents</td>\n",
       "      <td>1600.680374</td>\n",
       "      <td>11204.762616</td>\n",
       "      <td>1.125278e+06</td>\n",
       "    </tr>\n",
       "    <tr>\n",
       "      <th>2</th>\n",
       "      <td>16-24</td>\n",
       "      <td>4-13 nights</td>\n",
       "      <td>Independent</td>\n",
       "      <td>Male</td>\n",
       "      <td>2009</td>\n",
       "      <td>Austria</td>\n",
       "      <td>Air</td>\n",
       "      <td>Holiday</td>\n",
       "      <td>Jan-Mar</td>\n",
       "      <td>UK residents</td>\n",
       "      <td>3064.743058</td>\n",
       "      <td>20873.377956</td>\n",
       "      <td>1.622982e+06</td>\n",
       "    </tr>\n",
       "    <tr>\n",
       "      <th>3</th>\n",
       "      <td>16-24</td>\n",
       "      <td>4-13 nights</td>\n",
       "      <td>Independent</td>\n",
       "      <td>Female</td>\n",
       "      <td>2009</td>\n",
       "      <td>Austria</td>\n",
       "      <td>Air</td>\n",
       "      <td>Holiday</td>\n",
       "      <td>Jan-Mar</td>\n",
       "      <td>UK residents</td>\n",
       "      <td>2702.755561</td>\n",
       "      <td>12411.702616</td>\n",
       "      <td>1.164191e+06</td>\n",
       "    </tr>\n",
       "    <tr>\n",
       "      <th>4</th>\n",
       "      <td>16-24</td>\n",
       "      <td>14-27 nights</td>\n",
       "      <td>Independent</td>\n",
       "      <td>Female</td>\n",
       "      <td>2009</td>\n",
       "      <td>Austria</td>\n",
       "      <td>Air</td>\n",
       "      <td>Holiday</td>\n",
       "      <td>Jan-Mar</td>\n",
       "      <td>UK residents</td>\n",
       "      <td>525.351507</td>\n",
       "      <td>7354.921102</td>\n",
       "      <td>7.633357e+05</td>\n",
       "    </tr>\n",
       "  </tbody>\n",
       "</table>\n",
       "</div>"
      ],
      "text/plain": [
       "     Age Duration_of_Visit Holiday_Package     Sex  Year  country mode  \\\n",
       "0   0-15       4-13 nights     Independent    Male  2009  Austria  Air   \n",
       "1   0-15       4-13 nights     Independent  Female  2009  Austria  Air   \n",
       "2  16-24       4-13 nights     Independent    Male  2009  Austria  Air   \n",
       "3  16-24       4-13 nights     Independent  Female  2009  Austria  Air   \n",
       "4  16-24      14-27 nights     Independent  Female  2009  Austria  Air   \n",
       "\n",
       "   purpose  quarter where_contact_lives       visits        nights  \\\n",
       "0  Holiday  Jan-Mar        UK residents  1600.680374  11204.762616   \n",
       "1  Holiday  Jan-Mar        UK residents  1600.680374  11204.762616   \n",
       "2  Holiday  Jan-Mar        UK residents  3064.743058  20873.377956   \n",
       "3  Holiday  Jan-Mar        UK residents  2702.755561  12411.702616   \n",
       "4  Holiday  Jan-Mar        UK residents   525.351507   7354.921102   \n",
       "\n",
       "   Amount_Spent  \n",
       "0  1.103402e+06  \n",
       "1  1.125278e+06  \n",
       "2  1.622982e+06  \n",
       "3  1.164191e+06  \n",
       "4  7.633357e+05  "
      ]
     },
     "execution_count": 4,
     "metadata": {},
     "output_type": "execute_result"
    }
   ],
   "source": [
    "#previewing the top 5 data from the dataset\n",
    "\n",
    "df.head()"
   ]
  },
  {
   "cell_type": "code",
   "execution_count": 5,
   "metadata": {},
   "outputs": [
    {
     "data": {
      "text/plain": [
       "(316678, 13)"
      ]
     },
     "execution_count": 5,
     "metadata": {},
     "output_type": "execute_result"
    }
   ],
   "source": [
    "#checking the dimension of the dataset\n",
    "\n",
    "df.shape"
   ]
  },
  {
   "cell_type": "code",
   "execution_count": 61,
   "metadata": {},
   "outputs": [
    {
     "data": {
      "text/plain": [
       "array(['Austria', 'Belgium', 'Bulgaria', 'Croatia', 'Czech Republic',\n",
       "       'Cyprus EU', 'Cyprus Non EU', 'Denmark', 'Estonia', 'Finland',\n",
       "       'France', 'Germany', 'Gibraltar', 'Greece', 'Hungary', 'Iceland',\n",
       "       'Irish Republic', 'Italy', 'Latvia', 'Lithuania', 'Luxembourg',\n",
       "       'Malta', 'Netherlands', 'Norway', 'Poland', 'Portugal', 'Romania',\n",
       "       'Russia', 'Spain', 'Slovakia', 'Slovenia', 'Sweden', 'Switzerland',\n",
       "       'Turkey', 'Other Europe', 'Egypt', 'Tunisia', 'Other North Africa',\n",
       "       'South Africa', 'Other Africa', 'Israel', 'United Arab Emirates',\n",
       "       'Other Middle East', 'China - Hong Kong', 'China - Other', 'India',\n",
       "       'Japan', 'Pakistan', 'Sri Lanka', 'Thailand', 'Other Asia',\n",
       "       'Canada', 'USA', 'Mexico', 'Other Central & Sth.America',\n",
       "       'Barbados', 'Jamaica', 'Other Caribbean', 'Australia',\n",
       "       'New Zealand', 'Other countries'], dtype=object)"
      ]
     },
     "execution_count": 61,
     "metadata": {},
     "output_type": "execute_result"
    }
   ],
   "source": [
    "df['country'].unique()"
   ]
  },
  {
   "cell_type": "code",
   "execution_count": 6,
   "metadata": {},
   "outputs": [
    {
     "name": "stdout",
     "output_type": "stream",
     "text": [
      "<class 'pandas.core.frame.DataFrame'>\n",
      "RangeIndex: 316678 entries, 0 to 316677\n",
      "Data columns (total 13 columns):\n",
      " #   Column               Non-Null Count   Dtype  \n",
      "---  ------               --------------   -----  \n",
      " 0   Age                  316678 non-null  object \n",
      " 1   Duration_of_Visit    316678 non-null  object \n",
      " 2   Holiday_Package      316678 non-null  object \n",
      " 3   Sex                  316678 non-null  object \n",
      " 4   Year                 316678 non-null  int64  \n",
      " 5   country              316678 non-null  object \n",
      " 6   mode                 316678 non-null  object \n",
      " 7   purpose              316678 non-null  object \n",
      " 8   quarter              316678 non-null  object \n",
      " 9   where_contact_lives  316678 non-null  object \n",
      " 10  visits               316678 non-null  float64\n",
      " 11  nights               316678 non-null  float64\n",
      " 12  Amount_Spent         316678 non-null  float64\n",
      "dtypes: float64(3), int64(1), object(9)\n",
      "memory usage: 31.4+ MB\n"
     ]
    }
   ],
   "source": [
    "df.info()"
   ]
  },
  {
   "cell_type": "markdown",
   "metadata": {},
   "source": [
    "## Checking for null values"
   ]
  },
  {
   "cell_type": "code",
   "execution_count": 7,
   "metadata": {},
   "outputs": [
    {
     "data": {
      "text/plain": [
       "Age                    0\n",
       "Duration_of_Visit      0\n",
       "Holiday_Package        0\n",
       "Sex                    0\n",
       "Year                   0\n",
       "country                0\n",
       "mode                   0\n",
       "purpose                0\n",
       "quarter                0\n",
       "where_contact_lives    0\n",
       "visits                 0\n",
       "nights                 0\n",
       "Amount_Spent           0\n",
       "dtype: int64"
      ]
     },
     "execution_count": 7,
     "metadata": {},
     "output_type": "execute_result"
    }
   ],
   "source": [
    "df.isnull().sum()"
   ]
  },
  {
   "cell_type": "markdown",
   "metadata": {},
   "source": [
    "## Insight Implementation"
   ]
  },
  {
   "cell_type": "code",
   "execution_count": 8,
   "metadata": {},
   "outputs": [],
   "source": [
    "## Assigning dataset of each year to a variable\n",
    "\n",
    "df2009 = df[df['Year'] == 2009 ]\n",
    "df2010 = df[df['Year'] == 2010 ]\n",
    "df2011 = df[df['Year'] == 2011 ]\n",
    "df2012 = df[df['Year'] == 2012 ]\n",
    "df2013 = df[df['Year'] == 2013 ]\n",
    "df2014 = df[df['Year'] == 2014 ]\n",
    "df2015 = df[df['Year'] == 2015 ]\n",
    "df2016 = df[df['Year'] == 2016 ]\n",
    "df2017 = df[df['Year'] == 2017 ]\n",
    "df2018 = df[df['Year'] == 2018 ]\n",
    "df2019 = df[df['Year'] == 2019 ]\n",
    "df2020 = df[df['Year'] == 2020 ]\n",
    "df2021 = df[df['Year'] == 2021 ]"
   ]
  },
  {
   "cell_type": "code",
   "execution_count": 9,
   "metadata": {},
   "outputs": [
    {
     "name": "stdout",
     "output_type": "stream",
     "text": [
      "2010    30172\n",
      "2013    29531\n",
      "2009    29516\n",
      "2015    29497\n",
      "2011    29258\n",
      "2012    28877\n",
      "2014    28620\n",
      "2016    28140\n",
      "2017    25038\n",
      "2018    21187\n",
      "2019    20370\n",
      "2021    11881\n",
      "2020     4591\n",
      "Name: Year, dtype: int64\n"
     ]
    }
   ],
   "source": [
    "## Indentifying samples per year\n",
    "print(df['Year'].value_counts())"
   ]
  },
  {
   "cell_type": "code",
   "execution_count": 10,
   "metadata": {},
   "outputs": [
    {
     "data": {
      "text/plain": [
       "Text(0.5, 1.0, 'TOTAL NUMBER OF VISITS PER YEAR')"
      ]
     },
     "execution_count": 10,
     "metadata": {},
     "output_type": "execute_result"
    },
    {
     "data": {
      "image/png": "[encoded data removed]",
      "text/plain": [
       "<Figure size 864x432 with 1 Axes>"
      ]
     },
     "metadata": {
      "needs_background": "light"
     },
     "output_type": "display_data"
    }
   ],
   "source": [
    "## Total number of visits per year\n",
    "\n",
    "total_visits_perYear = df.groupby(\"Year\").agg({\"visits\":pd.Series.sum})\n",
    "total_visits_perYear\n",
    "\n",
    "year = {'2009' : total_visits_perYear['visits'].iat[0] , '2010':total_visits_perYear['visits'].iat[1] , '2011':total_visits_perYear['visits'].iat[2] ,'2012':total_visits_perYear['visits'].iat[3] , '2013':total_visits_perYear['visits'].iat[4] ,'2014' : total_visits_perYear['visits'].iat[5] , '2015':total_visits_perYear['visits'].iat[6] , '2016':total_visits_perYear['visits'].iat[7] , '2017':total_visits_perYear['visits'].iat[8]\n",
    "       ,'2018' : total_visits_perYear['visits'].iat[9] , '2019':total_visits_perYear['visits'].iat[10] , '2020':total_visits_perYear['visits'].iat[11] ,'2021':total_visits_perYear['visits'].iat[12]}\n",
    "\n",
    "fig, ax = plt.subplots(figsize=(12,6))\n",
    "plt.bar(year.keys() , year.values())\n",
    "plt.xlabel('Years')\n",
    "plt.ylabel('Value')\n",
    "plt.title('TOTAL NUMBER OF VISITS PER YEAR')\n"
   ]
  },
  {
   "cell_type": "code",
   "execution_count": 11,
   "metadata": {},
   "outputs": [
    {
     "data": {
      "text/plain": [
       "Text(0.5, 1.0, 'TOTAL NUMBER OF NIGHTS PER YEAR')"
      ]
     },
     "execution_count": 11,
     "metadata": {},
     "output_type": "execute_result"
    },
    {
     "data": {
      "image/png": "[encoded data removed]",
      "text/plain": [
       "<Figure size 864x432 with 1 Axes>"
      ]
     },
     "metadata": {
      "needs_background": "light"
     },
     "output_type": "display_data"
    }
   ],
   "source": [
    "## Total number of night per year\n",
    "\n",
    "total_nights_perYear = df.groupby(\"Year\").agg({\"nights\":pd.Series.sum})\n",
    "total_nights_perYear\n",
    "\n",
    "year = {'2009' : total_nights_perYear['nights'].iat[0] , '2010':total_nights_perYear['nights'].iat[1] , \n",
    "        '2011':total_nights_perYear['nights'].iat[2] ,'2012':total_nights_perYear['nights'].iat[3] ,\n",
    "        '2013':total_nights_perYear['nights'].iat[4] ,'2014' : total_nights_perYear['nights'].iat[5] , \n",
    "        '2015':total_nights_perYear['nights'].iat[6] , '2016':total_nights_perYear['nights'].iat[7] ,\n",
    "        '2017':total_nights_perYear['nights'].iat[8]\n",
    "       ,'2018' : total_nights_perYear['nights'].iat[9] , '2019':total_nights_perYear['nights'].iat[10] ,\n",
    "        '2020':total_nights_perYear['nights'].iat[11] ,'2021':total_nights_perYear['nights'].iat[12]}\n",
    "\n",
    "fig, ax = plt.subplots(figsize=(12,6))\n",
    "plt.bar(year.keys() , year.values())\n",
    "plt.xlabel('Years')\n",
    "plt.ylabel('Value')\n",
    "plt.title('TOTAL NUMBER OF NIGHTS PER YEAR')"
   ]
  },
  {
   "cell_type": "code",
   "execution_count": 12,
   "metadata": {},
   "outputs": [
    {
     "data": {
      "text/plain": [
       "Text(0.5, 1.0, 'TOTAL AMOUNT SPENT PER YEAR')"
      ]
     },
     "execution_count": 12,
     "metadata": {},
     "output_type": "execute_result"
    },
    {
     "data": {
      "image/png": "[encoded data removed]",
      "text/plain": [
       "<Figure size 864x432 with 1 Axes>"
      ]
     },
     "metadata": {
      "needs_background": "light"
     },
     "output_type": "display_data"
    }
   ],
   "source": [
    "## Total number of nights per year\n",
    "\n",
    "total_expend_perYear = df.groupby(\"Year\").agg({\"Amount_Spent\":pd.Series.sum})\n",
    "total_expend_perYear\n",
    "\n",
    "year = {'2009' : total_expend_perYear['Amount_Spent'].iat[0] , '2010':total_expend_perYear['Amount_Spent'].iat[1] ,\n",
    "        '2011':total_expend_perYear['Amount_Spent'].iat[2] ,'2012':total_expend_perYear['Amount_Spent'].iat[3] , \n",
    "        '2013':total_expend_perYear['Amount_Spent'].iat[4] ,'2014' : total_expend_perYear['Amount_Spent'].iat[5] ,\n",
    "        '2015':total_expend_perYear['Amount_Spent'].iat[6] , '2016':total_expend_perYear['Amount_Spent'].iat[7] , \n",
    "        '2017':total_expend_perYear['Amount_Spent'].iat[8]\n",
    "       ,'2018' : total_expend_perYear['Amount_Spent'].iat[9] , '2019':total_expend_perYear['Amount_Spent'].iat[10] ,\n",
    "        '2020':total_expend_perYear['Amount_Spent'].iat[11] ,'2021':total_expend_perYear['Amount_Spent'].iat[12]}\n",
    "\n",
    "fig, ax = plt.subplots(figsize=(12,6))\n",
    "plt.bar(year.keys() , year.values())\n",
    "plt.xlabel('Years')\n",
    "plt.ylabel('Value')\n",
    "plt.title('TOTAL AMOUNT SPENT PER YEAR')"
   ]
  },
  {
   "cell_type": "code",
   "execution_count": 13,
   "metadata": {},
   "outputs": [],
   "source": [
    "#total_expend_perYear\n",
    "\n",
    "#total_visits_perYear\n",
    "\n",
    "#total_nights_perYear"
   ]
  },
  {
   "cell_type": "code",
   "execution_count": 14,
   "metadata": {},
   "outputs": [
    {
     "name": "stdout",
     "output_type": "stream",
     "text": [
      "Independent        264256\n",
      "Non-Independent     52422\n",
      "Name: Holiday_Package, dtype: int64\n"
     ]
    }
   ],
   "source": [
    "print(df['Holiday_Package'].value_counts())"
   ]
  },
  {
   "cell_type": "code",
   "execution_count": 15,
   "metadata": {},
   "outputs": [
    {
     "name": "stdout",
     "output_type": "stream",
     "text": [
      "Overseas residents    158681\n",
      "UK residents          157997\n",
      "Name: where_contact_lives, dtype: int64\n"
     ]
    },
    {
     "data": {
      "text/plain": [
       "<AxesSubplot:xlabel='where_contact_lives', ylabel='count'>"
      ]
     },
     "execution_count": 15,
     "metadata": {},
     "output_type": "execute_result"
    },
    {
     "data": {
      "image/png": "[encoded data removed]",
      "text/plain": [
       "<Figure size 720x432 with 1 Axes>"
      ]
     },
     "metadata": {
      "needs_background": "light"
     },
     "output_type": "display_data"
    }
   ],
   "source": [
    "#Drawing a chart for column where contact lives\n",
    "\n",
    "print(df['where_contact_lives'].value_counts())\n",
    "plt.figure(figsize = (10,6))\n",
    "sns.countplot(x = \"where_contact_lives\", data = df)"
   ]
  },
  {
   "cell_type": "code",
   "execution_count": 16,
   "metadata": {},
   "outputs": [
    {
     "data": {
      "text/plain": [
       "<AxesSubplot:xlabel='purpose', ylabel='count'>"
      ]
     },
     "execution_count": 16,
     "metadata": {},
     "output_type": "execute_result"
    },
    {
     "data": {
      "image/png": "[encoded data removed]",
      "text/plain": [
       "<Figure size 720x432 with 1 Axes>"
      ]
     },
     "metadata": {
      "needs_background": "light"
     },
     "output_type": "display_data"
    }
   ],
   "source": [
    "#Drawing a chart for column purpose\n",
    "\n",
    "plt.figure(figsize = (10,6))\n",
    "sns.countplot(x = \"purpose\", data = df)"
   ]
  },
  {
   "cell_type": "markdown",
   "metadata": {},
   "source": [
    "# Section A\n",
    "###  In this section a bar chart is drawn for the affected columns"
   ]
  },
  {
   "cell_type": "markdown",
   "metadata": {},
   "source": [
    "## Passengers by Residentials"
   ]
  },
  {
   "cell_type": "code",
   "execution_count": 17,
   "metadata": {},
   "outputs": [
    {
     "data": {
      "text/plain": [
       "<AxesSubplot:xlabel='where_contact_lives', ylabel='count'>"
      ]
     },
     "execution_count": 17,
     "metadata": {},
     "output_type": "execute_result"
    },
    {
     "data": {
      "image/png": "[encoded data removed]",
      "text/plain": [
       "<Figure size 720x432 with 1 Axes>"
      ]
     },
     "metadata": {
      "needs_background": "light"
     },
     "output_type": "display_data"
    }
   ],
   "source": [
    "plt.figure(figsize = (10,6))\n",
    "sns.countplot(x = \"where_contact_lives\", data = df)"
   ]
  },
  {
   "cell_type": "markdown",
   "metadata": {},
   "source": [
    "## Gender Travelling"
   ]
  },
  {
   "cell_type": "code",
   "execution_count": 18,
   "metadata": {},
   "outputs": [
    {
     "data": {
      "text/plain": [
       "<AxesSubplot:xlabel='Sex', ylabel='count'>"
      ]
     },
     "execution_count": 18,
     "metadata": {},
     "output_type": "execute_result"
    },
    {
     "data": {
      "image/png": "[encoded data removed]",
      "text/plain": [
       "<Figure size 720x432 with 1 Axes>"
      ]
     },
     "metadata": {
      "needs_background": "light"
     },
     "output_type": "display_data"
    }
   ],
   "source": [
    "plt.figure(figsize = (10,6))\n",
    "sns.countplot(x = \"Sex\", data = df)"
   ]
  },
  {
   "cell_type": "markdown",
   "metadata": {},
   "source": [
    "## Package"
   ]
  },
  {
   "cell_type": "code",
   "execution_count": 19,
   "metadata": {},
   "outputs": [
    {
     "data": {
      "text/plain": [
       "<AxesSubplot:xlabel='Holiday_Package', ylabel='count'>"
      ]
     },
     "execution_count": 19,
     "metadata": {},
     "output_type": "execute_result"
    },
    {
     "data": {
      "image/png": "[encoded data removed]",
      "text/plain": [
       "<Figure size 720x432 with 1 Axes>"
      ]
     },
     "metadata": {
      "needs_background": "light"
     },
     "output_type": "display_data"
    }
   ],
   "source": [
    "plt.figure(figsize = (10,6))\n",
    "sns.countplot(x = \"Holiday_Package\", data = df)"
   ]
  },
  {
   "cell_type": "markdown",
   "metadata": {},
   "source": [
    "## Most Travelled Mode Of Transportation"
   ]
  },
  {
   "cell_type": "code",
   "execution_count": 20,
   "metadata": {},
   "outputs": [
    {
     "data": {
      "text/plain": [
       "<AxesSubplot:xlabel='mode', ylabel='count'>"
      ]
     },
     "execution_count": 20,
     "metadata": {},
     "output_type": "execute_result"
    },
    {
     "data": {
      "image/png": "[encoded data removed]",
      "text/plain": [
       "<Figure size 720x432 with 1 Axes>"
      ]
     },
     "metadata": {
      "needs_background": "light"
     },
     "output_type": "display_data"
    }
   ],
   "source": [
    "plt.figure(figsize = (10,6))\n",
    "sns.countplot(x = \"mode\", data = df)"
   ]
  },
  {
   "cell_type": "markdown",
   "metadata": {},
   "source": [
    "#  Section B\n",
    "## Classifying the dataset into UK and Overseas travellers, this is done to narrow down the results."
   ]
  },
  {
   "cell_type": "code",
   "execution_count": 21,
   "metadata": {},
   "outputs": [],
   "source": [
    "#Getting UK and Overseas resident and assigning to a variable\n",
    "\n",
    "dfUK = df[df['where_contact_lives'] == 'UK residents']\n",
    "dfOverseas = df[df['where_contact_lives'] == 'Overseas residents']"
   ]
  },
  {
   "cell_type": "code",
   "execution_count": 22,
   "metadata": {},
   "outputs": [
    {
     "data": {
      "text/html": [
       "<div>\n",
       "<style scoped>\n",
       "    .dataframe tbody tr th:only-of-type {\n",
       "        vertical-align: middle;\n",
       "    }\n",
       "\n",
       "    .dataframe tbody tr th {\n",
       "        vertical-align: top;\n",
       "    }\n",
       "\n",
       "    .dataframe thead th {\n",
       "        text-align: right;\n",
       "    }\n",
       "</style>\n",
       "<table border=\"1\" class=\"dataframe\">\n",
       "  <thead>\n",
       "    <tr style=\"text-align: right;\">\n",
       "      <th></th>\n",
       "      <th>Age</th>\n",
       "      <th>Duration_of_Visit</th>\n",
       "      <th>Holiday_Package</th>\n",
       "      <th>Sex</th>\n",
       "      <th>Year</th>\n",
       "      <th>country</th>\n",
       "      <th>mode</th>\n",
       "      <th>purpose</th>\n",
       "      <th>quarter</th>\n",
       "      <th>where_contact_lives</th>\n",
       "      <th>visits</th>\n",
       "      <th>nights</th>\n",
       "      <th>Amount_Spent</th>\n",
       "    </tr>\n",
       "  </thead>\n",
       "  <tbody>\n",
       "    <tr>\n",
       "      <th>3597</th>\n",
       "      <td>16-24</td>\n",
       "      <td>4-13 nights</td>\n",
       "      <td>Independent</td>\n",
       "      <td>Male</td>\n",
       "      <td>2009</td>\n",
       "      <td>Austria</td>\n",
       "      <td>Air</td>\n",
       "      <td>Holiday</td>\n",
       "      <td>Jan-Mar</td>\n",
       "      <td>Overseas residents</td>\n",
       "      <td>2974.184830</td>\n",
       "      <td>23553.527395</td>\n",
       "      <td>2.099652e+06</td>\n",
       "    </tr>\n",
       "    <tr>\n",
       "      <th>3598</th>\n",
       "      <td>16-24</td>\n",
       "      <td>4-13 nights</td>\n",
       "      <td>Independent</td>\n",
       "      <td>Female</td>\n",
       "      <td>2009</td>\n",
       "      <td>Austria</td>\n",
       "      <td>Air</td>\n",
       "      <td>Holiday</td>\n",
       "      <td>Jan-Mar</td>\n",
       "      <td>Overseas residents</td>\n",
       "      <td>1565.517351</td>\n",
       "      <td>9393.104106</td>\n",
       "      <td>1.075510e+06</td>\n",
       "    </tr>\n",
       "    <tr>\n",
       "      <th>3599</th>\n",
       "      <td>25-34</td>\n",
       "      <td>4-13 nights</td>\n",
       "      <td>Independent</td>\n",
       "      <td>Male</td>\n",
       "      <td>2009</td>\n",
       "      <td>Austria</td>\n",
       "      <td>Air</td>\n",
       "      <td>Holiday</td>\n",
       "      <td>Jan-Mar</td>\n",
       "      <td>Overseas residents</td>\n",
       "      <td>1781.792226</td>\n",
       "      <td>8074.197818</td>\n",
       "      <td>7.790123e+05</td>\n",
       "    </tr>\n",
       "    <tr>\n",
       "      <th>3600</th>\n",
       "      <td>25-34</td>\n",
       "      <td>1-3 nights</td>\n",
       "      <td>Independent</td>\n",
       "      <td>Female</td>\n",
       "      <td>2009</td>\n",
       "      <td>Austria</td>\n",
       "      <td>Air</td>\n",
       "      <td>Holiday</td>\n",
       "      <td>Jan-Mar</td>\n",
       "      <td>Overseas residents</td>\n",
       "      <td>2472.090242</td>\n",
       "      <td>6894.431610</td>\n",
       "      <td>6.896880e+05</td>\n",
       "    </tr>\n",
       "    <tr>\n",
       "      <th>3601</th>\n",
       "      <td>25-34</td>\n",
       "      <td>4-13 nights</td>\n",
       "      <td>Independent</td>\n",
       "      <td>Female</td>\n",
       "      <td>2009</td>\n",
       "      <td>Austria</td>\n",
       "      <td>Air</td>\n",
       "      <td>Holiday</td>\n",
       "      <td>Jan-Mar</td>\n",
       "      <td>Overseas residents</td>\n",
       "      <td>497.360247</td>\n",
       "      <td>1989.440988</td>\n",
       "      <td>5.719643e+04</td>\n",
       "    </tr>\n",
       "  </tbody>\n",
       "</table>\n",
       "</div>"
      ],
      "text/plain": [
       "        Age Duration_of_Visit Holiday_Package     Sex  Year  country mode  \\\n",
       "3597  16-24       4-13 nights     Independent    Male  2009  Austria  Air   \n",
       "3598  16-24       4-13 nights     Independent  Female  2009  Austria  Air   \n",
       "3599  25-34       4-13 nights     Independent    Male  2009  Austria  Air   \n",
       "3600  25-34        1-3 nights     Independent  Female  2009  Austria  Air   \n",
       "3601  25-34       4-13 nights     Independent  Female  2009  Austria  Air   \n",
       "\n",
       "      purpose  quarter where_contact_lives       visits        nights  \\\n",
       "3597  Holiday  Jan-Mar  Overseas residents  2974.184830  23553.527395   \n",
       "3598  Holiday  Jan-Mar  Overseas residents  1565.517351   9393.104106   \n",
       "3599  Holiday  Jan-Mar  Overseas residents  1781.792226   8074.197818   \n",
       "3600  Holiday  Jan-Mar  Overseas residents  2472.090242   6894.431610   \n",
       "3601  Holiday  Jan-Mar  Overseas residents   497.360247   1989.440988   \n",
       "\n",
       "      Amount_Spent  \n",
       "3597  2.099652e+06  \n",
       "3598  1.075510e+06  \n",
       "3599  7.790123e+05  \n",
       "3600  6.896880e+05  \n",
       "3601  5.719643e+04  "
      ]
     },
     "execution_count": 22,
     "metadata": {},
     "output_type": "execute_result"
    }
   ],
   "source": [
    "dfOverseas.head()"
   ]
  },
  {
   "cell_type": "code",
   "execution_count": 23,
   "metadata": {},
   "outputs": [],
   "source": [
    "#Saving both results into a variable\n",
    "\n",
    "dfUK.to_csv(r'Uk Residents.csv', index=False, header=True)\n",
    "dfOverseas.to_csv(r'Overseas_Residents.csv', index=False, header=True)"
   ]
  },
  {
   "cell_type": "code",
   "execution_count": 24,
   "metadata": {},
   "outputs": [
    {
     "data": {
      "text/plain": [
       "(157997, 13)"
      ]
     },
     "execution_count": 24,
     "metadata": {},
     "output_type": "execute_result"
    }
   ],
   "source": [
    "#Previewing the UK travellers \n",
    "\n",
    "dfUK.shape"
   ]
  },
  {
   "cell_type": "code",
   "execution_count": 25,
   "metadata": {},
   "outputs": [
    {
     "data": {
      "text/plain": [
       "(158681, 13)"
      ]
     },
     "execution_count": 25,
     "metadata": {},
     "output_type": "execute_result"
    }
   ],
   "source": [
    "dfOverseas.shape"
   ]
  },
  {
   "cell_type": "code",
   "execution_count": 26,
   "metadata": {},
   "outputs": [
    {
     "data": {
      "text/html": [
       "<div>\n",
       "<style scoped>\n",
       "    .dataframe tbody tr th:only-of-type {\n",
       "        vertical-align: middle;\n",
       "    }\n",
       "\n",
       "    .dataframe tbody tr th {\n",
       "        vertical-align: top;\n",
       "    }\n",
       "\n",
       "    .dataframe thead th {\n",
       "        text-align: right;\n",
       "    }\n",
       "</style>\n",
       "<table border=\"1\" class=\"dataframe\">\n",
       "  <thead>\n",
       "    <tr style=\"text-align: right;\">\n",
       "      <th></th>\n",
       "      <th>Age</th>\n",
       "      <th>Duration_of_Visit</th>\n",
       "      <th>Holiday_Package</th>\n",
       "      <th>Sex</th>\n",
       "      <th>Year</th>\n",
       "      <th>country</th>\n",
       "      <th>mode</th>\n",
       "      <th>purpose</th>\n",
       "      <th>quarter</th>\n",
       "      <th>where_contact_lives</th>\n",
       "      <th>visits</th>\n",
       "      <th>nights</th>\n",
       "      <th>Amount_Spent</th>\n",
       "    </tr>\n",
       "  </thead>\n",
       "  <tbody>\n",
       "    <tr>\n",
       "      <th>3597</th>\n",
       "      <td>16-24</td>\n",
       "      <td>4-13 nights</td>\n",
       "      <td>Independent</td>\n",
       "      <td>Male</td>\n",
       "      <td>2009</td>\n",
       "      <td>Austria</td>\n",
       "      <td>Air</td>\n",
       "      <td>Holiday</td>\n",
       "      <td>Jan-Mar</td>\n",
       "      <td>Overseas residents</td>\n",
       "      <td>2974.184830</td>\n",
       "      <td>23553.527395</td>\n",
       "      <td>2.099652e+06</td>\n",
       "    </tr>\n",
       "    <tr>\n",
       "      <th>3598</th>\n",
       "      <td>16-24</td>\n",
       "      <td>4-13 nights</td>\n",
       "      <td>Independent</td>\n",
       "      <td>Female</td>\n",
       "      <td>2009</td>\n",
       "      <td>Austria</td>\n",
       "      <td>Air</td>\n",
       "      <td>Holiday</td>\n",
       "      <td>Jan-Mar</td>\n",
       "      <td>Overseas residents</td>\n",
       "      <td>1565.517351</td>\n",
       "      <td>9393.104106</td>\n",
       "      <td>1.075510e+06</td>\n",
       "    </tr>\n",
       "    <tr>\n",
       "      <th>3599</th>\n",
       "      <td>25-34</td>\n",
       "      <td>4-13 nights</td>\n",
       "      <td>Independent</td>\n",
       "      <td>Male</td>\n",
       "      <td>2009</td>\n",
       "      <td>Austria</td>\n",
       "      <td>Air</td>\n",
       "      <td>Holiday</td>\n",
       "      <td>Jan-Mar</td>\n",
       "      <td>Overseas residents</td>\n",
       "      <td>1781.792226</td>\n",
       "      <td>8074.197818</td>\n",
       "      <td>7.790123e+05</td>\n",
       "    </tr>\n",
       "    <tr>\n",
       "      <th>3600</th>\n",
       "      <td>25-34</td>\n",
       "      <td>1-3 nights</td>\n",
       "      <td>Independent</td>\n",
       "      <td>Female</td>\n",
       "      <td>2009</td>\n",
       "      <td>Austria</td>\n",
       "      <td>Air</td>\n",
       "      <td>Holiday</td>\n",
       "      <td>Jan-Mar</td>\n",
       "      <td>Overseas residents</td>\n",
       "      <td>2472.090242</td>\n",
       "      <td>6894.431610</td>\n",
       "      <td>6.896880e+05</td>\n",
       "    </tr>\n",
       "    <tr>\n",
       "      <th>3601</th>\n",
       "      <td>25-34</td>\n",
       "      <td>4-13 nights</td>\n",
       "      <td>Independent</td>\n",
       "      <td>Female</td>\n",
       "      <td>2009</td>\n",
       "      <td>Austria</td>\n",
       "      <td>Air</td>\n",
       "      <td>Holiday</td>\n",
       "      <td>Jan-Mar</td>\n",
       "      <td>Overseas residents</td>\n",
       "      <td>497.360247</td>\n",
       "      <td>1989.440988</td>\n",
       "      <td>5.719643e+04</td>\n",
       "    </tr>\n",
       "  </tbody>\n",
       "</table>\n",
       "</div>"
      ],
      "text/plain": [
       "        Age Duration_of_Visit Holiday_Package     Sex  Year  country mode  \\\n",
       "3597  16-24       4-13 nights     Independent    Male  2009  Austria  Air   \n",
       "3598  16-24       4-13 nights     Independent  Female  2009  Austria  Air   \n",
       "3599  25-34       4-13 nights     Independent    Male  2009  Austria  Air   \n",
       "3600  25-34        1-3 nights     Independent  Female  2009  Austria  Air   \n",
       "3601  25-34       4-13 nights     Independent  Female  2009  Austria  Air   \n",
       "\n",
       "      purpose  quarter where_contact_lives       visits        nights  \\\n",
       "3597  Holiday  Jan-Mar  Overseas residents  2974.184830  23553.527395   \n",
       "3598  Holiday  Jan-Mar  Overseas residents  1565.517351   9393.104106   \n",
       "3599  Holiday  Jan-Mar  Overseas residents  1781.792226   8074.197818   \n",
       "3600  Holiday  Jan-Mar  Overseas residents  2472.090242   6894.431610   \n",
       "3601  Holiday  Jan-Mar  Overseas residents   497.360247   1989.440988   \n",
       "\n",
       "      Amount_Spent  \n",
       "3597  2.099652e+06  \n",
       "3598  1.075510e+06  \n",
       "3599  7.790123e+05  \n",
       "3600  6.896880e+05  \n",
       "3601  5.719643e+04  "
      ]
     },
     "execution_count": 26,
     "metadata": {},
     "output_type": "execute_result"
    }
   ],
   "source": [
    "#Previewing the Overseas travellers \n",
    "\n",
    "dfOverseas.head()"
   ]
  },
  {
   "cell_type": "code",
   "execution_count": 27,
   "metadata": {},
   "outputs": [
    {
     "data": {
      "text/plain": [
       "(158681, 13)"
      ]
     },
     "execution_count": 27,
     "metadata": {},
     "output_type": "execute_result"
    }
   ],
   "source": [
    "dfOverseas.shape"
   ]
  },
  {
   "cell_type": "markdown",
   "metadata": {},
   "source": [
    "#  Section C\n",
    "## Categorizing results base on uK and Overseas travellers"
   ]
  },
  {
   "cell_type": "markdown",
   "metadata": {},
   "source": [
    "## Night Spent by UK Traveler"
   ]
  },
  {
   "cell_type": "code",
   "execution_count": 28,
   "metadata": {},
   "outputs": [],
   "source": [
    "dfUK = df[df['where_contact_lives'] == 'UK residents']"
   ]
  },
  {
   "cell_type": "code",
   "execution_count": 29,
   "metadata": {},
   "outputs": [
    {
     "data": {
      "text/plain": [
       "<AxesSubplot:xlabel='Duration_of_Visit', ylabel='count'>"
      ]
     },
     "execution_count": 29,
     "metadata": {},
     "output_type": "execute_result"
    },
    {
     "data": {
      "image/png": "[encoded data removed]",
      "text/plain": [
       "<Figure size 1080x432 with 1 Axes>"
      ]
     },
     "metadata": {
      "needs_background": "light"
     },
     "output_type": "display_data"
    }
   ],
   "source": [
    "plt.figure(figsize = (15,6))\n",
    "sns.countplot(x = \"Duration_of_Visit\", data = dfUK)"
   ]
  },
  {
   "cell_type": "markdown",
   "metadata": {},
   "source": [
    "## Night spent by Overseas travelers"
   ]
  },
  {
   "cell_type": "code",
   "execution_count": 30,
   "metadata": {},
   "outputs": [
    {
     "data": {
      "text/plain": [
       "<AxesSubplot:xlabel='Duration_of_Visit', ylabel='count'>"
      ]
     },
     "execution_count": 30,
     "metadata": {},
     "output_type": "execute_result"
    },
    {
     "data": {
      "image/png": "[encoded data removed]",
      "text/plain": [
       "<Figure size 1080x432 with 1 Axes>"
      ]
     },
     "metadata": {
      "needs_background": "light"
     },
     "output_type": "display_data"
    }
   ],
   "source": [
    "plt.figure(figsize = (15,6))\n",
    "sns.countplot(x = \"Duration_of_Visit\", data = dfOverseas)"
   ]
  },
  {
   "cell_type": "code",
   "execution_count": 31,
   "metadata": {},
   "outputs": [
    {
     "name": "stdout",
     "output_type": "stream",
     "text": [
      "4-13 nights      132671\n",
      "1-3 nights        96231\n",
      "14-27 nights      59180\n",
      "28-90 nights      25396\n",
      "3-6 months         2905\n",
      "6 months-year       295\n",
      "Name: Duration_of_Visit, dtype: int64\n"
     ]
    }
   ],
   "source": [
    "print(df['Duration_of_Visit'].value_counts())"
   ]
  },
  {
   "cell_type": "markdown",
   "metadata": {},
   "source": [
    "The above results shows that most travellers spend night between 4 - 13. \n",
    "This travellers would be selected to identify the similarities amont them"
   ]
  },
  {
   "cell_type": "markdown",
   "metadata": {},
   "source": [
    "## Deriving information from oversea travellers who spend 4 - 13 nights "
   ]
  },
  {
   "cell_type": "code",
   "execution_count": 32,
   "metadata": {},
   "outputs": [],
   "source": [
    "#Getting overseas and Uk travellers who spend night between 4 - 13 nights. \n",
    "\n",
    "dfUK4to13 = dfUK[dfUK['Duration_of_Visit'] == '4-13 nights']\n",
    "\n",
    "\n",
    "dfOverseas4to13 = dfOverseas[dfOverseas['Duration_of_Visit'] == '4-13 nights']"
   ]
  },
  {
   "cell_type": "code",
   "execution_count": 33,
   "metadata": {},
   "outputs": [
    {
     "name": "stdout",
     "output_type": "stream",
     "text": [
      "France             4475\n",
      "Germany            3974\n",
      "Netherlands        3365\n",
      "USA                2923\n",
      "Irish Republic     2404\n",
      "                   ... \n",
      "Tunisia              65\n",
      "Cyprus Non EU        49\n",
      "Barbados             48\n",
      "Other countries      34\n",
      "Jamaica              31\n",
      "Name: country, Length: 61, dtype: int64\n"
     ]
    }
   ],
   "source": [
    "# Countries of travellers who spend 4 - 13 night\n",
    "\n",
    "print(dfOverseas4to13['country'].value_counts())"
   ]
  },
  {
   "cell_type": "code",
   "execution_count": 34,
   "metadata": {},
   "outputs": [
    {
     "data": {
      "text/plain": [
       "<AxesSubplot:xlabel='purpose', ylabel='count'>"
      ]
     },
     "execution_count": 34,
     "metadata": {},
     "output_type": "execute_result"
    },
    {
     "data": {
      "image/png": "[encoded data removed]",
      "text/plain": [
       "<Figure size 1080x432 with 1 Axes>"
      ]
     },
     "metadata": {
      "needs_background": "light"
     },
     "output_type": "display_data"
    }
   ],
   "source": [
    "# Displaying the purpose of UK Passengers who spend night between 4 to 13\n",
    "\n",
    "plt.figure(figsize = (15,6))\n",
    "sns.countplot(x = \"purpose\", data = dfUK4to13)"
   ]
  },
  {
   "cell_type": "code",
   "execution_count": 35,
   "metadata": {},
   "outputs": [
    {
     "data": {
      "text/plain": [
       "<AxesSubplot:xlabel='Age', ylabel='count'>"
      ]
     },
     "execution_count": 35,
     "metadata": {},
     "output_type": "execute_result"
    },
    {
     "data": {
      "image/png": "[encoded data removed]",
      "text/plain": [
       "<Figure size 1080x432 with 1 Axes>"
      ]
     },
     "metadata": {
      "needs_background": "light"
     },
     "output_type": "display_data"
    }
   ],
   "source": [
    "# Displaying the age of travellers who spend night between 4 to 13\n",
    "\n",
    "plt.figure(figsize = (15,6))\n",
    "sns.countplot(x = \"Age\", data = dfOverseas4to13)"
   ]
  },
  {
   "cell_type": "markdown",
   "metadata": {},
   "source": [
    "## Deriving information from UK travellers who spend 4 - 13 nights "
   ]
  },
  {
   "cell_type": "code",
   "execution_count": 36,
   "metadata": {},
   "outputs": [
    {
     "data": {
      "text/html": [
       "<div>\n",
       "<style scoped>\n",
       "    .dataframe tbody tr th:only-of-type {\n",
       "        vertical-align: middle;\n",
       "    }\n",
       "\n",
       "    .dataframe tbody tr th {\n",
       "        vertical-align: top;\n",
       "    }\n",
       "\n",
       "    .dataframe thead th {\n",
       "        text-align: right;\n",
       "    }\n",
       "</style>\n",
       "<table border=\"1\" class=\"dataframe\">\n",
       "  <thead>\n",
       "    <tr style=\"text-align: right;\">\n",
       "      <th></th>\n",
       "      <th>Age</th>\n",
       "      <th>Duration_of_Visit</th>\n",
       "      <th>Holiday_Package</th>\n",
       "      <th>Sex</th>\n",
       "      <th>Year</th>\n",
       "      <th>country</th>\n",
       "      <th>mode</th>\n",
       "      <th>purpose</th>\n",
       "      <th>quarter</th>\n",
       "      <th>where_contact_lives</th>\n",
       "      <th>visits</th>\n",
       "      <th>nights</th>\n",
       "      <th>Amount_Spent</th>\n",
       "    </tr>\n",
       "  </thead>\n",
       "  <tbody>\n",
       "    <tr>\n",
       "      <th>0</th>\n",
       "      <td>0-15</td>\n",
       "      <td>4-13 nights</td>\n",
       "      <td>Independent</td>\n",
       "      <td>Male</td>\n",
       "      <td>2009</td>\n",
       "      <td>Austria</td>\n",
       "      <td>Air</td>\n",
       "      <td>Holiday</td>\n",
       "      <td>Jan-Mar</td>\n",
       "      <td>UK residents</td>\n",
       "      <td>1600.680374</td>\n",
       "      <td>11204.762616</td>\n",
       "      <td>1.103402e+06</td>\n",
       "    </tr>\n",
       "    <tr>\n",
       "      <th>1</th>\n",
       "      <td>0-15</td>\n",
       "      <td>4-13 nights</td>\n",
       "      <td>Independent</td>\n",
       "      <td>Female</td>\n",
       "      <td>2009</td>\n",
       "      <td>Austria</td>\n",
       "      <td>Air</td>\n",
       "      <td>Holiday</td>\n",
       "      <td>Jan-Mar</td>\n",
       "      <td>UK residents</td>\n",
       "      <td>1600.680374</td>\n",
       "      <td>11204.762616</td>\n",
       "      <td>1.125278e+06</td>\n",
       "    </tr>\n",
       "    <tr>\n",
       "      <th>2</th>\n",
       "      <td>16-24</td>\n",
       "      <td>4-13 nights</td>\n",
       "      <td>Independent</td>\n",
       "      <td>Male</td>\n",
       "      <td>2009</td>\n",
       "      <td>Austria</td>\n",
       "      <td>Air</td>\n",
       "      <td>Holiday</td>\n",
       "      <td>Jan-Mar</td>\n",
       "      <td>UK residents</td>\n",
       "      <td>3064.743058</td>\n",
       "      <td>20873.377956</td>\n",
       "      <td>1.622982e+06</td>\n",
       "    </tr>\n",
       "    <tr>\n",
       "      <th>3</th>\n",
       "      <td>16-24</td>\n",
       "      <td>4-13 nights</td>\n",
       "      <td>Independent</td>\n",
       "      <td>Female</td>\n",
       "      <td>2009</td>\n",
       "      <td>Austria</td>\n",
       "      <td>Air</td>\n",
       "      <td>Holiday</td>\n",
       "      <td>Jan-Mar</td>\n",
       "      <td>UK residents</td>\n",
       "      <td>2702.755561</td>\n",
       "      <td>12411.702616</td>\n",
       "      <td>1.164191e+06</td>\n",
       "    </tr>\n",
       "    <tr>\n",
       "      <th>6</th>\n",
       "      <td>25-34</td>\n",
       "      <td>4-13 nights</td>\n",
       "      <td>Independent</td>\n",
       "      <td>Male</td>\n",
       "      <td>2009</td>\n",
       "      <td>Austria</td>\n",
       "      <td>Air</td>\n",
       "      <td>Holiday</td>\n",
       "      <td>Jan-Mar</td>\n",
       "      <td>UK residents</td>\n",
       "      <td>8300.179607</td>\n",
       "      <td>56335.976195</td>\n",
       "      <td>4.913306e+06</td>\n",
       "    </tr>\n",
       "  </tbody>\n",
       "</table>\n",
       "</div>"
      ],
      "text/plain": [
       "     Age Duration_of_Visit Holiday_Package     Sex  Year  country mode  \\\n",
       "0   0-15       4-13 nights     Independent    Male  2009  Austria  Air   \n",
       "1   0-15       4-13 nights     Independent  Female  2009  Austria  Air   \n",
       "2  16-24       4-13 nights     Independent    Male  2009  Austria  Air   \n",
       "3  16-24       4-13 nights     Independent  Female  2009  Austria  Air   \n",
       "6  25-34       4-13 nights     Independent    Male  2009  Austria  Air   \n",
       "\n",
       "   purpose  quarter where_contact_lives       visits        nights  \\\n",
       "0  Holiday  Jan-Mar        UK residents  1600.680374  11204.762616   \n",
       "1  Holiday  Jan-Mar        UK residents  1600.680374  11204.762616   \n",
       "2  Holiday  Jan-Mar        UK residents  3064.743058  20873.377956   \n",
       "3  Holiday  Jan-Mar        UK residents  2702.755561  12411.702616   \n",
       "6  Holiday  Jan-Mar        UK residents  8300.179607  56335.976195   \n",
       "\n",
       "   Amount_Spent  \n",
       "0  1.103402e+06  \n",
       "1  1.125278e+06  \n",
       "2  1.622982e+06  \n",
       "3  1.164191e+06  \n",
       "6  4.913306e+06  "
      ]
     },
     "execution_count": 36,
     "metadata": {},
     "output_type": "execute_result"
    }
   ],
   "source": [
    "dfUK4to13 = dfUK[dfUK['Duration_of_Visit'] == '4-13 nights']\n",
    "dfUK4to13.head()"
   ]
  },
  {
   "cell_type": "code",
   "execution_count": 37,
   "metadata": {},
   "outputs": [
    {
     "data": {
      "text/plain": [
       "<AxesSubplot:xlabel='purpose', ylabel='count'>"
      ]
     },
     "execution_count": 37,
     "metadata": {},
     "output_type": "execute_result"
    },
    {
     "data": {
      "image/png": "[encoded data removed]",
      "text/plain": [
       "<Figure size 1080x432 with 1 Axes>"
      ]
     },
     "metadata": {
      "needs_background": "light"
     },
     "output_type": "display_data"
    }
   ],
   "source": [
    "# Identifying the purpose of travelling between of UK passenger who spen 4 - 13 nights\n",
    "\n",
    "plt.figure(figsize = (15,6))\n",
    "sns.countplot(x = \"purpose\", data = dfUK4to13)"
   ]
  },
  {
   "cell_type": "code",
   "execution_count": 38,
   "metadata": {},
   "outputs": [
    {
     "data": {
      "text/plain": [
       "<AxesSubplot:xlabel='purpose', ylabel='count'>"
      ]
     },
     "execution_count": 38,
     "metadata": {},
     "output_type": "execute_result"
    },
    {
     "data": {
      "image/png": "[encoded data removed]",
      "text/plain": [
       "<Figure size 1080x432 with 1 Axes>"
      ]
     },
     "metadata": {
      "needs_background": "light"
     },
     "output_type": "display_data"
    }
   ],
   "source": [
    "# Identifying the purpose of travelling between of Overseas passenger who wan to spend 4 - 13 nights\n",
    "\n",
    "plt.figure(figsize = (15,6))\n",
    "sns.countplot(x = \"purpose\", data = dfOverseas)"
   ]
  },
  {
   "cell_type": "code",
   "execution_count": 39,
   "metadata": {},
   "outputs": [
    {
     "data": {
      "text/plain": [
       "<AxesSubplot:xlabel='Age', ylabel='count'>"
      ]
     },
     "execution_count": 39,
     "metadata": {},
     "output_type": "execute_result"
    },
    {
     "data": {
      "image/png": "[encoded data removed]",
      "text/plain": [
       "<Figure size 1080x432 with 1 Axes>"
      ]
     },
     "metadata": {
      "needs_background": "light"
     },
     "output_type": "display_data"
    }
   ],
   "source": [
    "# Identifying the ages of travelling between of Overseas passenger who wan to spend 4 - 13 nights\n",
    "\n",
    "plt.figure(figsize = (15,6))\n",
    "sns.countplot(x = \"Age\", data = dfOverseas)"
   ]
  },
  {
   "cell_type": "code",
   "execution_count": 40,
   "metadata": {},
   "outputs": [
    {
     "data": {
      "text/html": [
       "<div>\n",
       "<style scoped>\n",
       "    .dataframe tbody tr th:only-of-type {\n",
       "        vertical-align: middle;\n",
       "    }\n",
       "\n",
       "    .dataframe tbody tr th {\n",
       "        vertical-align: top;\n",
       "    }\n",
       "\n",
       "    .dataframe thead th {\n",
       "        text-align: right;\n",
       "    }\n",
       "</style>\n",
       "<table border=\"1\" class=\"dataframe\">\n",
       "  <thead>\n",
       "    <tr style=\"text-align: right;\">\n",
       "      <th></th>\n",
       "      <th>Age</th>\n",
       "      <th>Duration_of_Visit</th>\n",
       "      <th>Holiday_Package</th>\n",
       "      <th>Sex</th>\n",
       "      <th>Year</th>\n",
       "      <th>country</th>\n",
       "      <th>mode</th>\n",
       "      <th>purpose</th>\n",
       "      <th>quarter</th>\n",
       "      <th>where_contact_lives</th>\n",
       "      <th>visits</th>\n",
       "      <th>nights</th>\n",
       "      <th>Amount_Spent</th>\n",
       "    </tr>\n",
       "  </thead>\n",
       "  <tbody>\n",
       "    <tr>\n",
       "      <th>3631</th>\n",
       "      <td>16-24</td>\n",
       "      <td>4-13 nights</td>\n",
       "      <td>Independent</td>\n",
       "      <td>Male</td>\n",
       "      <td>2009</td>\n",
       "      <td>Austria</td>\n",
       "      <td>Air</td>\n",
       "      <td>VFR</td>\n",
       "      <td>Jan-Mar</td>\n",
       "      <td>Overseas residents</td>\n",
       "      <td>905.283018</td>\n",
       "      <td>5186.649424</td>\n",
       "      <td>62360.417739</td>\n",
       "    </tr>\n",
       "    <tr>\n",
       "      <th>3632</th>\n",
       "      <td>16-24</td>\n",
       "      <td>4-13 nights</td>\n",
       "      <td>Independent</td>\n",
       "      <td>Female</td>\n",
       "      <td>2009</td>\n",
       "      <td>Austria</td>\n",
       "      <td>Air</td>\n",
       "      <td>VFR</td>\n",
       "      <td>Jan-Mar</td>\n",
       "      <td>Overseas residents</td>\n",
       "      <td>1724.539867</td>\n",
       "      <td>10426.514407</td>\n",
       "      <td>585729.079632</td>\n",
       "    </tr>\n",
       "    <tr>\n",
       "      <th>3634</th>\n",
       "      <td>25-34</td>\n",
       "      <td>4-13 nights</td>\n",
       "      <td>Independent</td>\n",
       "      <td>Male</td>\n",
       "      <td>2009</td>\n",
       "      <td>Austria</td>\n",
       "      <td>Air</td>\n",
       "      <td>VFR</td>\n",
       "      <td>Jan-Mar</td>\n",
       "      <td>Overseas residents</td>\n",
       "      <td>947.028914</td>\n",
       "      <td>6629.202397</td>\n",
       "      <td>677125.673418</td>\n",
       "    </tr>\n",
       "    <tr>\n",
       "      <th>3636</th>\n",
       "      <td>25-34</td>\n",
       "      <td>4-13 nights</td>\n",
       "      <td>Independent</td>\n",
       "      <td>Female</td>\n",
       "      <td>2009</td>\n",
       "      <td>Austria</td>\n",
       "      <td>Air</td>\n",
       "      <td>VFR</td>\n",
       "      <td>Jan-Mar</td>\n",
       "      <td>Overseas residents</td>\n",
       "      <td>1655.026722</td>\n",
       "      <td>9587.339955</td>\n",
       "      <td>309760.318356</td>\n",
       "    </tr>\n",
       "    <tr>\n",
       "      <th>3638</th>\n",
       "      <td>35-44</td>\n",
       "      <td>4-13 nights</td>\n",
       "      <td>Independent</td>\n",
       "      <td>Male</td>\n",
       "      <td>2009</td>\n",
       "      <td>Austria</td>\n",
       "      <td>Air</td>\n",
       "      <td>VFR</td>\n",
       "      <td>Jan-Mar</td>\n",
       "      <td>Overseas residents</td>\n",
       "      <td>566.729743</td>\n",
       "      <td>2266.918970</td>\n",
       "      <td>93510.407523</td>\n",
       "    </tr>\n",
       "  </tbody>\n",
       "</table>\n",
       "</div>"
      ],
      "text/plain": [
       "        Age Duration_of_Visit Holiday_Package     Sex  Year  country mode  \\\n",
       "3631  16-24       4-13 nights     Independent    Male  2009  Austria  Air   \n",
       "3632  16-24       4-13 nights     Independent  Female  2009  Austria  Air   \n",
       "3634  25-34       4-13 nights     Independent    Male  2009  Austria  Air   \n",
       "3636  25-34       4-13 nights     Independent  Female  2009  Austria  Air   \n",
       "3638  35-44       4-13 nights     Independent    Male  2009  Austria  Air   \n",
       "\n",
       "     purpose  quarter where_contact_lives       visits        nights  \\\n",
       "3631     VFR  Jan-Mar  Overseas residents   905.283018   5186.649424   \n",
       "3632     VFR  Jan-Mar  Overseas residents  1724.539867  10426.514407   \n",
       "3634     VFR  Jan-Mar  Overseas residents   947.028914   6629.202397   \n",
       "3636     VFR  Jan-Mar  Overseas residents  1655.026722   9587.339955   \n",
       "3638     VFR  Jan-Mar  Overseas residents   566.729743   2266.918970   \n",
       "\n",
       "       Amount_Spent  \n",
       "3631   62360.417739  \n",
       "3632  585729.079632  \n",
       "3634  677125.673418  \n",
       "3636  309760.318356  \n",
       "3638   93510.407523  "
      ]
     },
     "execution_count": 40,
     "metadata": {},
     "output_type": "execute_result"
    }
   ],
   "source": [
    "# Oversea passengers who went on visitaion\n",
    "dfOverseas4to13_VFR = dfOverseas4to13[dfOverseas4to13['purpose'] == 'VFR']\n",
    "dfOverseas4to13_VFR.head()"
   ]
  },
  {
   "cell_type": "code",
   "execution_count": 41,
   "metadata": {},
   "outputs": [
    {
     "data": {
      "text/plain": [
       "<AxesSubplot:xlabel='Age', ylabel='count'>"
      ]
     },
     "execution_count": 41,
     "metadata": {},
     "output_type": "execute_result"
    },
    {
     "data": {
      "image/png": "[encoded data removed]",
      "text/plain": [
       "<Figure size 1080x432 with 1 Axes>"
      ]
     },
     "metadata": {
      "needs_background": "light"
     },
     "output_type": "display_data"
    }
   ],
   "source": [
    "plt.figure(figsize = (15,6))\n",
    "sns.countplot(x = \"Age\", data = dfOverseas4to13_VFR)"
   ]
  },
  {
   "cell_type": "code",
   "execution_count": 42,
   "metadata": {},
   "outputs": [
    {
     "data": {
      "text/html": [
       "<div>\n",
       "<style scoped>\n",
       "    .dataframe tbody tr th:only-of-type {\n",
       "        vertical-align: middle;\n",
       "    }\n",
       "\n",
       "    .dataframe tbody tr th {\n",
       "        vertical-align: top;\n",
       "    }\n",
       "\n",
       "    .dataframe thead th {\n",
       "        text-align: right;\n",
       "    }\n",
       "</style>\n",
       "<table border=\"1\" class=\"dataframe\">\n",
       "  <thead>\n",
       "    <tr style=\"text-align: right;\">\n",
       "      <th></th>\n",
       "      <th>Age</th>\n",
       "      <th>Duration_of_Visit</th>\n",
       "      <th>Holiday_Package</th>\n",
       "      <th>Sex</th>\n",
       "      <th>Year</th>\n",
       "      <th>country</th>\n",
       "      <th>mode</th>\n",
       "      <th>purpose</th>\n",
       "      <th>quarter</th>\n",
       "      <th>where_contact_lives</th>\n",
       "      <th>visits</th>\n",
       "      <th>nights</th>\n",
       "      <th>Amount_Spent</th>\n",
       "    </tr>\n",
       "  </thead>\n",
       "  <tbody>\n",
       "    <tr>\n",
       "      <th>44</th>\n",
       "      <td>0-15</td>\n",
       "      <td>4-13 nights</td>\n",
       "      <td>Independent</td>\n",
       "      <td>Male</td>\n",
       "      <td>2009</td>\n",
       "      <td>Austria</td>\n",
       "      <td>Air</td>\n",
       "      <td>VFR</td>\n",
       "      <td>Jan-Mar</td>\n",
       "      <td>UK residents</td>\n",
       "      <td>525.351507</td>\n",
       "      <td>3677.460551</td>\n",
       "      <td>385082.654834</td>\n",
       "    </tr>\n",
       "    <tr>\n",
       "      <th>47</th>\n",
       "      <td>16-24</td>\n",
       "      <td>4-13 nights</td>\n",
       "      <td>Independent</td>\n",
       "      <td>Female</td>\n",
       "      <td>2009</td>\n",
       "      <td>Austria</td>\n",
       "      <td>Air</td>\n",
       "      <td>VFR</td>\n",
       "      <td>Jan-Mar</td>\n",
       "      <td>UK residents</td>\n",
       "      <td>525.351507</td>\n",
       "      <td>5253.515073</td>\n",
       "      <td>52535.150728</td>\n",
       "    </tr>\n",
       "    <tr>\n",
       "      <th>48</th>\n",
       "      <td>25-34</td>\n",
       "      <td>4-13 nights</td>\n",
       "      <td>Independent</td>\n",
       "      <td>Male</td>\n",
       "      <td>2009</td>\n",
       "      <td>Austria</td>\n",
       "      <td>Air</td>\n",
       "      <td>VFR</td>\n",
       "      <td>Jan-Mar</td>\n",
       "      <td>UK residents</td>\n",
       "      <td>665.512905</td>\n",
       "      <td>4658.590338</td>\n",
       "      <td>33275.645273</td>\n",
       "    </tr>\n",
       "    <tr>\n",
       "      <th>50</th>\n",
       "      <td>25-34</td>\n",
       "      <td>4-13 nights</td>\n",
       "      <td>Independent</td>\n",
       "      <td>Female</td>\n",
       "      <td>2009</td>\n",
       "      <td>Austria</td>\n",
       "      <td>Air</td>\n",
       "      <td>VFR</td>\n",
       "      <td>Jan-Mar</td>\n",
       "      <td>UK residents</td>\n",
       "      <td>1105.174955</td>\n",
       "      <td>5525.874774</td>\n",
       "      <td>64485.082697</td>\n",
       "    </tr>\n",
       "    <tr>\n",
       "      <th>51</th>\n",
       "      <td>35-44</td>\n",
       "      <td>4-13 nights</td>\n",
       "      <td>Independent</td>\n",
       "      <td>Male</td>\n",
       "      <td>2009</td>\n",
       "      <td>Austria</td>\n",
       "      <td>Air</td>\n",
       "      <td>VFR</td>\n",
       "      <td>Jan-Mar</td>\n",
       "      <td>UK residents</td>\n",
       "      <td>1067.120249</td>\n",
       "      <td>7469.841744</td>\n",
       "      <td>872904.363810</td>\n",
       "    </tr>\n",
       "  </tbody>\n",
       "</table>\n",
       "</div>"
      ],
      "text/plain": [
       "      Age Duration_of_Visit Holiday_Package     Sex  Year  country mode  \\\n",
       "44   0-15       4-13 nights     Independent    Male  2009  Austria  Air   \n",
       "47  16-24       4-13 nights     Independent  Female  2009  Austria  Air   \n",
       "48  25-34       4-13 nights     Independent    Male  2009  Austria  Air   \n",
       "50  25-34       4-13 nights     Independent  Female  2009  Austria  Air   \n",
       "51  35-44       4-13 nights     Independent    Male  2009  Austria  Air   \n",
       "\n",
       "   purpose  quarter where_contact_lives       visits       nights  \\\n",
       "44     VFR  Jan-Mar        UK residents   525.351507  3677.460551   \n",
       "47     VFR  Jan-Mar        UK residents   525.351507  5253.515073   \n",
       "48     VFR  Jan-Mar        UK residents   665.512905  4658.590338   \n",
       "50     VFR  Jan-Mar        UK residents  1105.174955  5525.874774   \n",
       "51     VFR  Jan-Mar        UK residents  1067.120249  7469.841744   \n",
       "\n",
       "     Amount_Spent  \n",
       "44  385082.654834  \n",
       "47   52535.150728  \n",
       "48   33275.645273  \n",
       "50   64485.082697  \n",
       "51  872904.363810  "
      ]
     },
     "execution_count": 42,
     "metadata": {},
     "output_type": "execute_result"
    }
   ],
   "source": [
    "# UK passengers who went on visitaion\n",
    "\n",
    "dfUK4to13_VFR = dfUK4to13[dfUK4to13['purpose'] == 'VFR']\n",
    "dfUK4to13_VFR.head()"
   ]
  },
  {
   "cell_type": "code",
   "execution_count": 43,
   "metadata": {},
   "outputs": [
    {
     "data": {
      "text/plain": [
       "<AxesSubplot:xlabel='Age', ylabel='count'>"
      ]
     },
     "execution_count": 43,
     "metadata": {},
     "output_type": "execute_result"
    },
    {
     "data": {
      "image/png": "[encoded data removed]",
      "text/plain": [
       "<Figure size 1080x432 with 1 Axes>"
      ]
     },
     "metadata": {
      "needs_background": "light"
     },
     "output_type": "display_data"
    }
   ],
   "source": [
    "plt.figure(figsize = (15,6))\n",
    "sns.countplot(x = \"Age\", data = dfUK4to13_VFR)\n"
   ]
  },
  {
   "cell_type": "code",
   "execution_count": 44,
   "metadata": {},
   "outputs": [
    {
     "data": {
      "text/plain": [
       "<AxesSubplot:xlabel='country', ylabel='count'>"
      ]
     },
     "execution_count": 44,
     "metadata": {},
     "output_type": "execute_result"
    },
    {
     "data": {
      "image/png": "[encoded data removed]",
      "text/plain": [
       "<Figure size 1800x432 with 1 Axes>"
      ]
     },
     "metadata": {
      "needs_background": "light"
     },
     "output_type": "display_data"
    }
   ],
   "source": [
    "## Total number of visits per year\n",
    "\n",
    "plt.figure(figsize = (25,6))\n",
    "sns.countplot(x = \"country\", data = df2009)"
   ]
  },
  {
   "cell_type": "code",
   "execution_count": 45,
   "metadata": {},
   "outputs": [],
   "source": [
    "pd.set_option(\"display.max_columns\", None)"
   ]
  },
  {
   "cell_type": "markdown",
   "metadata": {},
   "source": [
    "### Most Passenger travelled country"
   ]
  },
  {
   "cell_type": "code",
   "execution_count": 46,
   "metadata": {},
   "outputs": [
    {
     "name": "stdout",
     "output_type": "stream",
     "text": [
      "France         24388\n",
      "Germany        16791\n",
      "Netherlands    15841\n",
      "USA            13371\n",
      "Spain          12074\n",
      "Name: country, dtype: int64\n"
     ]
    }
   ],
   "source": [
    "print(df['country'].value_counts(sort=True).head())"
   ]
  },
  {
   "cell_type": "markdown",
   "metadata": {},
   "source": [
    "### Least passenger travelled country"
   ]
  },
  {
   "cell_type": "code",
   "execution_count": 47,
   "metadata": {},
   "outputs": [
    {
     "name": "stdout",
     "output_type": "stream",
     "text": [
      "Slovenia           935\n",
      "Other countries    822\n",
      "Barbados           760\n",
      "Estonia            730\n",
      "Cyprus Non EU      619\n",
      "Name: country, dtype: int64\n"
     ]
    }
   ],
   "source": [
    "print(df['country'].value_counts(sort=True).tail())"
   ]
  },
  {
   "cell_type": "markdown",
   "metadata": {},
   "source": [
    "# Getting total Visits "
   ]
  },
  {
   "cell_type": "code",
   "execution_count": 48,
   "metadata": {},
   "outputs": [
    {
     "name": "stdout",
     "output_type": "stream",
     "text": [
      "4-13 nights      132671\n",
      "1-3 nights        96231\n",
      "14-27 nights      59180\n",
      "28-90 nights      25396\n",
      "3-6 months         2905\n",
      "6 months-year       295\n",
      "Name: Duration_of_Visit, dtype: int64\n"
     ]
    }
   ],
   "source": [
    "print(df['Duration_of_Visit'].value_counts())"
   ]
  },
  {
   "cell_type": "code",
   "execution_count": 49,
   "metadata": {},
   "outputs": [],
   "source": [
    "df4 = df[df['Duration_of_Visit'] == '4-13 nights']"
   ]
  },
  {
   "cell_type": "code",
   "execution_count": 50,
   "metadata": {},
   "outputs": [
    {
     "name": "stdout",
     "output_type": "stream",
     "text": [
      "300184973.948105\n"
     ]
    }
   ],
   "source": [
    "df4Total = df4['visits'].sum()\n",
    "print(df4Total)"
   ]
  },
  {
   "cell_type": "code",
   "execution_count": 51,
   "metadata": {},
   "outputs": [
    {
     "data": {
      "text/html": [
       "<div>\n",
       "<style scoped>\n",
       "    .dataframe tbody tr th:only-of-type {\n",
       "        vertical-align: middle;\n",
       "    }\n",
       "\n",
       "    .dataframe tbody tr th {\n",
       "        vertical-align: top;\n",
       "    }\n",
       "\n",
       "    .dataframe thead th {\n",
       "        text-align: right;\n",
       "    }\n",
       "</style>\n",
       "<table border=\"1\" class=\"dataframe\">\n",
       "  <thead>\n",
       "    <tr style=\"text-align: right;\">\n",
       "      <th></th>\n",
       "      <th>visits</th>\n",
       "    </tr>\n",
       "    <tr>\n",
       "      <th>Year</th>\n",
       "      <th></th>\n",
       "    </tr>\n",
       "  </thead>\n",
       "  <tbody>\n",
       "    <tr>\n",
       "      <th>2009</th>\n",
       "      <td>5.377005e+07</td>\n",
       "    </tr>\n",
       "    <tr>\n",
       "      <th>2010</th>\n",
       "      <td>5.456793e+07</td>\n",
       "    </tr>\n",
       "    <tr>\n",
       "      <th>2011</th>\n",
       "      <td>5.570144e+07</td>\n",
       "    </tr>\n",
       "    <tr>\n",
       "      <th>2012</th>\n",
       "      <td>5.617218e+07</td>\n",
       "    </tr>\n",
       "    <tr>\n",
       "      <th>2013</th>\n",
       "      <td>5.728326e+07</td>\n",
       "    </tr>\n",
       "    <tr>\n",
       "      <th>2014</th>\n",
       "      <td>5.790274e+07</td>\n",
       "    </tr>\n",
       "    <tr>\n",
       "      <th>2015</th>\n",
       "      <td>6.150797e+07</td>\n",
       "    </tr>\n",
       "    <tr>\n",
       "      <th>2016</th>\n",
       "      <td>6.146612e+07</td>\n",
       "    </tr>\n",
       "    <tr>\n",
       "      <th>2017</th>\n",
       "      <td>6.033069e+07</td>\n",
       "    </tr>\n",
       "    <tr>\n",
       "      <th>2018</th>\n",
       "      <td>5.538666e+07</td>\n",
       "    </tr>\n",
       "    <tr>\n",
       "      <th>2019</th>\n",
       "      <td>5.437662e+07</td>\n",
       "    </tr>\n",
       "    <tr>\n",
       "      <th>2020</th>\n",
       "      <td>1.119304e+07</td>\n",
       "    </tr>\n",
       "    <tr>\n",
       "      <th>2021</th>\n",
       "      <td>1.564319e+07</td>\n",
       "    </tr>\n",
       "  </tbody>\n",
       "</table>\n",
       "</div>"
      ],
      "text/plain": [
       "            visits\n",
       "Year              \n",
       "2009  5.377005e+07\n",
       "2010  5.456793e+07\n",
       "2011  5.570144e+07\n",
       "2012  5.617218e+07\n",
       "2013  5.728326e+07\n",
       "2014  5.790274e+07\n",
       "2015  6.150797e+07\n",
       "2016  6.146612e+07\n",
       "2017  6.033069e+07\n",
       "2018  5.538666e+07\n",
       "2019  5.437662e+07\n",
       "2020  1.119304e+07\n",
       "2021  1.564319e+07"
      ]
     },
     "execution_count": 51,
     "metadata": {},
     "output_type": "execute_result"
    }
   ],
   "source": [
    "total_visits_perYear"
   ]
  },
  {
   "cell_type": "code",
   "execution_count": null,
   "metadata": {},
   "outputs": [],
   "source": []
  }
 ],
 "metadata": {
  "kernelspec": {
   "display_name": "Python 3 (ipykernel)",
   "language": "python",
   "name": "python3"
  },
  "language_info": {
   "codemirror_mode": {
    "name": "ipython",
    "version": 3
   },
   "file_extension": ".py",
   "mimetype": "text/x-python",
   "name": "python",
   "nbconvert_exporter": "python",
   "pygments_lexer": "ipython3",
   "version": "3.9.7"
  }
 },
 "nbformat": 4,
 "nbformat_minor": 2
}
